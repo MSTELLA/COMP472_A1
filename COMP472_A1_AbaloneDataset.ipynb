{
 "cells": [
  {
   "cell_type": "code",
   "execution_count": 20,
   "metadata": {},
   "outputs": [
    {
     "data": {
      "text/plain": [
       "'\\nGabrielle Guidote 40175182\\nMarie-Jose Castellanos 40168044\\nAmrit Sohpal 40176197\\n'"
      ]
     },
     "execution_count": 20,
     "metadata": {},
     "output_type": "execute_result"
    }
   ],
   "source": [
    "# Team Bean Burrito\n",
    "'''\n",
    "Gabrielle Guidote 40175182\n",
    "Marie-Jose Castellanos 40168044\n",
    "Amrit Sohpal 40176197\n",
    "'''\n",
    "# Assignment 1\n",
    "# Abalone Dataset\n",
    "# output file : abalone-performance.txt "
   ]
  },
  {
   "cell_type": "code",
   "execution_count": 21,
   "metadata": {},
   "outputs": [],
   "source": [
    "# Import Libraries\n",
    "import numpy as np\n",
    "import pandas as pd\n",
    "import matplotlib.pyplot as plt\n",
    "from sklearn.linear_model import LinearRegression\n",
    "from sklearn.preprocessing import LabelEncoder\n",
    "from sklearn.preprocessing import OneHotEncoder\n",
    "from sklearn.model_selection import train_test_split\n",
    "\n",
    "#4 a : DT\n",
    "from sklearn.tree import DecisionTreeClassifier\n",
    "from sklearn import tree\n",
    "\n",
    "#4 b : DT GridSearch\n",
    "from sklearn.model_selection import GridSearchCV\n",
    "\n",
    "#4 c: MLP\n",
    "from sklearn.neural_network import MLPClassifier\n",
    "\n",
    "# performance metrics\n",
    "from sklearn.metrics import confusion_matrix\n",
    "from sklearn.metrics import classification_report"
   ]
  },
  {
   "cell_type": "markdown",
   "metadata": {},
   "source": [
    "The Data sets"
   ]
  },
  {
   "cell_type": "markdown",
   "metadata": {},
   "source": [
    "DATASET 1 :  ABALONE"
   ]
  },
  {
   "cell_type": "code",
   "execution_count": 22,
   "metadata": {},
   "outputs": [
    {
     "name": "stdout",
     "output_type": "stream",
     "text": [
      "<class 'pandas.core.frame.DataFrame'>\n",
      "RangeIndex: 4177 entries, 0 to 4176\n",
      "Data columns (total 9 columns):\n",
      " #   Column         Non-Null Count  Dtype  \n",
      "---  ------         --------------  -----  \n",
      " 0   Type           4177 non-null   object \n",
      " 1   LongestShell   4177 non-null   float64\n",
      " 2   Diameter       4177 non-null   float64\n",
      " 3   Height         4177 non-null   float64\n",
      " 4   WholeWeight    4177 non-null   float64\n",
      " 5   ShuckedWeight  4177 non-null   float64\n",
      " 6   VisceraWeight  4177 non-null   float64\n",
      " 7   ShellWeight    4177 non-null   float64\n",
      " 8   Rings          4177 non-null   int64  \n",
      "dtypes: float64(7), int64(1), object(1)\n",
      "memory usage: 293.8+ KB\n"
     ]
    },
    {
     "data": {
      "text/html": [
       "<div>\n",
       "<style scoped>\n",
       "    .dataframe tbody tr th:only-of-type {\n",
       "        vertical-align: middle;\n",
       "    }\n",
       "\n",
       "    .dataframe tbody tr th {\n",
       "        vertical-align: top;\n",
       "    }\n",
       "\n",
       "    .dataframe thead th {\n",
       "        text-align: right;\n",
       "    }\n",
       "</style>\n",
       "<table border=\"1\" class=\"dataframe\">\n",
       "  <thead>\n",
       "    <tr style=\"text-align: right;\">\n",
       "      <th></th>\n",
       "      <th>Type</th>\n",
       "      <th>LongestShell</th>\n",
       "      <th>Diameter</th>\n",
       "      <th>Height</th>\n",
       "      <th>WholeWeight</th>\n",
       "      <th>ShuckedWeight</th>\n",
       "      <th>VisceraWeight</th>\n",
       "      <th>ShellWeight</th>\n",
       "      <th>Rings</th>\n",
       "    </tr>\n",
       "  </thead>\n",
       "  <tbody>\n",
       "    <tr>\n",
       "      <th>0</th>\n",
       "      <td>F</td>\n",
       "      <td>0.605</td>\n",
       "      <td>0.470</td>\n",
       "      <td>0.165</td>\n",
       "      <td>1.1775</td>\n",
       "      <td>0.6110</td>\n",
       "      <td>0.2275</td>\n",
       "      <td>0.2920</td>\n",
       "      <td>9</td>\n",
       "    </tr>\n",
       "    <tr>\n",
       "      <th>1</th>\n",
       "      <td>M</td>\n",
       "      <td>0.550</td>\n",
       "      <td>0.425</td>\n",
       "      <td>0.150</td>\n",
       "      <td>0.8315</td>\n",
       "      <td>0.4110</td>\n",
       "      <td>0.1765</td>\n",
       "      <td>0.2165</td>\n",
       "      <td>10</td>\n",
       "    </tr>\n",
       "    <tr>\n",
       "      <th>2</th>\n",
       "      <td>M</td>\n",
       "      <td>0.460</td>\n",
       "      <td>0.345</td>\n",
       "      <td>0.110</td>\n",
       "      <td>0.4595</td>\n",
       "      <td>0.2350</td>\n",
       "      <td>0.0885</td>\n",
       "      <td>0.1160</td>\n",
       "      <td>7</td>\n",
       "    </tr>\n",
       "    <tr>\n",
       "      <th>3</th>\n",
       "      <td>F</td>\n",
       "      <td>0.650</td>\n",
       "      <td>0.475</td>\n",
       "      <td>0.165</td>\n",
       "      <td>1.3875</td>\n",
       "      <td>0.5800</td>\n",
       "      <td>0.3485</td>\n",
       "      <td>0.3095</td>\n",
       "      <td>9</td>\n",
       "    </tr>\n",
       "    <tr>\n",
       "      <th>4</th>\n",
       "      <td>M</td>\n",
       "      <td>0.575</td>\n",
       "      <td>0.470</td>\n",
       "      <td>0.140</td>\n",
       "      <td>0.8375</td>\n",
       "      <td>0.3485</td>\n",
       "      <td>0.1735</td>\n",
       "      <td>0.2400</td>\n",
       "      <td>11</td>\n",
       "    </tr>\n",
       "  </tbody>\n",
       "</table>\n",
       "</div>"
      ],
      "text/plain": [
       "  Type  LongestShell  Diameter  Height  WholeWeight  ShuckedWeight   \n",
       "0    F         0.605     0.470   0.165       1.1775         0.6110  \\\n",
       "1    M         0.550     0.425   0.150       0.8315         0.4110   \n",
       "2    M         0.460     0.345   0.110       0.4595         0.2350   \n",
       "3    F         0.650     0.475   0.165       1.3875         0.5800   \n",
       "4    M         0.575     0.470   0.140       0.8375         0.3485   \n",
       "\n",
       "   VisceraWeight  ShellWeight  Rings  \n",
       "0         0.2275       0.2920      9  \n",
       "1         0.1765       0.2165     10  \n",
       "2         0.0885       0.1160      7  \n",
       "3         0.3485       0.3095      9  \n",
       "4         0.1735       0.2400     11  "
      ]
     },
     "execution_count": 22,
     "metadata": {},
     "output_type": "execute_result"
    }
   ],
   "source": [
    "# data regarding Abalones.contains features of physical description of abalones (length, diameter, weights, etc) and one of 3 possible values for their\n",
    "# sex: M (male), F (female), I (infant). Given the physical features of the abalone, the goal is to predict their sex.\n",
    "df = pd.read_csv(\"abalone.csv\")\n",
    "df.info()\n",
    "df.head()\n",
    "# All features are numerical. Only the classes are string. No changes necessary."
   ]
  },
  {
   "cell_type": "markdown",
   "metadata": {},
   "source": [
    "2. Plot the percentage of the instances in each output class and store the graphic in a file called penguin-classes.gif\n",
    "/ abalone-classes.gif. This analysis of the dataset will allow you to determine if the classes are balanced.\n",
    "Which metric is more appropriate to use to evaluate the performance. Be ready to discuss this at the demo."
   ]
  },
  {
   "cell_type": "code",
   "execution_count": 23,
   "metadata": {},
   "outputs": [
    {
     "data": {
      "image/png": "[encoded data removed]",
      "text/plain": [
       "<Figure size 640x480 with 1 Axes>"
      ]
     },
     "metadata": {},
     "output_type": "display_data"
    }
   ],
   "source": [
    "class_count = df['Type'].value_counts()\n",
    "plt.pie(class_count, labels=class_count.index, autopct='%1.1f%%') # TODO : CAHNGE TYPE?? COLOR? HARD TO SEE SAVED IMAGE\n",
    "plt.title('Distribution of Type')\n",
    "# plt.show()\n",
    "\n",
    "# save image (she said not .gif is ok)\n",
    "plt.savefig('abalone-classes.png')"
   ]
  },
  {
   "cell_type": "markdown",
   "metadata": {},
   "source": [
    "3. Split the dataset using train test split using the default parameter values"
   ]
  },
  {
   "cell_type": "code",
   "execution_count": 24,
   "metadata": {},
   "outputs": [],
   "source": [
    "X =  df.loc[:, df.columns != 'Type']\n",
    "y = df['Type']\n",
    "\n",
    "X_train, X_test, y_train, y_test = train_test_split(X, y, test_size = 0.25)"
   ]
  },
  {
   "cell_type": "markdown",
   "metadata": {},
   "source": [
    "4. Train and test 4 different classifiers:"
   ]
  },
  {
   "cell_type": "markdown",
   "metadata": {},
   "source": [
    "# Base DT\n",
    "(a) Base-DT: a Decision Tree with the default parameters. Show the decision tree graphically (for the\n",
    "abalone dataset, you can restrict the tree depth for visualisation purposes)"
   ]
  },
  {
   "cell_type": "code",
   "execution_count": 25,
   "metadata": {},
   "outputs": [
    {
     "data": {
      "text/html": [
       "<style>#sk-container-id-3 {color: black;background-color: white;}#sk-container-id-3 pre{padding: 0;}#sk-container-id-3 div.sk-toggleable {background-color: white;}#sk-container-id-3 label.sk-toggleable__label {cursor: pointer;display: block;width: 100%;margin-bottom: 0;padding: 0.3em;box-sizing: border-box;text-align: center;}#sk-container-id-3 label.sk-toggleable__label-arrow:before {content: \"▸\";float: left;margin-right: 0.25em;color: #696969;}#sk-container-id-3 label.sk-toggleable__label-arrow:hover:before {color: black;}#sk-container-id-3 div.sk-estimator:hover label.sk-toggleable__label-arrow:before {color: black;}#sk-container-id-3 div.sk-toggleable__content {max-height: 0;max-width: 0;overflow: hidden;text-align: left;background-color: #f0f8ff;}#sk-container-id-3 div.sk-toggleable__content pre {margin: 0.2em;color: black;border-radius: 0.25em;background-color: #f0f8ff;}#sk-container-id-3 input.sk-toggleable__control:checked~div.sk-toggleable__content {max-height: 200px;max-width: 100%;overflow: auto;}#sk-container-id-3 input.sk-toggleable__control:checked~label.sk-toggleable__label-arrow:before {content: \"▾\";}#sk-container-id-3 div.sk-estimator input.sk-toggleable__control:checked~label.sk-toggleable__label {background-color: #d4ebff;}#sk-container-id-3 div.sk-label input.sk-toggleable__control:checked~label.sk-toggleable__label {background-color: #d4ebff;}#sk-container-id-3 input.sk-hidden--visually {border: 0;clip: rect(1px 1px 1px 1px);clip: rect(1px, 1px, 1px, 1px);height: 1px;margin: -1px;overflow: hidden;padding: 0;position: absolute;width: 1px;}#sk-container-id-3 div.sk-estimator {font-family: monospace;background-color: #f0f8ff;border: 1px dotted black;border-radius: 0.25em;box-sizing: border-box;margin-bottom: 0.5em;}#sk-container-id-3 div.sk-estimator:hover {background-color: #d4ebff;}#sk-container-id-3 div.sk-parallel-item::after {content: \"\";width: 100%;border-bottom: 1px solid gray;flex-grow: 1;}#sk-container-id-3 div.sk-label:hover label.sk-toggleable__label {background-color: #d4ebff;}#sk-container-id-3 div.sk-serial::before {content: \"\";position: absolute;border-left: 1px solid gray;box-sizing: border-box;top: 0;bottom: 0;left: 50%;z-index: 0;}#sk-container-id-3 div.sk-serial {display: flex;flex-direction: column;align-items: center;background-color: white;padding-right: 0.2em;padding-left: 0.2em;position: relative;}#sk-container-id-3 div.sk-item {position: relative;z-index: 1;}#sk-container-id-3 div.sk-parallel {display: flex;align-items: stretch;justify-content: center;background-color: white;position: relative;}#sk-container-id-3 div.sk-item::before, #sk-container-id-3 div.sk-parallel-item::before {content: \"\";position: absolute;border-left: 1px solid gray;box-sizing: border-box;top: 0;bottom: 0;left: 50%;z-index: -1;}#sk-container-id-3 div.sk-parallel-item {display: flex;flex-direction: column;z-index: 1;position: relative;background-color: white;}#sk-container-id-3 div.sk-parallel-item:first-child::after {align-self: flex-end;width: 50%;}#sk-container-id-3 div.sk-parallel-item:last-child::after {align-self: flex-start;width: 50%;}#sk-container-id-3 div.sk-parallel-item:only-child::after {width: 0;}#sk-container-id-3 div.sk-dashed-wrapped {border: 1px dashed gray;margin: 0 0.4em 0.5em 0.4em;box-sizing: border-box;padding-bottom: 0.4em;background-color: white;}#sk-container-id-3 div.sk-label label {font-family: monospace;font-weight: bold;display: inline-block;line-height: 1.2em;}#sk-container-id-3 div.sk-label-container {text-align: center;}#sk-container-id-3 div.sk-container {/* jupyter's `normalize.less` sets `[hidden] { display: none; }` but bootstrap.min.css set `[hidden] { display: none !important; }` so we also need the `!important` here to be able to override the default hidden behavior on the sphinx rendered scikit-learn.org. See: https://github.com/scikit-learn/scikit-learn/issues/21755 */display: inline-block !important;position: relative;}#sk-container-id-3 div.sk-text-repr-fallback {display: none;}</style><div id=\"sk-container-id-3\" class=\"sk-top-container\"><div class=\"sk-text-repr-fallback\"><pre>DecisionTreeClassifier()</pre><b>In a Jupyter environment, please rerun this cell to show the HTML representation or trust the notebook. <br />On GitHub, the HTML representation is unable to render, please try loading this page with nbviewer.org.</b></div><div class=\"sk-container\" hidden><div class=\"sk-item\"><div class=\"sk-estimator sk-toggleable\"><input class=\"sk-toggleable__control sk-hidden--visually\" id=\"sk-estimator-id-3\" type=\"checkbox\" checked><label for=\"sk-estimator-id-3\" class=\"sk-toggleable__label sk-toggleable__label-arrow\">DecisionTreeClassifier</label><div class=\"sk-toggleable__content\"><pre>DecisionTreeClassifier()</pre></div></div></div></div></div>"
      ],
      "text/plain": [
       "DecisionTreeClassifier()"
      ]
     },
     "execution_count": 25,
     "metadata": {},
     "output_type": "execute_result"
    }
   ],
   "source": [
    "# Training base DT\n",
    "base_DT_d2 = DecisionTreeClassifier()\n",
    "base_DT_d2.fit(X_train, y_train)"
   ]
  },
  {
   "cell_type": "code",
   "execution_count": 26,
   "metadata": {},
   "outputs": [
    {
     "data": {
      "text/plain": [
       "[Text(0.5058139534883721, 0.9285714285714286, 'x[5] <= 0.148\\ngini = 0.665\\nsamples = 3132\\nvalue = [970, 1010, 1152]'),\n",
       " Text(0.28924418604651164, 0.7857142857142857, 'x[7] <= 8.5\\ngini = 0.535\\nsamples = 1335\\nvalue = [201, 837, 297]'),\n",
       " Text(0.14244186046511628, 0.6428571428571429, 'x[6] <= 0.128\\ngini = 0.371\\nsamples = 850\\nvalue = [57, 658, 135]'),\n",
       " Text(0.0755813953488372, 0.5, 'x[5] <= 0.124\\ngini = 0.275\\nsamples = 613\\nvalue = [22, 516, 75]'),\n",
       " Text(0.046511627906976744, 0.35714285714285715, 'x[1] <= 0.273\\ngini = 0.268\\nsamples = 607\\nvalue = [22, 514, 71]'),\n",
       " Text(0.023255813953488372, 0.21428571428571427, 'x[5] <= 0.048\\ngini = 0.313\\nsamples = 313\\nvalue = [7, 254, 52]'),\n",
       " Text(0.011627906976744186, 0.07142857142857142, '\\n  (...)  \\n'),\n",
       " Text(0.03488372093023256, 0.07142857142857142, '\\n  (...)  \\n'),\n",
       " Text(0.06976744186046512, 0.21428571428571427, 'x[2] <= 0.107\\ngini = 0.211\\nsamples = 294\\nvalue = [15, 260, 19]'),\n",
       " Text(0.05813953488372093, 0.07142857142857142, '\\n  (...)  \\n'),\n",
       " Text(0.08139534883720931, 0.07142857142857142, '\\n  (...)  \\n'),\n",
       " Text(0.10465116279069768, 0.35714285714285715, 'x[6] <= 0.126\\ngini = 0.444\\nsamples = 6\\nvalue = [0, 2, 4]'),\n",
       " Text(0.09302325581395349, 0.21428571428571427, 'gini = 0.0\\nsamples = 4\\nvalue = [0, 0, 4]'),\n",
       " Text(0.11627906976744186, 0.21428571428571427, 'gini = 0.0\\nsamples = 2\\nvalue = [0, 2, 0]'),\n",
       " Text(0.20930232558139536, 0.5, 'x[3] <= 0.639\\ngini = 0.555\\nsamples = 237\\nvalue = [35, 142, 60]'),\n",
       " Text(0.16279069767441862, 0.35714285714285715, 'x[0] <= 0.472\\ngini = 0.528\\nsamples = 202\\nvalue = [29, 128, 45]'),\n",
       " Text(0.13953488372093023, 0.21428571428571427, 'x[7] <= 6.5\\ngini = 0.623\\nsamples = 74\\nvalue = [16, 37, 21]'),\n",
       " Text(0.12790697674418605, 0.07142857142857142, '\\n  (...)  \\n'),\n",
       " Text(0.1511627906976744, 0.07142857142857142, '\\n  (...)  \\n'),\n",
       " Text(0.18604651162790697, 0.21428571428571427, 'x[4] <= 0.218\\ngini = 0.449\\nsamples = 128\\nvalue = [13, 91, 24]'),\n",
       " Text(0.1744186046511628, 0.07142857142857142, '\\n  (...)  \\n'),\n",
       " Text(0.19767441860465115, 0.07142857142857142, '\\n  (...)  \\n'),\n",
       " Text(0.2558139534883721, 0.35714285714285715, 'x[5] <= 0.133\\ngini = 0.627\\nsamples = 35\\nvalue = [6, 14, 15]'),\n",
       " Text(0.23255813953488372, 0.21428571428571427, 'x[5] <= 0.117\\ngini = 0.643\\nsamples = 14\\nvalue = [6, 3, 5]'),\n",
       " Text(0.22093023255813954, 0.07142857142857142, '\\n  (...)  \\n'),\n",
       " Text(0.2441860465116279, 0.07142857142857142, '\\n  (...)  \\n'),\n",
       " Text(0.27906976744186046, 0.21428571428571427, 'x[0] <= 0.537\\ngini = 0.499\\nsamples = 21\\nvalue = [0, 11, 10]'),\n",
       " Text(0.26744186046511625, 0.07142857142857142, '\\n  (...)  \\n'),\n",
       " Text(0.29069767441860467, 0.07142857142857142, '\\n  (...)  \\n'),\n",
       " Text(0.436046511627907, 0.6428571428571429, 'x[7] <= 9.5\\ngini = 0.664\\nsamples = 485\\nvalue = [144, 179, 162]'),\n",
       " Text(0.36627906976744184, 0.5, 'x[0] <= 0.453\\ngini = 0.599\\nsamples = 188\\nvalue = [32, 100, 56]'),\n",
       " Text(0.3372093023255814, 0.35714285714285715, 'x[5] <= 0.107\\ngini = 0.641\\nsamples = 71\\nvalue = [16, 23, 32]'),\n",
       " Text(0.32558139534883723, 0.21428571428571427, 'x[6] <= 0.057\\ngini = 0.628\\nsamples = 68\\nvalue = [13, 23, 32]'),\n",
       " Text(0.313953488372093, 0.07142857142857142, '\\n  (...)  \\n'),\n",
       " Text(0.3372093023255814, 0.07142857142857142, '\\n  (...)  \\n'),\n",
       " Text(0.3488372093023256, 0.21428571428571427, 'gini = 0.0\\nsamples = 3\\nvalue = [3, 0, 0]'),\n",
       " Text(0.3953488372093023, 0.35714285714285715, 'x[3] <= 0.772\\ngini = 0.506\\nsamples = 117\\nvalue = [16, 77, 24]'),\n",
       " Text(0.37209302325581395, 0.21428571428571427, 'x[2] <= 0.148\\ngini = 0.475\\nsamples = 110\\nvalue = [16, 76, 18]'),\n",
       " Text(0.36046511627906974, 0.07142857142857142, '\\n  (...)  \\n'),\n",
       " Text(0.38372093023255816, 0.07142857142857142, '\\n  (...)  \\n'),\n",
       " Text(0.4186046511627907, 0.21428571428571427, 'x[2] <= 0.163\\ngini = 0.245\\nsamples = 7\\nvalue = [0, 1, 6]'),\n",
       " Text(0.4069767441860465, 0.07142857142857142, '\\n  (...)  \\n'),\n",
       " Text(0.43023255813953487, 0.07142857142857142, '\\n  (...)  \\n'),\n",
       " Text(0.5058139534883721, 0.5, 'x[4] <= 0.073\\ngini = 0.66\\nsamples = 297\\nvalue = [112, 79, 106]'),\n",
       " Text(0.47674418604651164, 0.35714285714285715, 'x[7] <= 12.5\\ngini = 0.231\\nsamples = 15\\nvalue = [0, 2, 13]'),\n",
       " Text(0.46511627906976744, 0.21428571428571427, 'x[5] <= 0.035\\ngini = 0.133\\nsamples = 14\\nvalue = [0, 1, 13]'),\n",
       " Text(0.45348837209302323, 0.07142857142857142, '\\n  (...)  \\n'),\n",
       " Text(0.47674418604651164, 0.07142857142857142, '\\n  (...)  \\n'),\n",
       " Text(0.4883720930232558, 0.21428571428571427, 'gini = 0.0\\nsamples = 1\\nvalue = [0, 1, 0]'),\n",
       " Text(0.5348837209302325, 0.35714285714285715, 'x[0] <= 0.512\\ngini = 0.659\\nsamples = 282\\nvalue = [112, 77, 93]'),\n",
       " Text(0.5116279069767442, 0.21428571428571427, 'x[3] <= 0.53\\ngini = 0.643\\nsamples = 219\\nvalue = [96, 48, 75]'),\n",
       " Text(0.5, 0.07142857142857142, '\\n  (...)  \\n'),\n",
       " Text(0.5232558139534884, 0.07142857142857142, '\\n  (...)  \\n'),\n",
       " Text(0.5581395348837209, 0.21428571428571427, 'x[3] <= 0.676\\ngini = 0.642\\nsamples = 63\\nvalue = [16, 29, 18]'),\n",
       " Text(0.5465116279069767, 0.07142857142857142, '\\n  (...)  \\n'),\n",
       " Text(0.5697674418604651, 0.07142857142857142, '\\n  (...)  \\n'),\n",
       " Text(0.7223837209302325, 0.7857142857142857, 'x[3] <= 0.99\\ngini = 0.581\\nsamples = 1797\\nvalue = [769, 173, 855]'),\n",
       " Text(0.6046511627906976, 0.6428571428571429, 'x[6] <= 0.12\\ngini = 0.634\\nsamples = 685\\nvalue = [241, 135, 309]'),\n",
       " Text(0.5930232558139535, 0.5, 'gini = 0.0\\nsamples = 3\\nvalue = [0, 3, 0]'),\n",
       " Text(0.6162790697674418, 0.5, 'x[6] <= 0.14\\ngini = 0.632\\nsamples = 682\\nvalue = [241, 132, 309]'),\n",
       " Text(0.6046511627906976, 0.35714285714285715, 'gini = 0.0\\nsamples = 8\\nvalue = [0, 0, 8]'),\n",
       " Text(0.627906976744186, 0.35714285714285715, 'x[3] <= 0.845\\ngini = 0.634\\nsamples = 674\\nvalue = [241, 132, 301]'),\n",
       " Text(0.6046511627906976, 0.21428571428571427, 'x[0] <= 0.538\\ngini = 0.652\\nsamples = 349\\nvalue = [126, 83, 140]'),\n",
       " Text(0.5930232558139535, 0.07142857142857142, '\\n  (...)  \\n'),\n",
       " Text(0.6162790697674418, 0.07142857142857142, '\\n  (...)  \\n'),\n",
       " Text(0.6511627906976745, 0.21428571428571427, 'x[1] <= 0.458\\ngini = 0.607\\nsamples = 325\\nvalue = [115, 49, 161]'),\n",
       " Text(0.6395348837209303, 0.07142857142857142, '\\n  (...)  \\n'),\n",
       " Text(0.6627906976744186, 0.07142857142857142, '\\n  (...)  \\n'),\n",
       " Text(0.8401162790697675, 0.6428571428571429, 'x[4] <= 0.873\\ngini = 0.532\\nsamples = 1112\\nvalue = [528, 38, 546]'),\n",
       " Text(0.7674418604651163, 0.5, 'x[5] <= 0.285\\ngini = 0.534\\nsamples = 1039\\nvalue = [507, 38, 494]'),\n",
       " Text(0.7209302325581395, 0.35714285714285715, 'x[3] <= 1.005\\ngini = 0.543\\nsamples = 561\\nvalue = [245, 28, 288]'),\n",
       " Text(0.6976744186046512, 0.21428571428571427, 'x[5] <= 0.173\\ngini = 0.426\\nsamples = 28\\nvalue = [20, 1, 7]'),\n",
       " Text(0.686046511627907, 0.07142857142857142, '\\n  (...)  \\n'),\n",
       " Text(0.7093023255813954, 0.07142857142857142, '\\n  (...)  \\n'),\n",
       " Text(0.7441860465116279, 0.21428571428571427, 'x[6] <= 0.287\\ngini = 0.541\\nsamples = 533\\nvalue = [225, 27, 281]'),\n",
       " Text(0.7325581395348837, 0.07142857142857142, '\\n  (...)  \\n'),\n",
       " Text(0.7558139534883721, 0.07142857142857142, '\\n  (...)  \\n'),\n",
       " Text(0.813953488372093, 0.35714285714285715, 'x[1] <= 0.543\\ngini = 0.513\\nsamples = 478\\nvalue = [262, 10, 206]'),\n",
       " Text(0.7906976744186046, 0.21428571428571427, 'x[3] <= 1.293\\ngini = 0.522\\nsamples = 370\\nvalue = [192, 9, 169]'),\n",
       " Text(0.7790697674418605, 0.07142857142857142, '\\n  (...)  \\n'),\n",
       " Text(0.8023255813953488, 0.07142857142857142, '\\n  (...)  \\n'),\n",
       " Text(0.8372093023255814, 0.21428571428571427, 'x[5] <= 0.372\\ngini = 0.462\\nsamples = 108\\nvalue = [70, 1, 37]'),\n",
       " Text(0.8255813953488372, 0.07142857142857142, '\\n  (...)  \\n'),\n",
       " Text(0.8488372093023255, 0.07142857142857142, '\\n  (...)  \\n'),\n",
       " Text(0.9127906976744186, 0.5, 'x[6] <= 0.537\\ngini = 0.41\\nsamples = 73\\nvalue = [21, 0, 52]'),\n",
       " Text(0.872093023255814, 0.35714285714285715, 'x[0] <= 0.577\\ngini = 0.292\\nsamples = 45\\nvalue = [8, 0, 37]'),\n",
       " Text(0.8604651162790697, 0.21428571428571427, 'gini = 0.0\\nsamples = 1\\nvalue = [1, 0, 0]'),\n",
       " Text(0.8837209302325582, 0.21428571428571427, 'x[0] <= 0.752\\ngini = 0.268\\nsamples = 44\\nvalue = [7, 0, 37]'),\n",
       " Text(0.872093023255814, 0.07142857142857142, '\\n  (...)  \\n'),\n",
       " Text(0.8953488372093024, 0.07142857142857142, '\\n  (...)  \\n'),\n",
       " Text(0.9534883720930233, 0.35714285714285715, 'x[7] <= 11.5\\ngini = 0.497\\nsamples = 28\\nvalue = [13, 0, 15]'),\n",
       " Text(0.9302325581395349, 0.21428571428571427, 'x[5] <= 0.521\\ngini = 0.444\\nsamples = 12\\nvalue = [8, 0, 4]'),\n",
       " Text(0.9186046511627907, 0.07142857142857142, '\\n  (...)  \\n'),\n",
       " Text(0.9418604651162791, 0.07142857142857142, '\\n  (...)  \\n'),\n",
       " Text(0.9767441860465116, 0.21428571428571427, 'x[4] <= 0.954\\ngini = 0.43\\nsamples = 16\\nvalue = [5, 0, 11]'),\n",
       " Text(0.9651162790697675, 0.07142857142857142, '\\n  (...)  \\n'),\n",
       " Text(0.9883720930232558, 0.07142857142857142, '\\n  (...)  \\n')]"
      ]
     },
     "execution_count": 26,
     "metadata": {},
     "output_type": "execute_result"
    },
    {
     "data": {
      "image/png": "[encoded data removed]",
      "text/plain": [
       "<Figure size 640x480 with 1 Axes>"
      ]
     },
     "metadata": {},
     "output_type": "display_data"
    }
   ],
   "source": [
    "# Tree Visualization : https://scikit-learn.org/stable/modules/generated/sklearn.tree.plot_tree.html TODO : change figure size because its really tiny\n",
    "tree.plot_tree(base_DT_d2, max_depth=5)"
   ]
  },
  {
   "cell_type": "code",
   "execution_count": 27,
   "metadata": {},
   "outputs": [],
   "source": [
    "# Testing base DT\n",
    "predictions2 = base_DT_d2.predict(X_test)"
   ]
  },
  {
   "cell_type": "code",
   "execution_count": 28,
   "metadata": {},
   "outputs": [
    {
     "name": "stdout",
     "output_type": "stream",
     "text": [
      "[[136  54 147]\n",
      " [ 50 223  59]\n",
      " [144  82 150]]\n",
      "              precision    recall  f1-score   support\n",
      "\n",
      "           F       0.41      0.40      0.41       337\n",
      "           I       0.62      0.67      0.65       332\n",
      "           M       0.42      0.40      0.41       376\n",
      "\n",
      "    accuracy                           0.49      1045\n",
      "   macro avg       0.48      0.49      0.49      1045\n",
      "weighted avg       0.48      0.49      0.48      1045\n"
     ]
    }
   ],
   "source": [
    "# Performance\n",
    "print(confusion_matrix(y_test, predictions2))\n",
    "\n",
    "print(classification_report(y_test, predictions2))"
   ]
  },
  {
   "cell_type": "code",
   "execution_count": 29,
   "metadata": {},
   "outputs": [],
   "source": [
    "# Output file\n",
    "# (A) a clear separator (a sequence of hyphens or stars) and a string clearly describing the model \n",
    "    # (e.g. the model name + hyper-parameter values that you changed). In the case of Top-DT and Top-MLP,\n",
    "    # display the best hyperparameters found by the gridsearch.\n",
    "\n",
    "# (B) the confusion matrix\n",
    "\n",
    "# (C) the precision, recall, and F1-measure for each class\n",
    "\n",
    "# (D) the accuracy, macro-average F1 and weighted-average F1 of the model"
   ]
  },
  {
   "cell_type": "markdown",
   "metadata": {},
   "source": [
    "# TOP DT\n",
    "(b) Top-DT: a better performing Decision Tree found using a gridsearch. The gridsearch will allow you\n",
    "to find the best combination of hyper-parameters, as determined by the evaluation function that you\n",
    "have determined in step (3) above. The hyper-parameters that you will experiment with are:\n",
    "• criterion: gini or entropy\n",
    "• max depth : 2 different values of your choice and ”None”\n",
    "• min samples split: 3 different values of your choice\n",
    "Show the decision tree graphically (for the abalone dataset, you can restrict the tree depth for visualisation purposes)"
   ]
  },
  {
   "cell_type": "code",
   "execution_count": 30,
   "metadata": {},
   "outputs": [
    {
     "name": "stdout",
     "output_type": "stream",
     "text": [
      "{'criterion': 'entropy', 'max_depth': 3, 'min_samples_split': 2}\n"
     ]
    }
   ],
   "source": [
    "# Training top DT\n",
    "parameters = {'criterion':['gini','entropy'], 'max_depth':[3,10,None], 'min_samples_split':[2,5,10]}\n",
    "\n",
    "top_DT_d2 = DecisionTreeClassifier()\n",
    "top_DT_d2 = GridSearchCV(top_DT_d2, parameters)\n",
    "\n",
    "top_DT_d2.fit(X_train, y_train)\n",
    "\n",
    "print(top_DT_d2.best_params_)"
   ]
  },
  {
   "cell_type": "code",
   "execution_count": 31,
   "metadata": {},
   "outputs": [],
   "source": [
    "# Testing base DT\n",
    "predictions = top_DT_d2.predict(X_test)"
   ]
  },
  {
   "cell_type": "code",
   "execution_count": 32,
   "metadata": {},
   "outputs": [
    {
     "name": "stdout",
     "output_type": "stream",
     "text": [
      "[[214  41  82]\n",
      " [ 40 244  48]\n",
      " [212  60 104]]\n",
      "              precision    recall  f1-score   support\n",
      "\n",
      "           F       0.46      0.64      0.53       337\n",
      "           I       0.71      0.73      0.72       332\n",
      "           M       0.44      0.28      0.34       376\n",
      "\n",
      "    accuracy                           0.54      1045\n",
      "   macro avg       0.54      0.55      0.53      1045\n",
      "weighted avg       0.53      0.54      0.52      1045\n"
     ]
    }
   ],
   "source": [
    "# Performance\n",
    "print(confusion_matrix(y_test, predictions))\n",
    "\n",
    "print(classification_report(y_test, predictions))"
   ]
  },
  {
   "cell_type": "code",
   "execution_count": 33,
   "metadata": {},
   "outputs": [],
   "source": [
    "# Output file\n",
    "# (A) a clear separator (a sequence of hyphens or stars) and a string clearly describing the model \n",
    "    # (e.g. the model name + hyper-parameter values that you changed). In the case of Top-DT and Top-MLP,\n",
    "    # display the best hyperparameters found by the gridsearch.\n",
    "\n",
    "# (B) the confusion matrix\n",
    "\n",
    "# (C) the precision, recall, and F1-measure for each class\n",
    "\n",
    "# (D) the accuracy, macro-average F1 and weighted-average F1 of the model"
   ]
  },
  {
   "cell_type": "markdown",
   "metadata": {},
   "source": [
    "# BASE MLP\n",
    "(c) Base-MLP: a Multi-Layered Perceptron with 2 hidden layers of 100+100 neurons, sigmoid/logistic\n",
    "as activation function, stochastic gradient descent, and default values for the rest of the parameters"
   ]
  },
  {
   "cell_type": "code",
   "execution_count": 34,
   "metadata": {},
   "outputs": [
    {
     "name": "stderr",
     "output_type": "stream",
     "text": [
      "/opt/homebrew/lib/python3.11/site-packages/sklearn/neural_network/_multilayer_perceptron.py:693: UserWarning: Training interrupted by user.\n",
      "  warnings.warn(\"Training interrupted by user.\")\n"
     ]
    },
    {
     "data": {
      "text/html": [
       "<style>#sk-container-id-4 {color: black;background-color: white;}#sk-container-id-4 pre{padding: 0;}#sk-container-id-4 div.sk-toggleable {background-color: white;}#sk-container-id-4 label.sk-toggleable__label {cursor: pointer;display: block;width: 100%;margin-bottom: 0;padding: 0.3em;box-sizing: border-box;text-align: center;}#sk-container-id-4 label.sk-toggleable__label-arrow:before {content: \"▸\";float: left;margin-right: 0.25em;color: #696969;}#sk-container-id-4 label.sk-toggleable__label-arrow:hover:before {color: black;}#sk-container-id-4 div.sk-estimator:hover label.sk-toggleable__label-arrow:before {color: black;}#sk-container-id-4 div.sk-toggleable__content {max-height: 0;max-width: 0;overflow: hidden;text-align: left;background-color: #f0f8ff;}#sk-container-id-4 div.sk-toggleable__content pre {margin: 0.2em;color: black;border-radius: 0.25em;background-color: #f0f8ff;}#sk-container-id-4 input.sk-toggleable__control:checked~div.sk-toggleable__content {max-height: 200px;max-width: 100%;overflow: auto;}#sk-container-id-4 input.sk-toggleable__control:checked~label.sk-toggleable__label-arrow:before {content: \"▾\";}#sk-container-id-4 div.sk-estimator input.sk-toggleable__control:checked~label.sk-toggleable__label {background-color: #d4ebff;}#sk-container-id-4 div.sk-label input.sk-toggleable__control:checked~label.sk-toggleable__label {background-color: #d4ebff;}#sk-container-id-4 input.sk-hidden--visually {border: 0;clip: rect(1px 1px 1px 1px);clip: rect(1px, 1px, 1px, 1px);height: 1px;margin: -1px;overflow: hidden;padding: 0;position: absolute;width: 1px;}#sk-container-id-4 div.sk-estimator {font-family: monospace;background-color: #f0f8ff;border: 1px dotted black;border-radius: 0.25em;box-sizing: border-box;margin-bottom: 0.5em;}#sk-container-id-4 div.sk-estimator:hover {background-color: #d4ebff;}#sk-container-id-4 div.sk-parallel-item::after {content: \"\";width: 100%;border-bottom: 1px solid gray;flex-grow: 1;}#sk-container-id-4 div.sk-label:hover label.sk-toggleable__label {background-color: #d4ebff;}#sk-container-id-4 div.sk-serial::before {content: \"\";position: absolute;border-left: 1px solid gray;box-sizing: border-box;top: 0;bottom: 0;left: 50%;z-index: 0;}#sk-container-id-4 div.sk-serial {display: flex;flex-direction: column;align-items: center;background-color: white;padding-right: 0.2em;padding-left: 0.2em;position: relative;}#sk-container-id-4 div.sk-item {position: relative;z-index: 1;}#sk-container-id-4 div.sk-parallel {display: flex;align-items: stretch;justify-content: center;background-color: white;position: relative;}#sk-container-id-4 div.sk-item::before, #sk-container-id-4 div.sk-parallel-item::before {content: \"\";position: absolute;border-left: 1px solid gray;box-sizing: border-box;top: 0;bottom: 0;left: 50%;z-index: -1;}#sk-container-id-4 div.sk-parallel-item {display: flex;flex-direction: column;z-index: 1;position: relative;background-color: white;}#sk-container-id-4 div.sk-parallel-item:first-child::after {align-self: flex-end;width: 50%;}#sk-container-id-4 div.sk-parallel-item:last-child::after {align-self: flex-start;width: 50%;}#sk-container-id-4 div.sk-parallel-item:only-child::after {width: 0;}#sk-container-id-4 div.sk-dashed-wrapped {border: 1px dashed gray;margin: 0 0.4em 0.5em 0.4em;box-sizing: border-box;padding-bottom: 0.4em;background-color: white;}#sk-container-id-4 div.sk-label label {font-family: monospace;font-weight: bold;display: inline-block;line-height: 1.2em;}#sk-container-id-4 div.sk-label-container {text-align: center;}#sk-container-id-4 div.sk-container {/* jupyter's `normalize.less` sets `[hidden] { display: none; }` but bootstrap.min.css set `[hidden] { display: none !important; }` so we also need the `!important` here to be able to override the default hidden behavior on the sphinx rendered scikit-learn.org. See: https://github.com/scikit-learn/scikit-learn/issues/21755 */display: inline-block !important;position: relative;}#sk-container-id-4 div.sk-text-repr-fallback {display: none;}</style><div id=\"sk-container-id-4\" class=\"sk-top-container\"><div class=\"sk-text-repr-fallback\"><pre>MLPClassifier(activation=&#x27;logistic&#x27;, hidden_layer_sizes=(100, 100),\n",
       "              solver=&#x27;sgd&#x27;)</pre><b>In a Jupyter environment, please rerun this cell to show the HTML representation or trust the notebook. <br />On GitHub, the HTML representation is unable to render, please try loading this page with nbviewer.org.</b></div><div class=\"sk-container\" hidden><div class=\"sk-item\"><div class=\"sk-estimator sk-toggleable\"><input class=\"sk-toggleable__control sk-hidden--visually\" id=\"sk-estimator-id-4\" type=\"checkbox\" checked><label for=\"sk-estimator-id-4\" class=\"sk-toggleable__label sk-toggleable__label-arrow\">MLPClassifier</label><div class=\"sk-toggleable__content\"><pre>MLPClassifier(activation=&#x27;logistic&#x27;, hidden_layer_sizes=(100, 100),\n",
       "              solver=&#x27;sgd&#x27;)</pre></div></div></div></div></div>"
      ],
      "text/plain": [
       "MLPClassifier(activation='logistic', hidden_layer_sizes=(100, 100),\n",
       "              solver='sgd')"
      ]
     },
     "execution_count": 34,
     "metadata": {},
     "output_type": "execute_result"
    }
   ],
   "source": [
    "# Training base MLP\n",
    "base_MLP_d2 = MLPClassifier(hidden_layer_sizes=(100,100), activation='logistic', solver='sgd')\n",
    "base_MLP_d2.fit(X_train, y_train)"
   ]
  },
  {
   "cell_type": "code",
   "execution_count": null,
   "metadata": {},
   "outputs": [],
   "source": [
    "# Testing base MLP\n",
    "predictions = base_MLP_d2.predict(X_test)"
   ]
  },
  {
   "cell_type": "code",
   "execution_count": null,
   "metadata": {},
   "outputs": [
    {
     "name": "stdout",
     "output_type": "stream",
     "text": [
      "[[  0  29 295]\n",
      " [  0 222 119]\n",
      " [  0  57 323]]\n",
      "              precision    recall  f1-score   support\n",
      "\n",
      "           F       0.00      0.00      0.00       324\n",
      "           I       0.72      0.65      0.68       341\n",
      "           M       0.44      0.85      0.58       380\n",
      "\n",
      "    accuracy                           0.52      1045\n",
      "   macro avg       0.39      0.50      0.42      1045\n",
      "weighted avg       0.39      0.52      0.43      1045\n"
     ]
    },
    {
     "name": "stderr",
     "output_type": "stream",
     "text": [
      "/opt/homebrew/lib/python3.11/site-packages/sklearn/metrics/_classification.py:1344: UndefinedMetricWarning: Precision and F-score are ill-defined and being set to 0.0 in labels with no predicted samples. Use `zero_division` parameter to control this behavior.\n",
      "  _warn_prf(average, modifier, msg_start, len(result))\n",
      "/opt/homebrew/lib/python3.11/site-packages/sklearn/metrics/_classification.py:1344: UndefinedMetricWarning: Precision and F-score are ill-defined and being set to 0.0 in labels with no predicted samples. Use `zero_division` parameter to control this behavior.\n",
      "  _warn_prf(average, modifier, msg_start, len(result))\n",
      "/opt/homebrew/lib/python3.11/site-packages/sklearn/metrics/_classification.py:1344: UndefinedMetricWarning: Precision and F-score are ill-defined and being set to 0.0 in labels with no predicted samples. Use `zero_division` parameter to control this behavior.\n",
      "  _warn_prf(average, modifier, msg_start, len(result))\n"
     ]
    }
   ],
   "source": [
    "# Performance TODO : VERY BAD AND HAS A WARNING>>> RECHECK STUFF\n",
    "print(confusion_matrix(y_test, predictions))\n",
    "\n",
    "print(classification_report(y_test, predictions))"
   ]
  },
  {
   "cell_type": "code",
   "execution_count": null,
   "metadata": {},
   "outputs": [],
   "source": [
    "# Output file\n",
    "# (A) a clear separator (a sequence of hyphens or stars) and a string clearly describing the model \n",
    "    # (e.g. the model name + hyper-parameter values that you changed). In the case of Top-DT and Top-MLP,\n",
    "    # display the best hyperparameters found by the gridsearch.\n",
    "\n",
    "# (B) the confusion matrix\n",
    "\n",
    "# (C) the precision, recall, and F1-measure for each class\n",
    "\n",
    "# (D) the accuracy, macro-average F1 and weighted-average F1 of the model"
   ]
  },
  {
   "cell_type": "markdown",
   "metadata": {},
   "source": [
    "# TOP MLP\n",
    "\n",
    "(d) Top-MLP: a better performing Multi-Layered Perceptron found using grid search. For this, you need\n",
    "to experiment with the following hyper-parameter values:\n",
    "• activation function: sigmoid, tanh and relu\n",
    "• 2 network architectures of your choice: for eg 2 hidden layers with 30 + 50 nodes, 3 hidden layers\n",
    "with 10 + 10 + 10\n",
    "• solver: adam and stochastic gradient descent"
   ]
  },
  {
   "cell_type": "code",
   "execution_count": null,
   "metadata": {},
   "outputs": [],
   "source": [
    "# Training top MLP\n",
    "parameters = {'activation': ['sigmoid', 'tanh', 'relu'],\n",
    "    'hidden_layer_sizes': [(25, 50), (10, 10, 10)],\n",
    "    'solver': ['adam', 'sgd']}\n",
    "\n",
    "\n",
    "top_MLP_d2 = MLPClassifier(hidden_layer_sizes=(100,100), activation='logistic', solver='sgd')\n",
    "top_MLP_d2 = GridSearchCV(top_MLP_d2, parameters)\n",
    "\n",
    "top_MLP_d2.fit(X_train, y_train)\n",
    "\n",
    "print(top_MLP_d2.best_params_)"
   ]
  },
  {
   "cell_type": "code",
   "execution_count": null,
   "metadata": {},
   "outputs": [],
   "source": [
    "# Testing base MLP\n",
    "predictions = top_MLP_d2.predict(X_test)"
   ]
  },
  {
   "cell_type": "code",
   "execution_count": null,
   "metadata": {},
   "outputs": [
    {
     "name": "stdout",
     "output_type": "stream",
     "text": [
      "[[198  36  78]\n",
      " [ 48 241  49]\n",
      " [218  67 110]]\n",
      "              precision    recall  f1-score   support\n",
      "\n",
      "           F       0.43      0.63      0.51       312\n",
      "           I       0.70      0.71      0.71       338\n",
      "           M       0.46      0.28      0.35       395\n",
      "\n",
      "    accuracy                           0.53      1045\n",
      "   macro avg       0.53      0.54      0.52      1045\n",
      "weighted avg       0.53      0.53      0.51      1045\n"
     ]
    }
   ],
   "source": [
    "# Performance\n",
    "print(confusion_matrix(y_test, predictions))\n",
    "\n",
    "print(classification_report(y_test, predictions))"
   ]
  },
  {
   "cell_type": "code",
   "execution_count": null,
   "metadata": {},
   "outputs": [],
   "source": [
    "# Output file\n",
    "# (A) a clear separator (a sequence of hyphens or stars) and a string clearly describing the model \n",
    "    # (e.g. the model name + hyper-parameter values that you changed). In the case of Top-DT and Top-MLP,\n",
    "    # display the best hyperparameters found by the gridsearch.\n",
    "\n",
    "# (B) the confusion matrix\n",
    "\n",
    "# (C) the precision, recall, and F1-measure for each class\n",
    "\n",
    "# (D) the accuracy, macro-average F1 and weighted-average F1 of the model"
   ]
  },
  {
   "cell_type": "markdown",
   "metadata": {},
   "source": [
    "6. Redo steps 4 & 5, 5 times for each model and append in the performance files:\n",
    "(A) the average accuracy & the variance,\n",
    "(B) average macro-average F1 & the variance,\n",
    "(C) average weighted-average F1 & the variance.\n",
    "Does the same model give you the same performance every time? is the standard deviation high? Be ready\n",
    "to discuss this at the demo."
   ]
  }
 ],
 "metadata": {
  "kernelspec": {
   "display_name": "Python 3",
   "language": "python",
   "name": "python3"
  },
  "language_info": {
   "codemirror_mode": {
    "name": "ipython",
    "version": 3
   },
   "file_extension": ".py",
   "mimetype": "text/x-python",
   "name": "python",
   "nbconvert_exporter": "python",
   "pygments_lexer": "ipython3",
   "version": "3.11.3"
  }
 },
 "nbformat": 4,
 "nbformat_minor": 2
}
