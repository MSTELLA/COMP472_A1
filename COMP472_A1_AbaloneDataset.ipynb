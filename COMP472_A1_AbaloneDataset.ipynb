{
 "cells": [
  {
   "cell_type": "code",
   "execution_count": 23,
   "metadata": {
    "ExecuteTime": {
     "end_time": "2023-11-11T06:37:20.538551500Z",
     "start_time": "2023-11-11T06:37:20.421036400Z"
    }
   },
   "outputs": [],
   "source": [
    "# Team Bean Burrito\n",
    "'''\n",
    "Gabrielle Guidote 40175182\n",
    "Marie-Jose Castellanos 40168044\n",
    "Amrit Sohpal 40176197\n",
    "'''\n",
    "# Assignment 1\n",
    "# Abalone Dataset\n",
    "output_file = \"abalone-performance.txt\" "
   ]
  },
  {
   "cell_type": "code",
   "execution_count": 24,
   "metadata": {
    "ExecuteTime": {
     "end_time": "2023-11-11T06:37:20.716552800Z",
     "start_time": "2023-11-11T06:37:20.437550100Z"
    }
   },
   "outputs": [],
   "source": [
    "# Import Libraries\n",
    "import numpy as np\n",
    "import pandas as pd\n",
    "import matplotlib.pyplot as plt\n",
    "from sklearn.linear_model import LinearRegression\n",
    "from sklearn.preprocessing import LabelEncoder\n",
    "from sklearn.preprocessing import OneHotEncoder\n",
    "from sklearn.model_selection import train_test_split\n",
    "#5\n",
    "from sklearn.metrics import accuracy_score\n",
    "from sklearn.metrics import f1_score\n",
    "\n",
    "#4 a : DT\n",
    "from sklearn.tree import DecisionTreeClassifier\n",
    "from sklearn import tree\n",
    "\n",
    "#4 b : DT GridSearch\n",
    "from sklearn.model_selection import GridSearchCV\n",
    "\n",
    "#4 c: MLP\n",
    "from sklearn.neural_network import MLPClassifier\n",
    "\n",
    "# performance metrics\n",
    "from sklearn.metrics import confusion_matrix\n",
    "from sklearn.metrics import classification_report"
   ]
  },
  {
   "cell_type": "code",
   "execution_count": 25,
   "outputs": [],
   "source": [
    "def write_performance_to_file(filename, model_description, confusion_mtrx, classification, accuracy, macro_avg_f1, weight_avg_f1):\n",
    "    # 'a' opens a file, if file doesn't exist, create a new file. \n",
    "    with open(filename, 'a') as file:\n",
    "        # Separator and Model Description\n",
    "        file.write(\"--------------------------------------------------\\n\")\n",
    "        file.write(f\"Model: {model_description}\\n\\n\")\n",
    "        \n",
    "        # Confusion Matrix\n",
    "        file.write(\"(B) Confusion Matrix:\\n\")\n",
    "        file.write(f\"{confusion_mtrx}\\n\\n\")\n",
    "\n",
    "        # Classification Report (Precision, Recall, F1-measure for each class)\n",
    "        file.write(\"(C) Classification Report:\\n\")\n",
    "        file.write(f\"{classification}\\n\\n\")\n",
    "\n",
    "        # Accuracy, Macro-average F1 and Weighted-average F1\n",
    "        file.write(\"(D) Accuracy: {:.2f}\\n\".format(accuracy))\n",
    "        file.write(\"Macro-average F1: {:.2f}\\n\".format(macro_avg_f1))\n",
    "        file.write(\"Weighted-average F1: {:.2f}\\n\".format(weight_avg_f1))\n",
    "        file.write(\"--------------------------------------------------\\n\\n\")\n"
   ],
   "metadata": {
    "collapsed": false,
    "ExecuteTime": {
     "end_time": "2023-11-11T06:37:20.787553Z",
     "start_time": "2023-11-11T06:37:20.453555Z"
    }
   }
  },
  {
   "cell_type": "markdown",
   "metadata": {},
   "source": [
    "\n",
    "The Data sets"
   ]
  },
  {
   "cell_type": "markdown",
   "metadata": {},
   "source": [
    "DATASET 1 :  ABALONE"
   ]
  },
  {
   "cell_type": "code",
   "execution_count": 26,
   "metadata": {
    "ExecuteTime": {
     "end_time": "2023-11-11T06:37:20.833550200Z",
     "start_time": "2023-11-11T06:37:20.467554600Z"
    }
   },
   "outputs": [
    {
     "name": "stdout",
     "output_type": "stream",
     "text": [
      "<class 'pandas.core.frame.DataFrame'>\n",
      "RangeIndex: 4177 entries, 0 to 4176\n",
      "Data columns (total 9 columns):\n",
      " #   Column         Non-Null Count  Dtype  \n",
      "---  ------         --------------  -----  \n",
      " 0   Type           4177 non-null   object \n",
      " 1   LongestShell   4177 non-null   float64\n",
      " 2   Diameter       4177 non-null   float64\n",
      " 3   Height         4177 non-null   float64\n",
      " 4   WholeWeight    4177 non-null   float64\n",
      " 5   ShuckedWeight  4177 non-null   float64\n",
      " 6   VisceraWeight  4177 non-null   float64\n",
      " 7   ShellWeight    4177 non-null   float64\n",
      " 8   Rings          4177 non-null   int64  \n",
      "dtypes: float64(7), int64(1), object(1)\n",
      "memory usage: 293.8+ KB\n"
     ]
    },
    {
     "data": {
      "text/plain": "  Type  LongestShell  Diameter  Height  WholeWeight  ShuckedWeight  \\\n0    F         0.605     0.470   0.165       1.1775         0.6110   \n1    M         0.550     0.425   0.150       0.8315         0.4110   \n2    M         0.460     0.345   0.110       0.4595         0.2350   \n3    F         0.650     0.475   0.165       1.3875         0.5800   \n4    M         0.575     0.470   0.140       0.8375         0.3485   \n\n   VisceraWeight  ShellWeight  Rings  \n0         0.2275       0.2920      9  \n1         0.1765       0.2165     10  \n2         0.0885       0.1160      7  \n3         0.3485       0.3095      9  \n4         0.1735       0.2400     11  ",
      "text/html": "<div>\n<style scoped>\n    .dataframe tbody tr th:only-of-type {\n        vertical-align: middle;\n    }\n\n    .dataframe tbody tr th {\n        vertical-align: top;\n    }\n\n    .dataframe thead th {\n        text-align: right;\n    }\n</style>\n<table border=\"1\" class=\"dataframe\">\n  <thead>\n    <tr style=\"text-align: right;\">\n      <th></th>\n      <th>Type</th>\n      <th>LongestShell</th>\n      <th>Diameter</th>\n      <th>Height</th>\n      <th>WholeWeight</th>\n      <th>ShuckedWeight</th>\n      <th>VisceraWeight</th>\n      <th>ShellWeight</th>\n      <th>Rings</th>\n    </tr>\n  </thead>\n  <tbody>\n    <tr>\n      <th>0</th>\n      <td>F</td>\n      <td>0.605</td>\n      <td>0.470</td>\n      <td>0.165</td>\n      <td>1.1775</td>\n      <td>0.6110</td>\n      <td>0.2275</td>\n      <td>0.2920</td>\n      <td>9</td>\n    </tr>\n    <tr>\n      <th>1</th>\n      <td>M</td>\n      <td>0.550</td>\n      <td>0.425</td>\n      <td>0.150</td>\n      <td>0.8315</td>\n      <td>0.4110</td>\n      <td>0.1765</td>\n      <td>0.2165</td>\n      <td>10</td>\n    </tr>\n    <tr>\n      <th>2</th>\n      <td>M</td>\n      <td>0.460</td>\n      <td>0.345</td>\n      <td>0.110</td>\n      <td>0.4595</td>\n      <td>0.2350</td>\n      <td>0.0885</td>\n      <td>0.1160</td>\n      <td>7</td>\n    </tr>\n    <tr>\n      <th>3</th>\n      <td>F</td>\n      <td>0.650</td>\n      <td>0.475</td>\n      <td>0.165</td>\n      <td>1.3875</td>\n      <td>0.5800</td>\n      <td>0.3485</td>\n      <td>0.3095</td>\n      <td>9</td>\n    </tr>\n    <tr>\n      <th>4</th>\n      <td>M</td>\n      <td>0.575</td>\n      <td>0.470</td>\n      <td>0.140</td>\n      <td>0.8375</td>\n      <td>0.3485</td>\n      <td>0.1735</td>\n      <td>0.2400</td>\n      <td>11</td>\n    </tr>\n  </tbody>\n</table>\n</div>"
     },
     "execution_count": 26,
     "metadata": {},
     "output_type": "execute_result"
    }
   ],
   "source": [
    "# data regarding Abalones.contains features of physical description of abalones (length, diameter, weights, etc) and one of 3 possible values for their\n",
    "# sex: M (male), F (female), I (infant). Given the physical features of the abalone, the goal is to predict their sex.\n",
    "df = pd.read_csv(\"abalone.csv\")\n",
    "df.info()\n",
    "df.head()\n",
    "# All features are numerical. Only the classes are string. No changes necessary."
   ]
  },
  {
   "cell_type": "markdown",
   "metadata": {},
   "source": [
    "2. Plot the percentage of the instances in each output class and store the graphic in a file called penguin-classes.gif\n",
    "/ abalone-classes.gif. This analysis of the dataset will allow you to determine if the classes are balanced.\n",
    "Which metric is more appropriate to use to evaluate the performance. Be ready to discuss this at the demo."
   ]
  },
  {
   "cell_type": "code",
   "execution_count": 27,
   "metadata": {
    "ExecuteTime": {
     "end_time": "2023-11-11T06:37:20.835550300Z",
     "start_time": "2023-11-11T06:37:20.499550200Z"
    }
   },
   "outputs": [
    {
     "data": {
      "text/plain": "<Figure size 640x480 with 1 Axes>",
      "image/png": "[encoded data removed]"
     },
     "metadata": {},
     "output_type": "display_data"
    }
   ],
   "source": [
    "class_count = df['Type'].value_counts()\n",
    "plt.pie(class_count, labels=class_count.index, autopct='%1.1f%%') # TODO : CAHNGE TYPE?? COLOR? HARD TO SEE SAVED IMAGE\n",
    "plt.title('Distribution of Type')\n",
    "# plt.show()\n",
    "\n",
    "# save image (she said not .gif is ok)\n",
    "plt.savefig('abalone-classes.png')"
   ]
  },
  {
   "cell_type": "markdown",
   "metadata": {},
   "source": [
    "3. Split the dataset using train test split using the default parameter values"
   ]
  },
  {
   "cell_type": "code",
   "execution_count": 28,
   "metadata": {
    "ExecuteTime": {
     "end_time": "2023-11-11T06:37:20.836550600Z",
     "start_time": "2023-11-11T06:37:20.594552600Z"
    }
   },
   "outputs": [],
   "source": [
    "X =  df.loc[:, df.columns != 'Type']\n",
    "y = df['Type']\n",
    "\n",
    "X_train, X_test, y_train, y_test = train_test_split(X, y, test_size = 0.25)"
   ]
  },
  {
   "cell_type": "markdown",
   "metadata": {},
   "source": [
    "4. Train and test 4 different classifiers:"
   ]
  },
  {
   "cell_type": "markdown",
   "metadata": {},
   "source": [
    "# Base DT\n",
    "(a) Base-DT: a Decision Tree with the default parameters. Show the decision tree graphically (for the\n",
    "abalone dataset, you can restrict the tree depth for visualisation purposes)"
   ]
  },
  {
   "cell_type": "code",
   "execution_count": 29,
   "metadata": {
    "ExecuteTime": {
     "end_time": "2023-11-11T06:37:20.836550600Z",
     "start_time": "2023-11-11T06:37:20.611553Z"
    }
   },
   "outputs": [
    {
     "data": {
      "text/plain": "DecisionTreeClassifier()",
      "text/html": "<style>#sk-container-id-3 {color: black;}#sk-container-id-3 pre{padding: 0;}#sk-container-id-3 div.sk-toggleable {background-color: white;}#sk-container-id-3 label.sk-toggleable__label {cursor: pointer;display: block;width: 100%;margin-bottom: 0;padding: 0.3em;box-sizing: border-box;text-align: center;}#sk-container-id-3 label.sk-toggleable__label-arrow:before {content: \"▸\";float: left;margin-right: 0.25em;color: #696969;}#sk-container-id-3 label.sk-toggleable__label-arrow:hover:before {color: black;}#sk-container-id-3 div.sk-estimator:hover label.sk-toggleable__label-arrow:before {color: black;}#sk-container-id-3 div.sk-toggleable__content {max-height: 0;max-width: 0;overflow: hidden;text-align: left;background-color: #f0f8ff;}#sk-container-id-3 div.sk-toggleable__content pre {margin: 0.2em;color: black;border-radius: 0.25em;background-color: #f0f8ff;}#sk-container-id-3 input.sk-toggleable__control:checked~div.sk-toggleable__content {max-height: 200px;max-width: 100%;overflow: auto;}#sk-container-id-3 input.sk-toggleable__control:checked~label.sk-toggleable__label-arrow:before {content: \"▾\";}#sk-container-id-3 div.sk-estimator input.sk-toggleable__control:checked~label.sk-toggleable__label {background-color: #d4ebff;}#sk-container-id-3 div.sk-label input.sk-toggleable__control:checked~label.sk-toggleable__label {background-color: #d4ebff;}#sk-container-id-3 input.sk-hidden--visually {border: 0;clip: rect(1px 1px 1px 1px);clip: rect(1px, 1px, 1px, 1px);height: 1px;margin: -1px;overflow: hidden;padding: 0;position: absolute;width: 1px;}#sk-container-id-3 div.sk-estimator {font-family: monospace;background-color: #f0f8ff;border: 1px dotted black;border-radius: 0.25em;box-sizing: border-box;margin-bottom: 0.5em;}#sk-container-id-3 div.sk-estimator:hover {background-color: #d4ebff;}#sk-container-id-3 div.sk-parallel-item::after {content: \"\";width: 100%;border-bottom: 1px solid gray;flex-grow: 1;}#sk-container-id-3 div.sk-label:hover label.sk-toggleable__label {background-color: #d4ebff;}#sk-container-id-3 div.sk-serial::before {content: \"\";position: absolute;border-left: 1px solid gray;box-sizing: border-box;top: 0;bottom: 0;left: 50%;z-index: 0;}#sk-container-id-3 div.sk-serial {display: flex;flex-direction: column;align-items: center;background-color: white;padding-right: 0.2em;padding-left: 0.2em;position: relative;}#sk-container-id-3 div.sk-item {position: relative;z-index: 1;}#sk-container-id-3 div.sk-parallel {display: flex;align-items: stretch;justify-content: center;background-color: white;position: relative;}#sk-container-id-3 div.sk-item::before, #sk-container-id-3 div.sk-parallel-item::before {content: \"\";position: absolute;border-left: 1px solid gray;box-sizing: border-box;top: 0;bottom: 0;left: 50%;z-index: -1;}#sk-container-id-3 div.sk-parallel-item {display: flex;flex-direction: column;z-index: 1;position: relative;background-color: white;}#sk-container-id-3 div.sk-parallel-item:first-child::after {align-self: flex-end;width: 50%;}#sk-container-id-3 div.sk-parallel-item:last-child::after {align-self: flex-start;width: 50%;}#sk-container-id-3 div.sk-parallel-item:only-child::after {width: 0;}#sk-container-id-3 div.sk-dashed-wrapped {border: 1px dashed gray;margin: 0 0.4em 0.5em 0.4em;box-sizing: border-box;padding-bottom: 0.4em;background-color: white;}#sk-container-id-3 div.sk-label label {font-family: monospace;font-weight: bold;display: inline-block;line-height: 1.2em;}#sk-container-id-3 div.sk-label-container {text-align: center;}#sk-container-id-3 div.sk-container {/* jupyter's `normalize.less` sets `[hidden] { display: none; }` but bootstrap.min.css set `[hidden] { display: none !important; }` so we also need the `!important` here to be able to override the default hidden behavior on the sphinx rendered scikit-learn.org. See: https://github.com/scikit-learn/scikit-learn/issues/21755 */display: inline-block !important;position: relative;}#sk-container-id-3 div.sk-text-repr-fallback {display: none;}</style><div id=\"sk-container-id-3\" class=\"sk-top-container\"><div class=\"sk-text-repr-fallback\"><pre>DecisionTreeClassifier()</pre><b>In a Jupyter environment, please rerun this cell to show the HTML representation or trust the notebook. <br />On GitHub, the HTML representation is unable to render, please try loading this page with nbviewer.org.</b></div><div class=\"sk-container\" hidden><div class=\"sk-item\"><div class=\"sk-estimator sk-toggleable\"><input class=\"sk-toggleable__control sk-hidden--visually\" id=\"sk-estimator-id-3\" type=\"checkbox\" checked><label for=\"sk-estimator-id-3\" class=\"sk-toggleable__label sk-toggleable__label-arrow\">DecisionTreeClassifier</label><div class=\"sk-toggleable__content\"><pre>DecisionTreeClassifier()</pre></div></div></div></div></div>"
     },
     "execution_count": 29,
     "metadata": {},
     "output_type": "execute_result"
    }
   ],
   "source": [
    "# Training base DT\n",
    "base_DT_d2 = DecisionTreeClassifier()\n",
    "base_DT_d2.fit(X_train, y_train)"
   ]
  },
  {
   "cell_type": "code",
   "execution_count": 30,
   "metadata": {
    "ExecuteTime": {
     "end_time": "2023-11-11T06:37:23.397229900Z",
     "start_time": "2023-11-11T06:37:20.657554Z"
    }
   },
   "outputs": [
    {
     "data": {
      "text/plain": "[Text(0.5197704081632653, 0.9285714285714286, 'x[5] <= 0.148\\ngini = 0.665\\nsamples = 3132\\nvalue = [976, 1003, 1153]'),\n Text(0.24744897959183673, 0.7857142857142857, 'x[7] <= 8.5\\ngini = 0.534\\nsamples = 1315\\nvalue = [197, 826, 292]'),\n Text(0.11734693877551021, 0.6428571428571429, 'x[5] <= 0.084\\ngini = 0.369\\nsamples = 842\\nvalue = [56, 653, 133]'),\n Text(0.05102040816326531, 0.5, 'x[3] <= 0.422\\ngini = 0.269\\nsamples = 559\\nvalue = [22, 473, 64]'),\n Text(0.030612244897959183, 0.35714285714285715, 'x[2] <= 0.15\\ngini = 0.261\\nsamples = 552\\nvalue = [21, 470, 61]'),\n Text(0.02040816326530612, 0.21428571428571427, 'x[4] <= 0.157\\ngini = 0.259\\nsamples = 551\\nvalue = [20, 470, 61]'),\n Text(0.01020408163265306, 0.07142857142857142, '\\n  (...)  \\n'),\n Text(0.030612244897959183, 0.07142857142857142, '\\n  (...)  \\n'),\n Text(0.04081632653061224, 0.21428571428571427, 'gini = 0.0\\nsamples = 1\\nvalue = [1, 0, 0]'),\n Text(0.07142857142857142, 0.35714285714285715, 'x[3] <= 0.436\\ngini = 0.612\\nsamples = 7\\nvalue = [1, 3, 3]'),\n Text(0.061224489795918366, 0.21428571428571427, 'gini = 0.0\\nsamples = 2\\nvalue = [0, 0, 2]'),\n Text(0.08163265306122448, 0.21428571428571427, 'x[0] <= 0.428\\ngini = 0.56\\nsamples = 5\\nvalue = [1, 3, 1]'),\n Text(0.07142857142857142, 0.07142857142857142, '\\n  (...)  \\n'),\n Text(0.09183673469387756, 0.07142857142857142, '\\n  (...)  \\n'),\n Text(0.1836734693877551, 0.5, 'x[3] <= 0.639\\ngini = 0.522\\nsamples = 283\\nvalue = [34, 180, 69]'),\n Text(0.14285714285714285, 0.35714285714285715, 'x[0] <= 0.483\\ngini = 0.499\\nsamples = 249\\nvalue = [30, 165, 54]'),\n Text(0.12244897959183673, 0.21428571428571427, 'x[6] <= 0.129\\ngini = 0.562\\nsamples = 150\\nvalue = [24, 89, 37]'),\n Text(0.11224489795918367, 0.07142857142857142, '\\n  (...)  \\n'),\n Text(0.1326530612244898, 0.07142857142857142, '\\n  (...)  \\n'),\n Text(0.16326530612244897, 0.21428571428571427, 'x[7] <= 6.5\\ngini = 0.378\\nsamples = 99\\nvalue = [6, 76, 17]'),\n Text(0.15306122448979592, 0.07142857142857142, '\\n  (...)  \\n'),\n Text(0.17346938775510204, 0.07142857142857142, '\\n  (...)  \\n'),\n Text(0.22448979591836735, 0.35714285714285715, 'x[0] <= 0.52\\ngini = 0.597\\nsamples = 34\\nvalue = [4, 15, 15]'),\n Text(0.20408163265306123, 0.21428571428571427, 'x[5] <= 0.138\\ngini = 0.532\\nsamples = 19\\nvalue = [3, 4, 12]'),\n Text(0.19387755102040816, 0.07142857142857142, '\\n  (...)  \\n'),\n Text(0.21428571428571427, 0.07142857142857142, '\\n  (...)  \\n'),\n Text(0.24489795918367346, 0.21428571428571427, 'x[2] <= 0.145\\ngini = 0.418\\nsamples = 15\\nvalue = [1, 11, 3]'),\n Text(0.23469387755102042, 0.07142857142857142, '\\n  (...)  \\n'),\n Text(0.25510204081632654, 0.07142857142857142, '\\n  (...)  \\n'),\n Text(0.37755102040816324, 0.6428571428571429, 'x[7] <= 9.5\\ngini = 0.664\\nsamples = 473\\nvalue = [141, 173, 159]'),\n Text(0.3112244897959184, 0.5, 'x[0] <= 0.472\\ngini = 0.61\\nsamples = 176\\nvalue = [31, 90, 55]'),\n Text(0.2755102040816326, 0.35714285714285715, 'x[5] <= 0.039\\ngini = 0.636\\nsamples = 86\\nvalue = [17, 31, 38]'),\n Text(0.2653061224489796, 0.21428571428571427, 'gini = 0.0\\nsamples = 5\\nvalue = [0, 0, 5]'),\n Text(0.2857142857142857, 0.21428571428571427, 'x[6] <= 0.17\\ngini = 0.643\\nsamples = 81\\nvalue = [17, 31, 33]'),\n Text(0.2755102040816326, 0.07142857142857142, '\\n  (...)  \\n'),\n Text(0.29591836734693877, 0.07142857142857142, '\\n  (...)  \\n'),\n Text(0.3469387755102041, 0.35714285714285715, 'x[5] <= 0.121\\ngini = 0.51\\nsamples = 90\\nvalue = [14, 59, 17]'),\n Text(0.32653061224489793, 0.21428571428571427, 'x[4] <= 0.175\\ngini = 0.227\\nsamples = 32\\nvalue = [2, 28, 2]'),\n Text(0.3163265306122449, 0.07142857142857142, '\\n  (...)  \\n'),\n Text(0.336734693877551, 0.07142857142857142, '\\n  (...)  \\n'),\n Text(0.3673469387755102, 0.21428571428571427, 'x[0] <= 0.517\\ngini = 0.605\\nsamples = 58\\nvalue = [12, 31, 15]'),\n Text(0.35714285714285715, 0.07142857142857142, '\\n  (...)  \\n'),\n Text(0.37755102040816324, 0.07142857142857142, '\\n  (...)  \\n'),\n Text(0.44387755102040816, 0.5, 'x[4] <= 0.077\\ngini = 0.662\\nsamples = 297\\nvalue = [110, 83, 104]'),\n Text(0.41836734693877553, 0.35714285714285715, 'x[7] <= 12.5\\ngini = 0.26\\nsamples = 13\\nvalue = [0, 2, 11]'),\n Text(0.40816326530612246, 0.21428571428571427, 'x[5] <= 0.036\\ngini = 0.153\\nsamples = 12\\nvalue = [0, 1, 11]'),\n Text(0.3979591836734694, 0.07142857142857142, '\\n  (...)  \\n'),\n Text(0.41836734693877553, 0.07142857142857142, '\\n  (...)  \\n'),\n Text(0.42857142857142855, 0.21428571428571427, 'gini = 0.0\\nsamples = 1\\nvalue = [0, 1, 0]'),\n Text(0.46938775510204084, 0.35714285714285715, 'x[5] <= 0.091\\ngini = 0.661\\nsamples = 284\\nvalue = [110, 81, 93]'),\n Text(0.4489795918367347, 0.21428571428571427, 'x[0] <= 0.433\\ngini = 0.658\\nsamples = 76\\nvalue = [24, 31, 21]'),\n Text(0.4387755102040816, 0.07142857142857142, '\\n  (...)  \\n'),\n Text(0.45918367346938777, 0.07142857142857142, '\\n  (...)  \\n'),\n Text(0.4897959183673469, 0.21428571428571427, 'x[0] <= 0.512\\ngini = 0.651\\nsamples = 208\\nvalue = [86, 50, 72]'),\n Text(0.47959183673469385, 0.07142857142857142, '\\n  (...)  \\n'),\n Text(0.5, 0.07142857142857142, '\\n  (...)  \\n'),\n Text(0.7920918367346939, 0.7857142857142857, 'x[3] <= 0.985\\ngini = 0.582\\nsamples = 1817\\nvalue = [779, 177, 861]'),\n Text(0.6556122448979592, 0.6428571428571429, 'x[3] <= 0.823\\ngini = 0.641\\nsamples = 651\\nvalue = [224, 140, 287]'),\n Text(0.5918367346938775, 0.5, 'x[0] <= 0.538\\ngini = 0.662\\nsamples = 287\\nvalue = [96, 81, 110]'),\n Text(0.5510204081632653, 0.35714285714285715, 'x[5] <= 0.171\\ngini = 0.626\\nsamples = 174\\nvalue = [67, 30, 77]'),\n Text(0.5306122448979592, 0.21428571428571427, 'x[2] <= 0.163\\ngini = 0.62\\nsamples = 105\\nvalue = [30, 22, 53]'),\n Text(0.5204081632653061, 0.07142857142857142, '\\n  (...)  \\n'),\n Text(0.5408163265306123, 0.07142857142857142, '\\n  (...)  \\n'),\n Text(0.5714285714285714, 0.21428571428571427, 'x[4] <= 0.326\\ngini = 0.578\\nsamples = 69\\nvalue = [37, 8, 24]'),\n Text(0.5612244897959183, 0.07142857142857142, '\\n  (...)  \\n'),\n Text(0.5816326530612245, 0.07142857142857142, '\\n  (...)  \\n'),\n Text(0.6326530612244898, 0.35714285714285715, 'x[7] <= 10.5\\ngini = 0.645\\nsamples = 113\\nvalue = [29, 51, 33]'),\n Text(0.6122448979591837, 0.21428571428571427, 'x[4] <= 0.365\\ngini = 0.587\\nsamples = 80\\nvalue = [19, 45, 16]'),\n Text(0.6020408163265306, 0.07142857142857142, '\\n  (...)  \\n'),\n Text(0.6224489795918368, 0.07142857142857142, '\\n  (...)  \\n'),\n Text(0.6530612244897959, 0.21428571428571427, 'x[7] <= 15.5\\ngini = 0.61\\nsamples = 33\\nvalue = [10, 6, 17]'),\n Text(0.6428571428571429, 0.07142857142857142, '\\n  (...)  \\n'),\n Text(0.6632653061224489, 0.07142857142857142, '\\n  (...)  \\n'),\n Text(0.7193877551020408, 0.5, 'x[1] <= 0.407\\ngini = 0.614\\nsamples = 364\\nvalue = [128, 59, 177]'),\n Text(0.6836734693877551, 0.35714285714285715, 'x[1] <= 0.347\\ngini = 0.39\\nsamples = 25\\nvalue = [4, 2, 19]'),\n Text(0.673469387755102, 0.21428571428571427, 'gini = 0.0\\nsamples = 2\\nvalue = [0, 2, 0]'),\n Text(0.6938775510204082, 0.21428571428571427, 'x[6] <= 0.226\\ngini = 0.287\\nsamples = 23\\nvalue = [4, 0, 19]'),\n Text(0.6836734693877551, 0.07142857142857142, '\\n  (...)  \\n'),\n Text(0.7040816326530612, 0.07142857142857142, '\\n  (...)  \\n'),\n Text(0.7551020408163265, 0.35714285714285715, 'x[5] <= 0.241\\ngini = 0.621\\nsamples = 339\\nvalue = [124, 57, 158]'),\n Text(0.7346938775510204, 0.21428571428571427, 'x[0] <= 0.603\\ngini = 0.622\\nsamples = 313\\nvalue = [108, 56, 149]'),\n Text(0.7244897959183674, 0.07142857142857142, '\\n  (...)  \\n'),\n Text(0.7448979591836735, 0.07142857142857142, '\\n  (...)  \\n'),\n Text(0.7755102040816326, 0.21428571428571427, 'x[3] <= 0.905\\ngini = 0.5\\nsamples = 26\\nvalue = [16, 1, 9]'),\n Text(0.7653061224489796, 0.07142857142857142, '\\n  (...)  \\n'),\n Text(0.7857142857142857, 0.07142857142857142, '\\n  (...)  \\n'),\n Text(0.9285714285714286, 0.6428571428571429, 'x[4] <= 0.873\\ngini = 0.53\\nsamples = 1166\\nvalue = [555, 37, 574]'),\n Text(0.8775510204081632, 0.5, 'x[1] <= 0.543\\ngini = 0.532\\nsamples = 1085\\nvalue = [530, 37, 518]'),\n Text(0.8367346938775511, 0.35714285714285715, 'x[4] <= 0.549\\ngini = 0.535\\nsamples = 968\\nvalue = [451, 36, 481]'),\n Text(0.8163265306122449, 0.21428571428571427, 'x[0] <= 0.637\\ngini = 0.544\\nsamples = 545\\nvalue = [270, 26, 249]'),\n Text(0.8061224489795918, 0.07142857142857142, '\\n  (...)  \\n'),\n Text(0.826530612244898, 0.07142857142857142, '\\n  (...)  \\n'),\n Text(0.8571428571428571, 0.21428571428571427, 'x[5] <= 0.299\\ngini = 0.516\\nsamples = 423\\nvalue = [181, 10, 232]'),\n Text(0.8469387755102041, 0.07142857142857142, '\\n  (...)  \\n'),\n Text(0.8673469387755102, 0.07142857142857142, '\\n  (...)  \\n'),\n Text(0.9183673469387755, 0.35714285714285715, 'x[2] <= 0.197\\ngini = 0.444\\nsamples = 117\\nvalue = [79, 1, 37]'),\n Text(0.8979591836734694, 0.21428571428571427, 'x[3] <= 1.5\\ngini = 0.354\\nsamples = 74\\nvalue = [57, 0, 17]'),\n Text(0.8877551020408163, 0.07142857142857142, '\\n  (...)  \\n'),\n Text(0.9081632653061225, 0.07142857142857142, '\\n  (...)  \\n'),\n Text(0.9387755102040817, 0.21428571428571427, 'x[3] <= 1.56\\ngini = 0.521\\nsamples = 43\\nvalue = [22, 1, 20]'),\n Text(0.9285714285714286, 0.07142857142857142, '\\n  (...)  \\n'),\n Text(0.9489795918367347, 0.07142857142857142, '\\n  (...)  \\n'),\n Text(0.9795918367346939, 0.5, 'x[1] <= 0.623\\ngini = 0.427\\nsamples = 81\\nvalue = [25, 0, 56]'),\n Text(0.9693877551020408, 0.35714285714285715, 'x[2] <= 0.172\\ngini = 0.397\\nsamples = 77\\nvalue = [21, 0, 56]'),\n Text(0.9591836734693877, 0.21428571428571427, 'gini = 0.0\\nsamples = 2\\nvalue = [2, 0, 0]'),\n Text(0.9795918367346939, 0.21428571428571427, 'x[2] <= 0.188\\ngini = 0.378\\nsamples = 75\\nvalue = [19, 0, 56]'),\n Text(0.9693877551020408, 0.07142857142857142, '\\n  (...)  \\n'),\n Text(0.9897959183673469, 0.07142857142857142, '\\n  (...)  \\n'),\n Text(0.9897959183673469, 0.35714285714285715, 'gini = 0.0\\nsamples = 4\\nvalue = [4, 0, 0]')]"
     },
     "execution_count": 30,
     "metadata": {},
     "output_type": "execute_result"
    },
    {
     "data": {
      "text/plain": "<Figure size 640x480 with 1 Axes>",
      "image/png": "[encoded data removed]"
     },
     "metadata": {},
     "output_type": "display_data"
    }
   ],
   "source": [
    "# Tree Visualization : https://scikit-learn.org/stable/modules/generated/sklearn.tree.plot_tree.html TODO : change figure size because its really tiny\n",
    "tree.plot_tree(base_DT_d2, max_depth=5)"
   ]
  },
  {
   "cell_type": "code",
   "execution_count": 31,
   "metadata": {
    "ExecuteTime": {
     "end_time": "2023-11-11T06:37:23.444230800Z",
     "start_time": "2023-11-11T06:37:23.391231900Z"
    }
   },
   "outputs": [],
   "source": [
    "# Testing base DT\n",
    "predictions2 = base_DT_d2.predict(X_test)"
   ]
  },
  {
   "cell_type": "code",
   "execution_count": 32,
   "metadata": {
    "ExecuteTime": {
     "end_time": "2023-11-11T06:37:23.444230800Z",
     "start_time": "2023-11-11T06:37:23.411232600Z"
    }
   },
   "outputs": [
    {
     "name": "stdout",
     "output_type": "stream",
     "text": [
      "[[128  69 134]\n",
      " [ 52 216  71]\n",
      " [151  62 162]]\n",
      "              precision    recall  f1-score   support\n",
      "\n",
      "           F       0.39      0.39      0.39       331\n",
      "           I       0.62      0.64      0.63       339\n",
      "           M       0.44      0.43      0.44       375\n",
      "\n",
      "    accuracy                           0.48      1045\n",
      "   macro avg       0.48      0.49      0.48      1045\n",
      "weighted avg       0.48      0.48      0.48      1045\n"
     ]
    }
   ],
   "source": [
    "# Performance\n",
    "print(confusion_matrix(y_test, predictions2))\n",
    "\n",
    "print(classification_report(y_test, predictions2))"
   ]
  },
  {
   "cell_type": "code",
   "execution_count": 33,
   "metadata": {
    "ExecuteTime": {
     "end_time": "2023-11-11T06:37:23.498231500Z",
     "start_time": "2023-11-11T06:37:23.439231400Z"
    }
   },
   "outputs": [],
   "source": [
    "# Output file\n",
    "f1_scr_weighted = f1_score(y_test,predictions2, average=\"weighted\")\n",
    "f1_scr_macro = f1_score(y_test,predictions2, average=\"macro\")\n",
    "accuracy = accuracy_score(y_test, predictions2)\n",
    "\n",
    "write_performance_to_file(output_file, \"(A) Base-DT\", confusion_matrix(y_test, predictions2), classification_report(y_test, predictions2), accuracy, f1_scr_macro, f1_scr_weighted)\n",
    "# (A) a clear separator (a sequence of hyphens or stars) and a string clearly describing the model \n",
    "    # (e.g. the model name + hyper-parameter values that you changed). In the case of Top-DT and Top-MLP,\n",
    "    # display the best hyperparameters found by the gridsearch.\n",
    "\n",
    "# (B) the confusion matrix\n",
    "\n",
    "# (C) the precision, recall, and F1-measure for each class\n",
    "\n",
    "# (D) the accuracy, macro-average F1 and weighted-average F1 of the model"
   ]
  },
  {
   "cell_type": "markdown",
   "metadata": {},
   "source": [
    "# TOP DT\n",
    "(b) Top-DT: a better performing Decision Tree found using a gridsearch. The gridsearch will allow you\n",
    "to find the best combination of hyper-parameters, as determined by the evaluation function that you\n",
    "have determined in step (3) above. The hyper-parameters that you will experiment with are:\n",
    "• criterion: gini or entropy\n",
    "• max depth : 2 different values of your choice and ”None”\n",
    "• min samples split: 3 different values of your choice\n",
    "Show the decision tree graphically (for the abalone dataset, you can restrict the tree depth for visualisation purposes)"
   ]
  },
  {
   "cell_type": "code",
   "execution_count": 34,
   "metadata": {
    "ExecuteTime": {
     "end_time": "2023-11-11T06:37:25.682796800Z",
     "start_time": "2023-11-11T06:37:23.487228600Z"
    }
   },
   "outputs": [
    {
     "name": "stdout",
     "output_type": "stream",
     "text": [
      "{'criterion': 'entropy', 'max_depth': 3, 'min_samples_split': 2}\n"
     ]
    }
   ],
   "source": [
    "# Training top DT\n",
    "parameters = {'criterion':['gini','entropy'], 'max_depth':[3,10,None], 'min_samples_split':[2,5,10]}\n",
    "\n",
    "top_DT_d2 = DecisionTreeClassifier()\n",
    "top_DT_d2 = GridSearchCV(top_DT_d2, parameters)\n",
    "\n",
    "top_DT_d2.fit(X_train, y_train)\n",
    "\n",
    "print(top_DT_d2.best_params_)"
   ]
  },
  {
   "cell_type": "code",
   "execution_count": 35,
   "metadata": {
    "ExecuteTime": {
     "end_time": "2023-11-11T06:37:25.727636900Z",
     "start_time": "2023-11-11T06:37:25.684795500Z"
    }
   },
   "outputs": [],
   "source": [
    "# Testing base DT\n",
    "predictions = top_DT_d2.predict(X_test)"
   ]
  },
  {
   "cell_type": "code",
   "execution_count": 36,
   "metadata": {
    "ExecuteTime": {
     "end_time": "2023-11-11T06:37:25.754929900Z",
     "start_time": "2023-11-11T06:37:25.698935500Z"
    }
   },
   "outputs": [
    {
     "name": "stdout",
     "output_type": "stream",
     "text": [
      "[[125  50 156]\n",
      " [ 33 266  40]\n",
      " [118  73 184]]\n",
      "              precision    recall  f1-score   support\n",
      "\n",
      "           F       0.45      0.38      0.41       331\n",
      "           I       0.68      0.78      0.73       339\n",
      "           M       0.48      0.49      0.49       375\n",
      "\n",
      "    accuracy                           0.55      1045\n",
      "   macro avg       0.54      0.55      0.54      1045\n",
      "weighted avg       0.54      0.55      0.54      1045\n"
     ]
    }
   ],
   "source": [
    "# Performance\n",
    "print(confusion_matrix(y_test, predictions))\n",
    "\n",
    "print(classification_report(y_test, predictions))"
   ]
  },
  {
   "cell_type": "code",
   "execution_count": 37,
   "metadata": {
    "ExecuteTime": {
     "end_time": "2023-11-11T06:37:25.799184600Z",
     "start_time": "2023-11-11T06:37:25.744890500Z"
    }
   },
   "outputs": [],
   "source": [
    "# Output file\n",
    "f1_scr_weighted = f1_score(y_test,predictions, average=\"weighted\")\n",
    "f1_scr_macro = f1_score(y_test,predictions, average=\"macro\")\n",
    "accuracy = accuracy_score(y_test, predictions)\n",
    "write_performance_to_file(output_file, \"(B) TOP-DT\", confusion_matrix(y_test, predictions), classification_report(y_test, predictions), accuracy, f1_scr_macro, f1_scr_weighted)\n",
    "# (A) a clear separator (a sequence of hyphens or stars) and a string clearly describing the model \n",
    "    # (e.g. the model name + hyper-parameter values that you changed). In the case of Top-DT and Top-MLP,\n",
    "    # display the best hyperparameters found by the gridsearch.\n",
    "\n",
    "# (B) the confusion matrix\n",
    "\n",
    "# (C) the precision, recall, and F1-measure for each class\n",
    "\n",
    "# (D) the accuracy, macro-average F1 and weighted-average F1 of the model"
   ]
  },
  {
   "cell_type": "markdown",
   "metadata": {},
   "source": [
    "# BASE MLP\n",
    "(c) Base-MLP: a Multi-Layered Perceptron with 2 hidden layers of 100+100 neurons, sigmoid/logistic\n",
    "as activation function, stochastic gradient descent, and default values for the rest of the parameters"
   ]
  },
  {
   "cell_type": "code",
   "execution_count": 38,
   "metadata": {
    "ExecuteTime": {
     "end_time": "2023-11-11T06:37:31.644929400Z",
     "start_time": "2023-11-11T06:37:25.790185Z"
    }
   },
   "outputs": [
    {
     "name": "stderr",
     "output_type": "stream",
     "text": [
      "C:\\Users\\amrit\\AppData\\Local\\Programs\\Python\\Python39\\lib\\site-packages\\sklearn\\neural_network\\_multilayer_perceptron.py:691: ConvergenceWarning: Stochastic Optimizer: Maximum iterations (200) reached and the optimization hasn't converged yet.\n",
      "  warnings.warn(\n"
     ]
    },
    {
     "data": {
      "text/plain": "MLPClassifier(activation='logistic', hidden_layer_sizes=(100, 100),\n              solver='sgd')",
      "text/html": "<style>#sk-container-id-4 {color: black;}#sk-container-id-4 pre{padding: 0;}#sk-container-id-4 div.sk-toggleable {background-color: white;}#sk-container-id-4 label.sk-toggleable__label {cursor: pointer;display: block;width: 100%;margin-bottom: 0;padding: 0.3em;box-sizing: border-box;text-align: center;}#sk-container-id-4 label.sk-toggleable__label-arrow:before {content: \"▸\";float: left;margin-right: 0.25em;color: #696969;}#sk-container-id-4 label.sk-toggleable__label-arrow:hover:before {color: black;}#sk-container-id-4 div.sk-estimator:hover label.sk-toggleable__label-arrow:before {color: black;}#sk-container-id-4 div.sk-toggleable__content {max-height: 0;max-width: 0;overflow: hidden;text-align: left;background-color: #f0f8ff;}#sk-container-id-4 div.sk-toggleable__content pre {margin: 0.2em;color: black;border-radius: 0.25em;background-color: #f0f8ff;}#sk-container-id-4 input.sk-toggleable__control:checked~div.sk-toggleable__content {max-height: 200px;max-width: 100%;overflow: auto;}#sk-container-id-4 input.sk-toggleable__control:checked~label.sk-toggleable__label-arrow:before {content: \"▾\";}#sk-container-id-4 div.sk-estimator input.sk-toggleable__control:checked~label.sk-toggleable__label {background-color: #d4ebff;}#sk-container-id-4 div.sk-label input.sk-toggleable__control:checked~label.sk-toggleable__label {background-color: #d4ebff;}#sk-container-id-4 input.sk-hidden--visually {border: 0;clip: rect(1px 1px 1px 1px);clip: rect(1px, 1px, 1px, 1px);height: 1px;margin: -1px;overflow: hidden;padding: 0;position: absolute;width: 1px;}#sk-container-id-4 div.sk-estimator {font-family: monospace;background-color: #f0f8ff;border: 1px dotted black;border-radius: 0.25em;box-sizing: border-box;margin-bottom: 0.5em;}#sk-container-id-4 div.sk-estimator:hover {background-color: #d4ebff;}#sk-container-id-4 div.sk-parallel-item::after {content: \"\";width: 100%;border-bottom: 1px solid gray;flex-grow: 1;}#sk-container-id-4 div.sk-label:hover label.sk-toggleable__label {background-color: #d4ebff;}#sk-container-id-4 div.sk-serial::before {content: \"\";position: absolute;border-left: 1px solid gray;box-sizing: border-box;top: 0;bottom: 0;left: 50%;z-index: 0;}#sk-container-id-4 div.sk-serial {display: flex;flex-direction: column;align-items: center;background-color: white;padding-right: 0.2em;padding-left: 0.2em;position: relative;}#sk-container-id-4 div.sk-item {position: relative;z-index: 1;}#sk-container-id-4 div.sk-parallel {display: flex;align-items: stretch;justify-content: center;background-color: white;position: relative;}#sk-container-id-4 div.sk-item::before, #sk-container-id-4 div.sk-parallel-item::before {content: \"\";position: absolute;border-left: 1px solid gray;box-sizing: border-box;top: 0;bottom: 0;left: 50%;z-index: -1;}#sk-container-id-4 div.sk-parallel-item {display: flex;flex-direction: column;z-index: 1;position: relative;background-color: white;}#sk-container-id-4 div.sk-parallel-item:first-child::after {align-self: flex-end;width: 50%;}#sk-container-id-4 div.sk-parallel-item:last-child::after {align-self: flex-start;width: 50%;}#sk-container-id-4 div.sk-parallel-item:only-child::after {width: 0;}#sk-container-id-4 div.sk-dashed-wrapped {border: 1px dashed gray;margin: 0 0.4em 0.5em 0.4em;box-sizing: border-box;padding-bottom: 0.4em;background-color: white;}#sk-container-id-4 div.sk-label label {font-family: monospace;font-weight: bold;display: inline-block;line-height: 1.2em;}#sk-container-id-4 div.sk-label-container {text-align: center;}#sk-container-id-4 div.sk-container {/* jupyter's `normalize.less` sets `[hidden] { display: none; }` but bootstrap.min.css set `[hidden] { display: none !important; }` so we also need the `!important` here to be able to override the default hidden behavior on the sphinx rendered scikit-learn.org. See: https://github.com/scikit-learn/scikit-learn/issues/21755 */display: inline-block !important;position: relative;}#sk-container-id-4 div.sk-text-repr-fallback {display: none;}</style><div id=\"sk-container-id-4\" class=\"sk-top-container\"><div class=\"sk-text-repr-fallback\"><pre>MLPClassifier(activation=&#x27;logistic&#x27;, hidden_layer_sizes=(100, 100),\n              solver=&#x27;sgd&#x27;)</pre><b>In a Jupyter environment, please rerun this cell to show the HTML representation or trust the notebook. <br />On GitHub, the HTML representation is unable to render, please try loading this page with nbviewer.org.</b></div><div class=\"sk-container\" hidden><div class=\"sk-item\"><div class=\"sk-estimator sk-toggleable\"><input class=\"sk-toggleable__control sk-hidden--visually\" id=\"sk-estimator-id-4\" type=\"checkbox\" checked><label for=\"sk-estimator-id-4\" class=\"sk-toggleable__label sk-toggleable__label-arrow\">MLPClassifier</label><div class=\"sk-toggleable__content\"><pre>MLPClassifier(activation=&#x27;logistic&#x27;, hidden_layer_sizes=(100, 100),\n              solver=&#x27;sgd&#x27;)</pre></div></div></div></div></div>"
     },
     "execution_count": 38,
     "metadata": {},
     "output_type": "execute_result"
    }
   ],
   "source": [
    "# Training base MLP\n",
    "base_MLP_d2 = MLPClassifier(hidden_layer_sizes=(100,100), activation='logistic', solver='sgd')\n",
    "base_MLP_d2.fit(X_train, y_train)"
   ]
  },
  {
   "cell_type": "code",
   "execution_count": 39,
   "metadata": {
    "ExecuteTime": {
     "end_time": "2023-11-11T06:37:31.649934200Z",
     "start_time": "2023-11-11T06:37:31.632411700Z"
    }
   },
   "outputs": [],
   "source": [
    "# Testing base MLP\n",
    "predictions = base_MLP_d2.predict(X_test)"
   ]
  },
  {
   "cell_type": "code",
   "execution_count": 40,
   "metadata": {
    "ExecuteTime": {
     "end_time": "2023-11-11T06:37:31.723003100Z",
     "start_time": "2023-11-11T06:37:31.647930600Z"
    }
   },
   "outputs": [
    {
     "name": "stdout",
     "output_type": "stream",
     "text": [
      "[[  0  32 299]\n",
      " [  0 227 112]\n",
      " [  0  42 333]]\n",
      "              precision    recall  f1-score   support\n",
      "\n",
      "           F       0.00      0.00      0.00       331\n",
      "           I       0.75      0.67      0.71       339\n",
      "           M       0.45      0.89      0.60       375\n",
      "\n",
      "    accuracy                           0.54      1045\n",
      "   macro avg       0.40      0.52      0.43      1045\n",
      "weighted avg       0.41      0.54      0.44      1045\n"
     ]
    },
    {
     "name": "stderr",
     "output_type": "stream",
     "text": [
      "C:\\Users\\amrit\\AppData\\Local\\Programs\\Python\\Python39\\lib\\site-packages\\sklearn\\metrics\\_classification.py:1471: UndefinedMetricWarning: Precision and F-score are ill-defined and being set to 0.0 in labels with no predicted samples. Use `zero_division` parameter to control this behavior.\n",
      "  _warn_prf(average, modifier, msg_start, len(result))\n",
      "C:\\Users\\amrit\\AppData\\Local\\Programs\\Python\\Python39\\lib\\site-packages\\sklearn\\metrics\\_classification.py:1471: UndefinedMetricWarning: Precision and F-score are ill-defined and being set to 0.0 in labels with no predicted samples. Use `zero_division` parameter to control this behavior.\n",
      "  _warn_prf(average, modifier, msg_start, len(result))\n",
      "C:\\Users\\amrit\\AppData\\Local\\Programs\\Python\\Python39\\lib\\site-packages\\sklearn\\metrics\\_classification.py:1471: UndefinedMetricWarning: Precision and F-score are ill-defined and being set to 0.0 in labels with no predicted samples. Use `zero_division` parameter to control this behavior.\n",
      "  _warn_prf(average, modifier, msg_start, len(result))\n"
     ]
    }
   ],
   "source": [
    "# Performance TODO : VERY BAD AND HAS A WARNING>>> RECHECK STUFF\n",
    "print(confusion_matrix(y_test, predictions))\n",
    "\n",
    "print(classification_report(y_test, predictions))"
   ]
  },
  {
   "cell_type": "code",
   "execution_count": 41,
   "metadata": {
    "ExecuteTime": {
     "end_time": "2023-11-11T06:37:31.726001400Z",
     "start_time": "2023-11-11T06:37:31.681968800Z"
    }
   },
   "outputs": [],
   "source": [
    "# Output file\n",
    "f1_scr_weighted = f1_score(y_test,predictions, average=\"weighted\")\n",
    "f1_scr_macro = f1_score(y_test,predictions, average=\"macro\")\n",
    "accuracy = accuracy_score(y_test, predictions)\n",
    "write_performance_to_file(output_file, \"(C) Base-MLP\", confusion_matrix(y_test, predictions2), classification_report(y_test, predictions2), accuracy, f1_scr_macro, f1_scr_weighted)\n",
    "# (A) a clear separator (a sequence of hyphens or stars) and a string clearly describing the model \n",
    "    # (e.g. the model name + hyper-parameter values that you changed). In the case of Top-DT and Top-MLP,\n",
    "    # display the best hyperparameters found by the gridsearch.\n",
    "\n",
    "# (B) the confusion matrix\n",
    "\n",
    "# (C) the precision, recall, and F1-measure for each class\n",
    "\n",
    "# (D) the accuracy, macro-average F1 and weighted-average F1 of the model"
   ]
  },
  {
   "cell_type": "markdown",
   "metadata": {},
   "source": [
    "# TOP MLP\n",
    "\n",
    "(d) Top-MLP: a better performing Multi-Layered Perceptron found using grid search. For this, you need\n",
    "to experiment with the following hyper-parameter values:\n",
    "• activation function: sigmoid, tanh and relu\n",
    "• 2 network architectures of your choice: for eg 2 hidden layers with 30 + 50 nodes, 3 hidden layers\n",
    "with 10 + 10 + 10\n",
    "• solver: adam and stochastic gradient descent"
   ]
  },
  {
   "cell_type": "code",
   "execution_count": 42,
   "metadata": {
    "ExecuteTime": {
     "end_time": "2023-11-11T06:38:11.066719400Z",
     "start_time": "2023-11-11T06:37:31.732639700Z"
    }
   },
   "outputs": [
    {
     "name": "stderr",
     "output_type": "stream",
     "text": [
      "C:\\Users\\amrit\\AppData\\Local\\Programs\\Python\\Python39\\lib\\site-packages\\sklearn\\neural_network\\_multilayer_perceptron.py:691: ConvergenceWarning: Stochastic Optimizer: Maximum iterations (200) reached and the optimization hasn't converged yet.\n",
      "  warnings.warn(\n",
      "C:\\Users\\amrit\\AppData\\Local\\Programs\\Python\\Python39\\lib\\site-packages\\sklearn\\neural_network\\_multilayer_perceptron.py:691: ConvergenceWarning: Stochastic Optimizer: Maximum iterations (200) reached and the optimization hasn't converged yet.\n",
      "  warnings.warn(\n",
      "C:\\Users\\amrit\\AppData\\Local\\Programs\\Python\\Python39\\lib\\site-packages\\sklearn\\neural_network\\_multilayer_perceptron.py:691: ConvergenceWarning: Stochastic Optimizer: Maximum iterations (200) reached and the optimization hasn't converged yet.\n",
      "  warnings.warn(\n",
      "C:\\Users\\amrit\\AppData\\Local\\Programs\\Python\\Python39\\lib\\site-packages\\sklearn\\neural_network\\_multilayer_perceptron.py:691: ConvergenceWarning: Stochastic Optimizer: Maximum iterations (200) reached and the optimization hasn't converged yet.\n",
      "  warnings.warn(\n",
      "C:\\Users\\amrit\\AppData\\Local\\Programs\\Python\\Python39\\lib\\site-packages\\sklearn\\neural_network\\_multilayer_perceptron.py:691: ConvergenceWarning: Stochastic Optimizer: Maximum iterations (200) reached and the optimization hasn't converged yet.\n",
      "  warnings.warn(\n",
      "C:\\Users\\amrit\\AppData\\Local\\Programs\\Python\\Python39\\lib\\site-packages\\sklearn\\neural_network\\_multilayer_perceptron.py:691: ConvergenceWarning: Stochastic Optimizer: Maximum iterations (200) reached and the optimization hasn't converged yet.\n",
      "  warnings.warn(\n",
      "C:\\Users\\amrit\\AppData\\Local\\Programs\\Python\\Python39\\lib\\site-packages\\sklearn\\neural_network\\_multilayer_perceptron.py:691: ConvergenceWarning: Stochastic Optimizer: Maximum iterations (200) reached and the optimization hasn't converged yet.\n",
      "  warnings.warn(\n",
      "C:\\Users\\amrit\\AppData\\Local\\Programs\\Python\\Python39\\lib\\site-packages\\sklearn\\neural_network\\_multilayer_perceptron.py:691: ConvergenceWarning: Stochastic Optimizer: Maximum iterations (200) reached and the optimization hasn't converged yet.\n",
      "  warnings.warn(\n",
      "C:\\Users\\amrit\\AppData\\Local\\Programs\\Python\\Python39\\lib\\site-packages\\sklearn\\neural_network\\_multilayer_perceptron.py:691: ConvergenceWarning: Stochastic Optimizer: Maximum iterations (200) reached and the optimization hasn't converged yet.\n",
      "  warnings.warn(\n",
      "C:\\Users\\amrit\\AppData\\Local\\Programs\\Python\\Python39\\lib\\site-packages\\sklearn\\neural_network\\_multilayer_perceptron.py:691: ConvergenceWarning: Stochastic Optimizer: Maximum iterations (200) reached and the optimization hasn't converged yet.\n",
      "  warnings.warn(\n",
      "C:\\Users\\amrit\\AppData\\Local\\Programs\\Python\\Python39\\lib\\site-packages\\sklearn\\neural_network\\_multilayer_perceptron.py:691: ConvergenceWarning: Stochastic Optimizer: Maximum iterations (200) reached and the optimization hasn't converged yet.\n",
      "  warnings.warn(\n",
      "C:\\Users\\amrit\\AppData\\Local\\Programs\\Python\\Python39\\lib\\site-packages\\sklearn\\neural_network\\_multilayer_perceptron.py:691: ConvergenceWarning: Stochastic Optimizer: Maximum iterations (200) reached and the optimization hasn't converged yet.\n",
      "  warnings.warn(\n",
      "C:\\Users\\amrit\\AppData\\Local\\Programs\\Python\\Python39\\lib\\site-packages\\sklearn\\model_selection\\_validation.py:425: FitFailedWarning: \n",
      "20 fits failed out of a total of 60.\n",
      "The score on these train-test partitions for these parameters will be set to nan.\n",
      "If these failures are not expected, you can try to debug them by setting error_score='raise'.\n",
      "\n",
      "Below are more details about the failures:\n",
      "--------------------------------------------------------------------------------\n",
      "20 fits failed with the following error:\n",
      "Traceback (most recent call last):\n",
      "  File \"C:\\Users\\amrit\\AppData\\Local\\Programs\\Python\\Python39\\lib\\site-packages\\sklearn\\model_selection\\_validation.py\", line 729, in _fit_and_score\n",
      "    estimator.fit(X_train, y_train, **fit_params)\n",
      "  File \"C:\\Users\\amrit\\AppData\\Local\\Programs\\Python\\Python39\\lib\\site-packages\\sklearn\\base.py\", line 1145, in wrapper\n",
      "    estimator._validate_params()\n",
      "  File \"C:\\Users\\amrit\\AppData\\Local\\Programs\\Python\\Python39\\lib\\site-packages\\sklearn\\base.py\", line 638, in _validate_params\n",
      "    validate_parameter_constraints(\n",
      "  File \"C:\\Users\\amrit\\AppData\\Local\\Programs\\Python\\Python39\\lib\\site-packages\\sklearn\\utils\\_param_validation.py\", line 96, in validate_parameter_constraints\n",
      "    raise InvalidParameterError(\n",
      "sklearn.utils._param_validation.InvalidParameterError: The 'activation' parameter of MLPClassifier must be a str among {'identity', 'tanh', 'relu', 'logistic'}. Got 'sigmoid' instead.\n",
      "\n",
      "  warnings.warn(some_fits_failed_message, FitFailedWarning)\n",
      "C:\\Users\\amrit\\AppData\\Local\\Programs\\Python\\Python39\\lib\\site-packages\\sklearn\\model_selection\\_search.py:979: UserWarning: One or more of the test scores are non-finite: [       nan        nan        nan        nan 0.54533582 0.52363504\n",
      " 0.53640134 0.5220381  0.53193665 0.52714534 0.52458892 0.53895216]\n",
      "  warnings.warn(\n"
     ]
    },
    {
     "name": "stdout",
     "output_type": "stream",
     "text": [
      "{'activation': 'tanh', 'hidden_layer_sizes': (25, 50), 'solver': 'adam'}\n"
     ]
    }
   ],
   "source": [
    "# Training top MLP\n",
    "parameters = {'activation': ['sigmoid', 'tanh', 'relu'],\n",
    "    'hidden_layer_sizes': [(25, 50), (10, 10, 10)],\n",
    "    'solver': ['adam', 'sgd']}\n",
    "\n",
    "\n",
    "top_MLP_d2 = MLPClassifier(hidden_layer_sizes=(100,100), activation='logistic', solver='sgd')\n",
    "top_MLP_d2 = GridSearchCV(top_MLP_d2, parameters)\n",
    "\n",
    "top_MLP_d2.fit(X_train, y_train)\n",
    "\n",
    "print(top_MLP_d2.best_params_)"
   ]
  },
  {
   "cell_type": "code",
   "execution_count": 43,
   "metadata": {
    "ExecuteTime": {
     "end_time": "2023-11-11T06:38:11.082721700Z",
     "start_time": "2023-11-11T06:38:11.057722600Z"
    }
   },
   "outputs": [],
   "source": [
    "# Testing base MLP\n",
    "predictions = top_MLP_d2.predict(X_test)"
   ]
  },
  {
   "cell_type": "code",
   "execution_count": 44,
   "metadata": {
    "ExecuteTime": {
     "end_time": "2023-11-11T06:38:11.121723400Z",
     "start_time": "2023-11-11T06:38:11.073719400Z"
    }
   },
   "outputs": [
    {
     "name": "stdout",
     "output_type": "stream",
     "text": [
      "[[128  69 134]\n",
      " [ 52 216  71]\n",
      " [151  62 162]]\n",
      "              precision    recall  f1-score   support\n",
      "\n",
      "           F       0.39      0.39      0.39       331\n",
      "           I       0.62      0.64      0.63       339\n",
      "           M       0.44      0.43      0.44       375\n",
      "\n",
      "    accuracy                           0.48      1045\n",
      "   macro avg       0.48      0.49      0.48      1045\n",
      "weighted avg       0.48      0.48      0.48      1045\n"
     ]
    }
   ],
   "source": [
    "# Performance\n",
    "print(confusion_matrix(y_test, predictions2))\n",
    "\n",
    "print(classification_report(y_test, predictions2))"
   ]
  },
  {
   "cell_type": "code",
   "execution_count": 45,
   "metadata": {
    "ExecuteTime": {
     "end_time": "2023-11-11T06:38:11.181302Z",
     "start_time": "2023-11-11T06:38:11.106721300Z"
    }
   },
   "outputs": [],
   "source": [
    "# Output file\n",
    "f1_scr_weighted = f1_score(y_test,predictions, average=\"weighted\")\n",
    "f1_scr_macro = f1_score(y_test,predictions, average=\"macro\")\n",
    "accuracy = accuracy_score(y_test, predictions)\n",
    "write_performance_to_file(output_file, \"(D) TOP-MLP\", confusion_matrix(y_test, predictions2), classification_report(y_test, predictions2), accuracy, f1_scr_macro, f1_scr_weighted)\n",
    "\n",
    "# (A) a clear separator (a sequence of hyphens or stars) and a string clearly describing the model \n",
    "    # (e.g. the model name + hyper-parameter values that you changed). In the case of Top-DT and Top-MLP,\n",
    "    # display the best hyperparameters found by the gridsearch.\n",
    "\n",
    "# (B) the confusion matrix\n",
    "\n",
    "# (C) the precision, recall, and F1-measure for each class\n",
    "\n",
    "# (D) the accuracy, macro-average F1 and weighted-average F1 of the model"
   ]
  },
  {
   "cell_type": "markdown",
   "metadata": {},
   "source": [
    "6. Redo steps 4 & 5, 5 times for each model and append in the performance files:\n",
    "(A) the average accuracy & the variance,\n",
    "(B) average macro-average F1 & the variance,\n",
    "(C) average weighted-average F1 & the variance.\n",
    "Does the same model give you the same performance every time? is the standard deviation high? Be ready\n",
    "to discuss this at the demo.\n",
    "\n"
   ]
  },
  {
   "cell_type": "code",
   "execution_count": 46,
   "outputs": [
    {
     "data": {
      "text/plain": "'abalone-performance.txt'"
     },
     "execution_count": 46,
     "metadata": {},
     "output_type": "execute_result"
    }
   ],
   "source": [
    "output_file"
   ],
   "metadata": {
    "collapsed": false,
    "ExecuteTime": {
     "end_time": "2023-11-11T06:38:11.191302200Z",
     "start_time": "2023-11-11T06:38:11.152720Z"
    }
   }
  }
 ],
 "metadata": {
  "kernelspec": {
   "display_name": "Python 3",
   "language": "python",
   "name": "python3"
  },
  "language_info": {
   "codemirror_mode": {
    "name": "ipython",
    "version": 3
   },
   "file_extension": ".py",
   "mimetype": "text/x-python",
   "name": "python",
   "nbconvert_exporter": "python",
   "pygments_lexer": "ipython3",
   "version": "3.11.3"
  }
 },
 "nbformat": 4,
 "nbformat_minor": 2
}
