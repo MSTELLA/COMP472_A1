{
 "cells": [
  {
   "cell_type": "code",
   "execution_count": null,
   "metadata": {},
   "outputs": [],
   "source": [
    "# Team Bean Burrito\n",
    "'''\n",
    "Gabrielle Guidote 40175182\n",
    "Marie-Jose Castellanos 40168044\n",
    "Amrit Sohpal 40176197\n",
    "'''\n",
    "# Assignment 1\n",
    "# Abalone Dataset\n",
    "# output file : abalone-performance.txt "
   ]
  },
  {
   "cell_type": "code",
   "execution_count": null,
   "metadata": {},
   "outputs": [],
   "source": [
    "# Import Libraries\n",
    "import numpy as np\n",
    "import pandas as pd\n",
    "import matplotlib.pyplot as plt\n",
    "from sklearn.linear_model import LinearRegression\n",
    "from sklearn.preprocessing import LabelEncoder\n",
    "from sklearn.preprocessing import OneHotEncoder\n",
    "from sklearn.model_selection import train_test_split\n",
    "\n",
    "#4 a : DT\n",
    "from sklearn.tree import DecisionTreeClassifier\n",
    "from sklearn import tree\n",
    "\n",
    "#4 b : DT GridSearch\n",
    "from sklearn.model_selection import GridSearchCV\n",
    "\n",
    "#4 c: MLP\n",
    "from sklearn.neural_network import MLPClassifier\n",
    "\n",
    "# performance metrics\n",
    "from sklearn.metrics import confusion_matrix\n",
    "from sklearn.metrics import classification_report"
   ]
  },
  {
   "cell_type": "markdown",
   "metadata": {},
   "source": [
    "The Data sets"
   ]
  },
  {
   "cell_type": "markdown",
   "metadata": {},
   "source": [
    "DATASET 1 :  ABALONE"
   ]
  },
  {
   "cell_type": "code",
   "execution_count": null,
   "metadata": {},
   "outputs": [
    {
     "name": "stdout",
     "output_type": "stream",
     "text": [
      "<class 'pandas.core.frame.DataFrame'>\n",
      "RangeIndex: 4177 entries, 0 to 4176\n",
      "Data columns (total 9 columns):\n",
      " #   Column         Non-Null Count  Dtype  \n",
      "---  ------         --------------  -----  \n",
      " 0   Type           4177 non-null   object \n",
      " 1   LongestShell   4177 non-null   float64\n",
      " 2   Diameter       4177 non-null   float64\n",
      " 3   Height         4177 non-null   float64\n",
      " 4   WholeWeight    4177 non-null   float64\n",
      " 5   ShuckedWeight  4177 non-null   float64\n",
      " 6   VisceraWeight  4177 non-null   float64\n",
      " 7   ShellWeight    4177 non-null   float64\n",
      " 8   Rings          4177 non-null   int64  \n",
      "dtypes: float64(7), int64(1), object(1)\n",
      "memory usage: 293.8+ KB\n"
     ]
    },
    {
     "data": {
      "text/html": [
       "<div>\n",
       "<style scoped>\n",
       "    .dataframe tbody tr th:only-of-type {\n",
       "        vertical-align: middle;\n",
       "    }\n",
       "\n",
       "    .dataframe tbody tr th {\n",
       "        vertical-align: top;\n",
       "    }\n",
       "\n",
       "    .dataframe thead th {\n",
       "        text-align: right;\n",
       "    }\n",
       "</style>\n",
       "<table border=\"1\" class=\"dataframe\">\n",
       "  <thead>\n",
       "    <tr style=\"text-align: right;\">\n",
       "      <th></th>\n",
       "      <th>Type</th>\n",
       "      <th>LongestShell</th>\n",
       "      <th>Diameter</th>\n",
       "      <th>Height</th>\n",
       "      <th>WholeWeight</th>\n",
       "      <th>ShuckedWeight</th>\n",
       "      <th>VisceraWeight</th>\n",
       "      <th>ShellWeight</th>\n",
       "      <th>Rings</th>\n",
       "    </tr>\n",
       "  </thead>\n",
       "  <tbody>\n",
       "    <tr>\n",
       "      <th>0</th>\n",
       "      <td>F</td>\n",
       "      <td>0.605</td>\n",
       "      <td>0.470</td>\n",
       "      <td>0.165</td>\n",
       "      <td>1.1775</td>\n",
       "      <td>0.6110</td>\n",
       "      <td>0.2275</td>\n",
       "      <td>0.2920</td>\n",
       "      <td>9</td>\n",
       "    </tr>\n",
       "    <tr>\n",
       "      <th>1</th>\n",
       "      <td>M</td>\n",
       "      <td>0.550</td>\n",
       "      <td>0.425</td>\n",
       "      <td>0.150</td>\n",
       "      <td>0.8315</td>\n",
       "      <td>0.4110</td>\n",
       "      <td>0.1765</td>\n",
       "      <td>0.2165</td>\n",
       "      <td>10</td>\n",
       "    </tr>\n",
       "    <tr>\n",
       "      <th>2</th>\n",
       "      <td>M</td>\n",
       "      <td>0.460</td>\n",
       "      <td>0.345</td>\n",
       "      <td>0.110</td>\n",
       "      <td>0.4595</td>\n",
       "      <td>0.2350</td>\n",
       "      <td>0.0885</td>\n",
       "      <td>0.1160</td>\n",
       "      <td>7</td>\n",
       "    </tr>\n",
       "    <tr>\n",
       "      <th>3</th>\n",
       "      <td>F</td>\n",
       "      <td>0.650</td>\n",
       "      <td>0.475</td>\n",
       "      <td>0.165</td>\n",
       "      <td>1.3875</td>\n",
       "      <td>0.5800</td>\n",
       "      <td>0.3485</td>\n",
       "      <td>0.3095</td>\n",
       "      <td>9</td>\n",
       "    </tr>\n",
       "    <tr>\n",
       "      <th>4</th>\n",
       "      <td>M</td>\n",
       "      <td>0.575</td>\n",
       "      <td>0.470</td>\n",
       "      <td>0.140</td>\n",
       "      <td>0.8375</td>\n",
       "      <td>0.3485</td>\n",
       "      <td>0.1735</td>\n",
       "      <td>0.2400</td>\n",
       "      <td>11</td>\n",
       "    </tr>\n",
       "  </tbody>\n",
       "</table>\n",
       "</div>"
      ],
      "text/plain": [
       "  Type  LongestShell  Diameter  Height  WholeWeight  ShuckedWeight  \\\n",
       "0    F         0.605     0.470   0.165       1.1775         0.6110   \n",
       "1    M         0.550     0.425   0.150       0.8315         0.4110   \n",
       "2    M         0.460     0.345   0.110       0.4595         0.2350   \n",
       "3    F         0.650     0.475   0.165       1.3875         0.5800   \n",
       "4    M         0.575     0.470   0.140       0.8375         0.3485   \n",
       "\n",
       "   VisceraWeight  ShellWeight  Rings  \n",
       "0         0.2275       0.2920      9  \n",
       "1         0.1765       0.2165     10  \n",
       "2         0.0885       0.1160      7  \n",
       "3         0.3485       0.3095      9  \n",
       "4         0.1735       0.2400     11  "
      ]
     },
     "metadata": {},
     "output_type": "display_data"
    }
   ],
   "source": [
    "# data regarding Abalones.contains features of physical description of abalones (length, diameter, weights, etc) and one of 3 possible values for their\n",
    "# sex: M (male), F (female), I (infant). Given the physical features of the abalone, the goal is to predict their sex.\n",
    "df2 = pd.read_csv(\"abalone.csv\")\n",
    "df2.info()\n",
    "df2.head()\n",
    "# All features are numerical. Only the classes are string. No changes necessary."
   ]
  },
  {
   "cell_type": "markdown",
   "metadata": {},
   "source": [
    "2. Plot the percentage of the instances in each output class and store the graphic in a file called penguin-classes.gif\n",
    "/ abalone-classes.gif. This analysis of the dataset will allow you to determine if the classes are balanced.\n",
    "Which metric is more appropriate to use to evaluate the performance. Be ready to discuss this at the demo."
   ]
  },
  {
   "cell_type": "code",
   "execution_count": null,
   "metadata": {},
   "outputs": [
    {
     "data": {
      "image/png": "[encoded data removed]",
      "text/plain": [
       "<Figure size 432x288 with 1 Axes>"
      ]
     },
     "metadata": {},
     "output_type": "display_data"
    }
   ],
   "source": [
    "class_count = df2['Type'].value_counts()\n",
    "plt.pie(class_count, labels=class_count.index, autopct='%1.1f%%') # TODO : CAHNGE TYPE?? COLOR? HARD TO SEE SAVED IMAGE\n",
    "plt.title('Distribution of Type')\n",
    "# plt.show()\n",
    "\n",
    "# save image (she said not .gif is ok)\n",
    "plt.savefig('abalone-classes.png')"
   ]
  },
  {
   "cell_type": "markdown",
   "metadata": {},
   "source": [
    "3. Split the dataset using train test split using the default parameter values"
   ]
  },
  {
   "cell_type": "code",
   "execution_count": null,
   "metadata": {},
   "outputs": [],
   "source": [
    "X2 =  df2.loc[:, df2.columns != 'Type']\n",
    "y2 = df2['Type']\n",
    "\n",
    "X2_train, X2_test, y2_train, y2_test = train_test_split(X2, y2, test_size = 0.25)"
   ]
  },
  {
   "cell_type": "markdown",
   "metadata": {},
   "source": [
    "4. Train and test 4 different classifiers:"
   ]
  },
  {
   "cell_type": "markdown",
   "metadata": {},
   "source": [
    "# Base DT\n",
    "(a) Base-DT: a Decision Tree with the default parameters. Show the decision tree graphically (for the\n",
    "abalone dataset, you can restrict the tree depth for visualisation purposes)"
   ]
  },
  {
   "cell_type": "code",
   "execution_count": null,
   "metadata": {},
   "outputs": [
    {
     "data": {
      "text/plain": [
       "DecisionTreeClassifier()"
      ]
     },
     "metadata": {},
     "output_type": "display_data"
    }
   ],
   "source": [
    "# Training base DT\n",
    "base_DT_D2 = DecisionTreeClassifier()\n",
    "base_DT_D2.fit(X2_train, y2_train)"
   ]
  },
  {
   "cell_type": "code",
   "execution_count": null,
   "metadata": {},
   "outputs": [
    {
     "data": {
      "text/plain": [
       "[Text(0.498125, 0.9285714285714286, 'X[5] <= 0.144\\ngini = 0.665\\nsamples = 3132\\nvalue = [995, 1004, 1133]'),\n",
       " Text(0.2325, 0.7857142857142857, 'X[7] <= 8.5\\ngini = 0.526\\nsamples = 1291\\nvalue = [193, 823, 275]'),\n",
       " Text(0.105, 0.6428571428571429, 'X[5] <= 0.09\\ngini = 0.367\\nsamples = 864\\nvalue = [63, 672, 129]'),\n",
       " Text(0.05, 0.5, 'X[2] <= 0.15\\ngini = 0.276\\nsamples = 614\\nvalue = [28, 517, 69]'),\n",
       " Text(0.04, 0.35714285714285715, 'X[7] <= 7.5\\ngini = 0.274\\nsamples = 613\\nvalue = [27, 517, 69]'),\n",
       " Text(0.02, 0.21428571428571427, 'X[4] <= 0.09\\ngini = 0.244\\nsamples = 509\\nvalue = [18, 439, 52]'),\n",
       " Text(0.01, 0.07142857142857142, '\\n  (...)  \\n'),\n",
       " Text(0.03, 0.07142857142857142, '\\n  (...)  \\n'),\n",
       " Text(0.06, 0.21428571428571427, 'X[6] <= 0.15\\ngini = 0.403\\nsamples = 104\\nvalue = [9, 78, 17]'),\n",
       " Text(0.05, 0.07142857142857142, '\\n  (...)  \\n'),\n",
       " Text(0.07, 0.07142857142857142, '\\n  (...)  \\n'),\n",
       " Text(0.06, 0.35714285714285715, 'gini = 0.0\\nsamples = 1\\nvalue = [1, 0, 0]'),\n",
       " Text(0.16, 0.5, 'X[4] <= 0.156\\ngini = 0.538\\nsamples = 250\\nvalue = [35, 155, 60]'),\n",
       " Text(0.12, 0.35714285714285715, 'X[3] <= 0.381\\ngini = 0.62\\nsamples = 10\\nvalue = [5, 2, 3]'),\n",
       " Text(0.1, 0.21428571428571427, 'X[2] <= 0.087\\ngini = 0.5\\nsamples = 4\\nvalue = [0, 2, 2]'),\n",
       " Text(0.09, 0.07142857142857142, '\\n  (...)  \\n'),\n",
       " Text(0.11, 0.07142857142857142, '\\n  (...)  \\n'),\n",
       " Text(0.14, 0.21428571428571427, 'X[3] <= 0.407\\ngini = 0.278\\nsamples = 6\\nvalue = [5, 0, 1]'),\n",
       " Text(0.13, 0.07142857142857142, '\\n  (...)  \\n'),\n",
       " Text(0.15, 0.07142857142857142, '\\n  (...)  \\n'),\n",
       " Text(0.2, 0.35714285714285715, 'X[0] <= 0.498\\ngini = 0.522\\nsamples = 240\\nvalue = [30, 153, 57]'),\n",
       " Text(0.18, 0.21428571428571427, 'X[1] <= 0.382\\ngini = 0.554\\nsamples = 167\\nvalue = [21, 99, 47]'),\n",
       " Text(0.17, 0.07142857142857142, '\\n  (...)  \\n'),\n",
       " Text(0.19, 0.07142857142857142, '\\n  (...)  \\n'),\n",
       " Text(0.22, 0.21428571428571427, 'X[6] <= 0.155\\ngini = 0.419\\nsamples = 73\\nvalue = [9, 54, 10]'),\n",
       " Text(0.21, 0.07142857142857142, '\\n  (...)  \\n'),\n",
       " Text(0.23, 0.07142857142857142, '\\n  (...)  \\n'),\n",
       " Text(0.36, 0.6428571428571429, 'X[7] <= 9.5\\ngini = 0.665\\nsamples = 427\\nvalue = [130, 151, 146]'),\n",
       " Text(0.305, 0.5, 'X[0] <= 0.512\\ngini = 0.609\\nsamples = 160\\nvalue = [28, 82, 50]'),\n",
       " Text(0.28, 0.35714285714285715, 'X[3] <= 0.629\\ngini = 0.632\\nsamples = 133\\nvalue = [25, 59, 49]'),\n",
       " Text(0.26, 0.21428571428571427, 'X[0] <= 0.463\\ngini = 0.627\\nsamples = 125\\nvalue = [24, 59, 42]'),\n",
       " Text(0.25, 0.07142857142857142, '\\n  (...)  \\n'),\n",
       " Text(0.27, 0.07142857142857142, '\\n  (...)  \\n'),\n",
       " Text(0.3, 0.21428571428571427, 'X[5] <= 0.14\\ngini = 0.219\\nsamples = 8\\nvalue = [1, 0, 7]'),\n",
       " Text(0.29, 0.07142857142857142, '\\n  (...)  \\n'),\n",
       " Text(0.31, 0.07142857142857142, '\\n  (...)  \\n'),\n",
       " Text(0.33, 0.35714285714285715, 'X[5] <= 0.131\\ngini = 0.261\\nsamples = 27\\nvalue = [3, 23, 1]'),\n",
       " Text(0.32, 0.21428571428571427, 'gini = 0.0\\nsamples = 16\\nvalue = [0, 16, 0]'),\n",
       " Text(0.34, 0.21428571428571427, 'X[1] <= 0.41\\ngini = 0.512\\nsamples = 11\\nvalue = [3, 7, 1]'),\n",
       " Text(0.33, 0.07142857142857142, '\\n  (...)  \\n'),\n",
       " Text(0.35, 0.07142857142857142, '\\n  (...)  \\n'),\n",
       " Text(0.415, 0.5, 'X[6] <= 0.069\\ngini = 0.658\\nsamples = 267\\nvalue = [102, 69, 96]'),\n",
       " Text(0.39, 0.35714285714285715, 'X[5] <= 0.033\\ngini = 0.245\\nsamples = 14\\nvalue = [0, 2, 12]'),\n",
       " Text(0.38, 0.21428571428571427, 'X[1] <= 0.235\\ngini = 0.444\\nsamples = 3\\nvalue = [0, 2, 1]'),\n",
       " Text(0.37, 0.07142857142857142, '\\n  (...)  \\n'),\n",
       " Text(0.39, 0.07142857142857142, '\\n  (...)  \\n'),\n",
       " Text(0.4, 0.21428571428571427, 'gini = 0.0\\nsamples = 11\\nvalue = [0, 0, 11]'),\n",
       " Text(0.44, 0.35714285714285715, 'X[1] <= 0.407\\ngini = 0.657\\nsamples = 253\\nvalue = [102, 67, 84]'),\n",
       " Text(0.42, 0.21428571428571427, 'X[3] <= 0.533\\ngini = 0.646\\nsamples = 223\\nvalue = [98, 53, 72]'),\n",
       " Text(0.41, 0.07142857142857142, '\\n  (...)  \\n'),\n",
       " Text(0.43, 0.07142857142857142, '\\n  (...)  \\n'),\n",
       " Text(0.46, 0.21428571428571427, 'X[7] <= 11.5\\ngini = 0.604\\nsamples = 30\\nvalue = [4, 14, 12]'),\n",
       " Text(0.45, 0.07142857142857142, '\\n  (...)  \\n'),\n",
       " Text(0.47, 0.07142857142857142, '\\n  (...)  \\n'),\n",
       " Text(0.76375, 0.7857142857142857, 'X[3] <= 0.874\\ngini = 0.583\\nsamples = 1841\\nvalue = [802, 181, 858]'),\n",
       " Text(0.6325, 0.6428571428571429, 'X[0] <= 0.538\\ngini = 0.656\\nsamples = 458\\nvalue = [158, 117, 183]'),\n",
       " Text(0.56, 0.5, 'X[1] <= 0.422\\ngini = 0.623\\nsamples = 243\\nvalue = [96, 40, 107]'),\n",
       " Text(0.52, 0.35714285714285715, 'X[2] <= 0.163\\ngini = 0.619\\nsamples = 204\\nvalue = [71, 35, 98]'),\n",
       " Text(0.5, 0.21428571428571427, 'X[6] <= 0.262\\ngini = 0.619\\nsamples = 186\\nvalue = [59, 35, 92]'),\n",
       " Text(0.49, 0.07142857142857142, '\\n  (...)  \\n'),\n",
       " Text(0.51, 0.07142857142857142, '\\n  (...)  \\n'),\n",
       " Text(0.54, 0.21428571428571427, 'X[5] <= 0.17\\ngini = 0.444\\nsamples = 18\\nvalue = [12, 0, 6]'),\n",
       " Text(0.53, 0.07142857142857142, '\\n  (...)  \\n'),\n",
       " Text(0.55, 0.07142857142857142, '\\n  (...)  \\n'),\n",
       " Text(0.6, 0.35714285714285715, 'X[3] <= 0.707\\ngini = 0.519\\nsamples = 39\\nvalue = [25, 5, 9]'),\n",
       " Text(0.58, 0.21428571428571427, 'X[6] <= 0.204\\ngini = 0.5\\nsamples = 4\\nvalue = [0, 2, 2]'),\n",
       " Text(0.57, 0.07142857142857142, '\\n  (...)  \\n'),\n",
       " Text(0.59, 0.07142857142857142, '\\n  (...)  \\n'),\n",
       " Text(0.62, 0.21428571428571427, 'X[6] <= 0.257\\ngini = 0.442\\nsamples = 35\\nvalue = [25, 3, 7]'),\n",
       " Text(0.61, 0.07142857142857142, '\\n  (...)  \\n'),\n",
       " Text(0.63, 0.07142857142857142, '\\n  (...)  \\n'),\n",
       " Text(0.705, 0.5, 'X[3] <= 0.775\\ngini = 0.664\\nsamples = 215\\nvalue = [62, 77, 76]'),\n",
       " Text(0.68, 0.35714285714285715, 'X[7] <= 11.5\\ngini = 0.583\\nsamples = 65\\nvalue = [13, 37, 15]'),\n",
       " Text(0.66, 0.21428571428571427, 'X[6] <= 0.272\\ngini = 0.506\\nsamples = 53\\nvalue = [10, 35, 8]'),\n",
       " Text(0.65, 0.07142857142857142, '\\n  (...)  \\n'),\n",
       " Text(0.67, 0.07142857142857142, '\\n  (...)  \\n'),\n",
       " Text(0.7, 0.21428571428571427, 'X[0] <= 0.567\\ngini = 0.569\\nsamples = 12\\nvalue = [3, 2, 7]'),\n",
       " Text(0.69, 0.07142857142857142, '\\n  (...)  \\n'),\n",
       " Text(0.71, 0.07142857142857142, '\\n  (...)  \\n'),\n",
       " Text(0.73, 0.35714285714285715, 'X[4] <= 0.293\\ngini = 0.657\\nsamples = 150\\nvalue = [49, 40, 61]'),\n",
       " Text(0.72, 0.21428571428571427, 'gini = 0.0\\nsamples = 6\\nvalue = [0, 0, 6]'),\n",
       " Text(0.74, 0.21428571428571427, 'X[4] <= 0.4\\ngini = 0.661\\nsamples = 144\\nvalue = [49, 40, 55]'),\n",
       " Text(0.73, 0.07142857142857142, '\\n  (...)  \\n'),\n",
       " Text(0.75, 0.07142857142857142, '\\n  (...)  \\n'),\n",
       " Text(0.895, 0.6428571428571429, 'X[4] <= 0.873\\ngini = 0.543\\nsamples = 1383\\nvalue = [644, 64, 675]'),\n",
       " Text(0.84, 0.5, 'X[5] <= 0.301\\ngini = 0.545\\nsamples = 1321\\nvalue = [628, 64, 629]'),\n",
       " Text(0.8, 0.35714285714285715, 'X[0] <= 0.527\\ngini = 0.553\\nsamples = 945\\nvalue = [410, 58, 477]'),\n",
       " Text(0.78, 0.21428571428571427, 'X[6] <= 0.316\\ngini = 0.266\\nsamples = 19\\nvalue = [3, 0, 16]'),\n",
       " Text(0.77, 0.07142857142857142, '\\n  (...)  \\n'),\n",
       " Text(0.79, 0.07142857142857142, '\\n  (...)  \\n'),\n",
       " Text(0.82, 0.21428571428571427, 'X[3] <= 1.137\\ngini = 0.555\\nsamples = 926\\nvalue = [407, 58, 461]'),\n",
       " Text(0.81, 0.07142857142857142, '\\n  (...)  \\n'),\n",
       " Text(0.83, 0.07142857142857142, '\\n  (...)  \\n'),\n",
       " Text(0.88, 0.35714285714285715, 'X[1] <= 0.543\\ngini = 0.5\\nsamples = 376\\nvalue = [218, 6, 152]'),\n",
       " Text(0.86, 0.21428571428571427, 'X[4] <= 0.664\\ngini = 0.513\\nsamples = 278\\nvalue = [149, 5, 124]'),\n",
       " Text(0.85, 0.07142857142857142, '\\n  (...)  \\n'),\n",
       " Text(0.87, 0.07142857142857142, '\\n  (...)  \\n'),\n",
       " Text(0.9, 0.21428571428571427, 'X[0] <= 0.752\\ngini = 0.423\\nsamples = 98\\nvalue = [69, 1, 28]'),\n",
       " Text(0.89, 0.07142857142857142, '\\n  (...)  \\n'),\n",
       " Text(0.91, 0.07142857142857142, '\\n  (...)  \\n'),\n",
       " Text(0.95, 0.5, 'X[5] <= 0.459\\ngini = 0.383\\nsamples = 62\\nvalue = [16, 0, 46]'),\n",
       " Text(0.93, 0.35714285714285715, 'X[1] <= 0.455\\ngini = 0.245\\nsamples = 35\\nvalue = [5, 0, 30]'),\n",
       " Text(0.92, 0.21428571428571427, 'gini = 0.0\\nsamples = 1\\nvalue = [1, 0, 0]'),\n",
       " Text(0.94, 0.21428571428571427, 'X[2] <= 0.172\\ngini = 0.208\\nsamples = 34\\nvalue = [4, 0, 30]'),\n",
       " Text(0.93, 0.07142857142857142, '\\n  (...)  \\n'),\n",
       " Text(0.95, 0.07142857142857142, '\\n  (...)  \\n'),\n",
       " Text(0.97, 0.35714285714285715, 'X[2] <= 0.192\\ngini = 0.483\\nsamples = 27\\nvalue = [11, 0, 16]'),\n",
       " Text(0.96, 0.21428571428571427, 'gini = 0.0\\nsamples = 7\\nvalue = [0, 0, 7]'),\n",
       " Text(0.98, 0.21428571428571427, 'X[5] <= 0.521\\ngini = 0.495\\nsamples = 20\\nvalue = [11, 0, 9]'),\n",
       " Text(0.97, 0.07142857142857142, '\\n  (...)  \\n'),\n",
       " Text(0.99, 0.07142857142857142, '\\n  (...)  \\n')]"
      ]
     },
     "metadata": {},
     "output_type": "display_data"
    },
    {
     "data": {
      "image/png": "[encoded data removed]",
      "text/plain": [
       "<Figure size 432x288 with 1 Axes>"
      ]
     },
     "metadata": {},
     "output_type": "display_data"
    }
   ],
   "source": [
    "# Tree Visualization : https://scikit-learn.org/stable/modules/generated/sklearn.tree.plot_tree.html TODO : change figure size because its really tiny\n",
    "tree.plot_tree(base_DT_D2, max_depth=5)"
   ]
  },
  {
   "cell_type": "code",
   "execution_count": null,
   "metadata": {},
   "outputs": [],
   "source": [
    "# Testing base DT\n",
    "predictions2 = base_DT_D2.predict(X2_test)"
   ]
  },
  {
   "cell_type": "code",
   "execution_count": null,
   "metadata": {},
   "outputs": [
    {
     "name": "stdout",
     "output_type": "stream",
     "text": [
      "[[124  52 136]\n",
      " [ 50 205  83]\n",
      " [149  65 181]]\n",
      "              precision    recall  f1-score   support\n",
      "\n",
      "           F       0.38      0.40      0.39       312\n",
      "           I       0.64      0.61      0.62       338\n",
      "           M       0.45      0.46      0.46       395\n",
      "\n",
      "    accuracy                           0.49      1045\n",
      "   macro avg       0.49      0.49      0.49      1045\n",
      "weighted avg       0.49      0.49      0.49      1045\n",
      "\n"
     ]
    }
   ],
   "source": [
    "# Performance\n",
    "print(confusion_matrix(y2_test, predictions2))\n",
    "\n",
    "print(classification_report(y2_test, predictions2))"
   ]
  },
  {
   "cell_type": "code",
   "execution_count": null,
   "metadata": {},
   "outputs": [],
   "source": [
    "# Output file\n",
    "# (A) a clear separator (a sequence of hyphens or stars) and a string clearly describing the model \n",
    "    # (e.g. the model name + hyper-parameter values that you changed). In the case of Top-DT and Top-MLP,\n",
    "    # display the best hyperparameters found by the gridsearch.\n",
    "\n",
    "# (B) the confusion matrix\n",
    "\n",
    "# (C) the precision, recall, and F1-measure for each class\n",
    "\n",
    "# (D) the accuracy, macro-average F1 and weighted-average F1 of the model"
   ]
  },
  {
   "cell_type": "markdown",
   "metadata": {},
   "source": [
    "# TOP DT\n",
    "(b) Top-DT: a better performing Decision Tree found using a gridsearch. The gridsearch will allow you\n",
    "to find the best combination of hyper-parameters, as determined by the evaluation function that you\n",
    "have determined in step (3) above. The hyper-parameters that you will experiment with are:\n",
    "• criterion: gini or entropy\n",
    "• max depth : 2 different values of your choice and ”None”\n",
    "• min samples split: 3 different values of your choice\n",
    "Show the decision tree graphically (for the abalone dataset, you can restrict the tree depth for visualisation purposes)"
   ]
  },
  {
   "cell_type": "code",
   "execution_count": null,
   "metadata": {},
   "outputs": [
    {
     "name": "stdout",
     "output_type": "stream",
     "text": [
      "{'criterion': 'entropy', 'max_depth': 3, 'min_samples_split': 2}\n"
     ]
    }
   ],
   "source": [
    "# Training top DT\n",
    "parameters = {'criterion':['gini','entropy'], 'max_depth':[3,10,None], 'min_samples_split':[2,5,10]}\n",
    "\n",
    "top_DT_D2 = DecisionTreeClassifier()\n",
    "top_DT_D2 = GridSearchCV(top_DT_D2, parameters)\n",
    "\n",
    "top_DT_D2.fit(X2_train, y2_train)\n",
    "\n",
    "print(top_DT_D2.best_params_)"
   ]
  },
  {
   "cell_type": "code",
   "execution_count": null,
   "metadata": {},
   "outputs": [],
   "source": [
    "# Testing base DT\n",
    "predictions = top_DT_D2.predict(X2_test)"
   ]
  },
  {
   "cell_type": "code",
   "execution_count": null,
   "metadata": {},
   "outputs": [
    {
     "name": "stdout",
     "output_type": "stream",
     "text": [
      "[[198  36  78]\n",
      " [ 48 241  49]\n",
      " [218  67 110]]\n",
      "              precision    recall  f1-score   support\n",
      "\n",
      "           F       0.43      0.63      0.51       312\n",
      "           I       0.70      0.71      0.71       338\n",
      "           M       0.46      0.28      0.35       395\n",
      "\n",
      "    accuracy                           0.53      1045\n",
      "   macro avg       0.53      0.54      0.52      1045\n",
      "weighted avg       0.53      0.53      0.51      1045\n",
      "\n"
     ]
    }
   ],
   "source": [
    "# Performance\n",
    "print(confusion_matrix(y2_test, predictions))\n",
    "\n",
    "print(classification_report(y2_test, predictions))"
   ]
  },
  {
   "cell_type": "code",
   "execution_count": null,
   "metadata": {},
   "outputs": [],
   "source": [
    "# Output file\n",
    "# (A) a clear separator (a sequence of hyphens or stars) and a string clearly describing the model \n",
    "    # (e.g. the model name + hyper-parameter values that you changed). In the case of Top-DT and Top-MLP,\n",
    "    # display the best hyperparameters found by the gridsearch.\n",
    "\n",
    "# (B) the confusion matrix\n",
    "\n",
    "# (C) the precision, recall, and F1-measure for each class\n",
    "\n",
    "# (D) the accuracy, macro-average F1 and weighted-average F1 of the model"
   ]
  },
  {
   "cell_type": "markdown",
   "metadata": {},
   "source": [
    "# BASE MLP\n",
    "(c) Base-MLP: a Multi-Layered Perceptron with 2 hidden layers of 100+100 neurons, sigmoid/logistic\n",
    "as activation function, stochastic gradient descent, and default values for the rest of the parameters"
   ]
  },
  {
   "cell_type": "code",
   "execution_count": null,
   "metadata": {},
   "outputs": [],
   "source": [
    "# Output file\n",
    "# (A) a clear separator (a sequence of hyphens or stars) and a string clearly describing the model \n",
    "    # (e.g. the model name + hyper-parameter values that you changed). In the case of Top-DT and Top-MLP,\n",
    "    # display the best hyperparameters found by the gridsearch.\n",
    "\n",
    "# (B) the confusion matrix\n",
    "\n",
    "# (C) the precision, recall, and F1-measure for each class\n",
    "\n",
    "# (D) the accuracy, macro-average F1 and weighted-average F1 of the model"
   ]
  },
  {
   "cell_type": "markdown",
   "metadata": {},
   "source": [
    "# TOP MLP\n",
    "\n",
    "(d) Top-MLP: a better performing Multi-Layered Perceptron found using grid search. For this, you need\n",
    "to experiment with the following hyper-parameter values:\n",
    "• activation function: sigmoid, tanh and relu\n",
    "• 2 network architectures of your choice: for eg 2 hidden layers with 30 + 50 nodes, 3 hidden layers\n",
    "with 10 + 10 + 10\n",
    "• solver: adam and stochastic gradient descent"
   ]
  },
  {
   "cell_type": "code",
   "execution_count": null,
   "metadata": {},
   "outputs": [],
   "source": [
    "# Output file\n",
    "# (A) a clear separator (a sequence of hyphens or stars) and a string clearly describing the model \n",
    "    # (e.g. the model name + hyper-parameter values that you changed). In the case of Top-DT and Top-MLP,\n",
    "    # display the best hyperparameters found by the gridsearch.\n",
    "\n",
    "# (B) the confusion matrix\n",
    "\n",
    "# (C) the precision, recall, and F1-measure for each class\n",
    "\n",
    "# (D) the accuracy, macro-average F1 and weighted-average F1 of the model"
   ]
  },
  {
   "cell_type": "markdown",
   "metadata": {},
   "source": [
    "6. Redo steps 4 & 5, 5 times for each model and append in the performance files:\n",
    "(A) the average accuracy & the variance,\n",
    "(B) average macro-average F1 & the variance,\n",
    "(C) average weighted-average F1 & the variance.\n",
    "Does the same model give you the same performance every time? is the standard deviation high? Be ready\n",
    "to discuss this at the demo."
   ]
  }
 ],
 "metadata": {
  "language_info": {
   "name": "python"
  }
 },
 "nbformat": 4,
 "nbformat_minor": 2
}
