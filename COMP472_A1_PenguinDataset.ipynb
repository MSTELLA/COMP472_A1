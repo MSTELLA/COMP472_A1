{
 "cells": [
  {
   "cell_type": "code",
   "execution_count": null,
   "metadata": {},
   "outputs": [],
   "source": [
    "# Team Bean Burrito\n",
    "'''\n",
    "Gabrielle Guidote 40175182\n",
    "Marie-Jose Castellanos 40168044\n",
    "Amrit Sohpal 40176197\n",
    "'''\n",
    "# Assignment 1\n",
    "# Penguin Dataset\n",
    "# output file : penguin-performance.txt "
   ]
  },
  {
   "cell_type": "code",
   "execution_count": null,
   "metadata": {},
   "outputs": [],
   "source": [
    "# Import Libraries\n",
    "import numpy as np\n",
    "import pandas as pd\n",
    "import matplotlib.pyplot as plt\n",
    "from sklearn.linear_model import LinearRegression\n",
    "from sklearn.preprocessing import LabelEncoder\n",
    "from sklearn.preprocessing import OneHotEncoder\n",
    "from sklearn.model_selection import train_test_split\n",
    "\n",
    "#4 a : DT\n",
    "from sklearn.tree import DecisionTreeClassifier\n",
    "from sklearn import tree\n",
    "\n",
    "#4 b : DT GridSearch\n",
    "from sklearn.model_selection import GridSearchCV\n",
    "\n",
    "#4 c: MLP\n",
    "from sklearn.neural_network import MLPClassifier\n",
    "\n",
    "# performance metrics\n",
    "from sklearn.metrics import confusion_matrix\n",
    "from sklearn.metrics import classification_report"
   ]
  },
  {
   "cell_type": "markdown",
   "metadata": {},
   "source": [
    "The Data sets"
   ]
  },
  {
   "cell_type": "markdown",
   "metadata": {},
   "source": [
    "DATASET 1 :  PENGUINS"
   ]
  },
  {
   "cell_type": "code",
   "execution_count": null,
   "metadata": {},
   "outputs": [],
   "source": [
    "# data regarding penguins such as their island, sex and a variety of physical features and we need to predict their species (Adelie, Gentoo, Chinstap)\n",
    "df = pd.read_csv(\"penguins.csv\")\n",
    "df.info()\n",
    "df.head()\n",
    "print(df[\"island\"].unique())"
   ]
  },
  {
   "cell_type": "markdown",
   "metadata": {},
   "source": [
    "Methods for transforming string to numerical values"
   ]
  },
  {
   "cell_type": "code",
   "execution_count": null,
   "metadata": {},
   "outputs": [
    {
     "data": {
      "text/html": [
       "<div>\n",
       "<style scoped>\n",
       "    .dataframe tbody tr th:only-of-type {\n",
       "        vertical-align: middle;\n",
       "    }\n",
       "\n",
       "    .dataframe tbody tr th {\n",
       "        vertical-align: top;\n",
       "    }\n",
       "\n",
       "    .dataframe thead th {\n",
       "        text-align: right;\n",
       "    }\n",
       "</style>\n",
       "<table border=\"1\" class=\"dataframe\">\n",
       "  <thead>\n",
       "    <tr style=\"text-align: right;\">\n",
       "      <th></th>\n",
       "      <th>species</th>\n",
       "      <th>culmen_length_mm</th>\n",
       "      <th>culmen_depth_mm</th>\n",
       "      <th>flipper_length_mm</th>\n",
       "      <th>body_mass_g</th>\n",
       "      <th>sex_FEMALE</th>\n",
       "      <th>sex_MALE</th>\n",
       "      <th>island_Biscoe</th>\n",
       "      <th>island_Dream</th>\n",
       "      <th>island_Torgersen</th>\n",
       "    </tr>\n",
       "  </thead>\n",
       "  <tbody>\n",
       "    <tr>\n",
       "      <th>0</th>\n",
       "      <td>Adelie</td>\n",
       "      <td>39.1</td>\n",
       "      <td>18.7</td>\n",
       "      <td>181</td>\n",
       "      <td>3750</td>\n",
       "      <td>0</td>\n",
       "      <td>1</td>\n",
       "      <td>0</td>\n",
       "      <td>0</td>\n",
       "      <td>1</td>\n",
       "    </tr>\n",
       "    <tr>\n",
       "      <th>1</th>\n",
       "      <td>Adelie</td>\n",
       "      <td>39.5</td>\n",
       "      <td>17.4</td>\n",
       "      <td>186</td>\n",
       "      <td>3800</td>\n",
       "      <td>1</td>\n",
       "      <td>0</td>\n",
       "      <td>0</td>\n",
       "      <td>0</td>\n",
       "      <td>1</td>\n",
       "    </tr>\n",
       "    <tr>\n",
       "      <th>2</th>\n",
       "      <td>Adelie</td>\n",
       "      <td>40.3</td>\n",
       "      <td>18.0</td>\n",
       "      <td>195</td>\n",
       "      <td>3250</td>\n",
       "      <td>1</td>\n",
       "      <td>0</td>\n",
       "      <td>0</td>\n",
       "      <td>0</td>\n",
       "      <td>1</td>\n",
       "    </tr>\n",
       "    <tr>\n",
       "      <th>3</th>\n",
       "      <td>Adelie</td>\n",
       "      <td>36.7</td>\n",
       "      <td>19.3</td>\n",
       "      <td>193</td>\n",
       "      <td>3450</td>\n",
       "      <td>1</td>\n",
       "      <td>0</td>\n",
       "      <td>0</td>\n",
       "      <td>0</td>\n",
       "      <td>1</td>\n",
       "    </tr>\n",
       "    <tr>\n",
       "      <th>4</th>\n",
       "      <td>Adelie</td>\n",
       "      <td>39.3</td>\n",
       "      <td>20.6</td>\n",
       "      <td>190</td>\n",
       "      <td>3650</td>\n",
       "      <td>0</td>\n",
       "      <td>1</td>\n",
       "      <td>0</td>\n",
       "      <td>0</td>\n",
       "      <td>1</td>\n",
       "    </tr>\n",
       "  </tbody>\n",
       "</table>\n",
       "</div>"
      ],
      "text/plain": [
       "  species  culmen_length_mm  culmen_depth_mm  flipper_length_mm  body_mass_g  \\\n",
       "0  Adelie              39.1             18.7                181         3750   \n",
       "1  Adelie              39.5             17.4                186         3800   \n",
       "2  Adelie              40.3             18.0                195         3250   \n",
       "3  Adelie              36.7             19.3                193         3450   \n",
       "4  Adelie              39.3             20.6                190         3650   \n",
       "\n",
       "   sex_FEMALE  sex_MALE  island_Biscoe  island_Dream  island_Torgersen  \n",
       "0           0         1              0             0                 1  \n",
       "1           1         0              0             0                 1  \n",
       "2           1         0              0             0                 1  \n",
       "3           1         0              0             0                 1  \n",
       "4           0         1              0             0                 1  "
      ]
     },
     "metadata": {},
     "output_type": "display_data"
    }
   ],
   "source": [
    "# Island and sex features are strings\n",
    "\n",
    "# i. convert these features into 1-hot vectors (also known as dummy-coded data)\n",
    "df = pd.get_dummies(df,columns=['sex','island'])\n",
    "df.head()\n",
    "# ii. convert these features into categories yourself\n",
    "\n",
    "# Replace Sex\n",
    "# df['sex'].replace(['MALE', 'FEMALE'], [0, 1], inplace=True)\n",
    "# print(df[\"sex\"].unique())\n",
    "\n",
    "# # Replace Island\n",
    "# df['island'].replace(['Torgersen', 'Biscoe', 'Dream'], [0,1, 2], inplace=True)\n",
    "# print(df[\"island\"].unique())"
   ]
  },
  {
   "cell_type": "markdown",
   "metadata": {},
   "source": [
    "2. Plot the percentage of the instances in each output class and store the graphic in a file called penguin-classes.gif\n",
    "/ abalone-classes.gif. This analysis of the dataset will allow you to determine if the classes are balanced.\n",
    "Which metric is more appropriate to use to evaluate the performance. Be ready to discuss this at the demo."
   ]
  },
  {
   "cell_type": "code",
   "execution_count": null,
   "metadata": {},
   "outputs": [
    {
     "data": {
      "image/png": "[encoded data removed]",
      "text/plain": [
       "<Figure size 432x288 with 1 Axes>"
      ]
     },
     "metadata": {},
     "output_type": "display_data"
    }
   ],
   "source": [
    "class_count = df['species'].value_counts()\n",
    "plt.pie(class_count, labels=class_count.index, autopct='%1.1f%%')\n",
    "plt.title('Distribution of Species')\n",
    "# plt.show()\n",
    "\n",
    "# save image \n",
    "plt.savefig('penguin-classes.png') "
   ]
  },
  {
   "cell_type": "markdown",
   "metadata": {},
   "source": [
    "3. Split the dataset\n",
    " using train test split using the default parameter values"
   ]
  },
  {
   "cell_type": "code",
   "execution_count": null,
   "metadata": {},
   "outputs": [],
   "source": [
    "X =  df.loc[:, df.columns != 'species']\n",
    "y = df['species']\n",
    "\n",
    "X_train, X_test, y_train, y_test = train_test_split(X, y, test_size = 0.25)"
   ]
  },
  {
   "cell_type": "markdown",
   "metadata": {},
   "source": [
    "4. Train and test 4 different classifiers:"
   ]
  },
  {
   "cell_type": "markdown",
   "metadata": {},
   "source": [
    "# Base DT\n",
    "(a) Base-DT: a Decision Tree with the default parameters. Show the decision tree graphically (for the\n",
    "abalone dataset, you can restrict the tree depth for visualisation purposes)"
   ]
  },
  {
   "cell_type": "code",
   "execution_count": null,
   "metadata": {},
   "outputs": [
    {
     "data": {
      "text/plain": [
       "DecisionTreeClassifier()"
      ]
     },
     "metadata": {},
     "output_type": "display_data"
    }
   ],
   "source": [
    "# Training base DT\n",
    "base_DT_D1 = DecisionTreeClassifier()\n",
    "base_DT_D1.fit(X_train, y_train)"
   ]
  },
  {
   "cell_type": "code",
   "execution_count": null,
   "metadata": {},
   "outputs": [
    {
     "data": {
      "text/plain": [
       "[Text(0.6029411764705882, 0.9166666666666666, 'X[2] <= 206.5\\ngini = 0.636\\nsamples = 249\\nvalue = [112, 51, 86]'),\n",
       " Text(0.3235294117647059, 0.75, 'X[0] <= 43.35\\ngini = 0.43\\nsamples = 159\\nvalue = [110, 48, 1]'),\n",
       " Text(0.11764705882352941, 0.5833333333333334, 'X[0] <= 42.35\\ngini = 0.018\\nsamples = 108\\nvalue = [107, 1, 0]'),\n",
       " Text(0.058823529411764705, 0.4166666666666667, 'gini = 0.0\\nsamples = 103\\nvalue = [103, 0, 0]'),\n",
       " Text(0.17647058823529413, 0.4166666666666667, 'X[7] <= 0.5\\ngini = 0.32\\nsamples = 5\\nvalue = [4, 1, 0]'),\n",
       " Text(0.11764705882352941, 0.25, 'gini = 0.0\\nsamples = 4\\nvalue = [4, 0, 0]'),\n",
       " Text(0.23529411764705882, 0.25, 'gini = 0.0\\nsamples = 1\\nvalue = [0, 1, 0]'),\n",
       " Text(0.5294117647058824, 0.5833333333333334, 'X[7] <= 0.5\\ngini = 0.147\\nsamples = 51\\nvalue = [3, 47, 1]'),\n",
       " Text(0.4117647058823529, 0.4166666666666667, 'X[5] <= 0.5\\ngini = 0.444\\nsamples = 3\\nvalue = [2, 0, 1]'),\n",
       " Text(0.35294117647058826, 0.25, 'gini = 0.0\\nsamples = 1\\nvalue = [0, 0, 1]'),\n",
       " Text(0.47058823529411764, 0.25, 'gini = 0.0\\nsamples = 2\\nvalue = [2, 0, 0]'),\n",
       " Text(0.6470588235294118, 0.4166666666666667, 'X[0] <= 44.65\\ngini = 0.041\\nsamples = 48\\nvalue = [1, 47, 0]'),\n",
       " Text(0.5882352941176471, 0.25, 'X[0] <= 43.8\\ngini = 0.5\\nsamples = 2\\nvalue = [1, 1, 0]'),\n",
       " Text(0.5294117647058824, 0.08333333333333333, 'gini = 0.0\\nsamples = 1\\nvalue = [0, 1, 0]'),\n",
       " Text(0.6470588235294118, 0.08333333333333333, 'gini = 0.0\\nsamples = 1\\nvalue = [1, 0, 0]'),\n",
       " Text(0.7058823529411765, 0.25, 'gini = 0.0\\nsamples = 46\\nvalue = [0, 46, 0]'),\n",
       " Text(0.8823529411764706, 0.75, 'X[6] <= 0.5\\ngini = 0.106\\nsamples = 90\\nvalue = [2, 3, 85]'),\n",
       " Text(0.8235294117647058, 0.5833333333333334, 'X[1] <= 18.95\\ngini = 0.48\\nsamples = 5\\nvalue = [2, 3, 0]'),\n",
       " Text(0.7647058823529411, 0.4166666666666667, 'gini = 0.0\\nsamples = 2\\nvalue = [2, 0, 0]'),\n",
       " Text(0.8823529411764706, 0.4166666666666667, 'gini = 0.0\\nsamples = 3\\nvalue = [0, 3, 0]'),\n",
       " Text(0.9411764705882353, 0.5833333333333334, 'gini = 0.0\\nsamples = 85\\nvalue = [0, 0, 85]')]"
      ]
     },
     "metadata": {},
     "output_type": "display_data"
    },
    {
     "data": {
      "image/png": "[encoded data removed]",
      "text/plain": [
       "<Figure size 432x288 with 1 Axes>"
      ]
     },
     "metadata": {},
     "output_type": "display_data"
    }
   ],
   "source": [
    "# Tree Visualization : https://scikit-learn.org/stable/modules/generated/sklearn.tree.plot_tree.html TODO : change figure size because its really tiny\n",
    "tree.plot_tree(base_DT_D1)"
   ]
  },
  {
   "cell_type": "code",
   "execution_count": null,
   "metadata": {},
   "outputs": [],
   "source": [
    "# Testing base DT\n",
    "predictions = base_DT_D1.predict(X_test)"
   ]
  },
  {
   "cell_type": "code",
   "execution_count": null,
   "metadata": {},
   "outputs": [
    {
     "name": "stdout",
     "output_type": "stream",
     "text": [
      "[[33  1  0]\n",
      " [ 1 16  0]\n",
      " [ 0  0 33]]\n",
      "              precision    recall  f1-score   support\n",
      "\n",
      "      Adelie       0.97      0.97      0.97        34\n",
      "   Chinstrap       0.94      0.94      0.94        17\n",
      "      Gentoo       1.00      1.00      1.00        33\n",
      "\n",
      "    accuracy                           0.98        84\n",
      "   macro avg       0.97      0.97      0.97        84\n",
      "weighted avg       0.98      0.98      0.98        84\n",
      "\n"
     ]
    }
   ],
   "source": [
    "# Performance\n",
    "print(confusion_matrix(y_test, predictions))\n",
    "\n",
    "print(classification_report(y_test, predictions))"
   ]
  },
  {
   "cell_type": "code",
   "execution_count": null,
   "metadata": {},
   "outputs": [],
   "source": [
    "# Output file\n",
    "# (A) a clear separator (a sequence of hyphens or stars) and a string clearly describing the model \n",
    "    # (e.g. the model name + hyper-parameter values that you changed). In the case of Top-DT and Top-MLP,\n",
    "    # display the best hyperparameters found by the gridsearch.\n",
    "\n",
    "# (B) the confusion matrix\n",
    "\n",
    "# (C) the precision, recall, and F1-measure for each class\n",
    "\n",
    "# (D) the accuracy, macro-average F1 and weighted-average F1 of the model"
   ]
  },
  {
   "cell_type": "markdown",
   "metadata": {},
   "source": [
    "# TOP DT\n",
    "(b) Top-DT: a better performing Decision Tree found using a gridsearch. The gridsearch will allow you\n",
    "to find the best combination of hyper-parameters, as determined by the evaluation function that you\n",
    "have determined in step (3) above. The hyper-parameters that you will experiment with are:\n",
    "• criterion: gini or entropy\n",
    "• max depth : 2 different values of your choice and ”None”\n",
    "• min samples split: 3 different values of your choice\n",
    "Show the decision tree graphically (for the abalone dataset, you can restrict the tree depth for visualisation purposes)"
   ]
  },
  {
   "cell_type": "code",
   "execution_count": null,
   "metadata": {},
   "outputs": [
    {
     "name": "stdout",
     "output_type": "stream",
     "text": [
      "{'criterion': 'entropy', 'max_depth': None, 'min_samples_split': 2}\n"
     ]
    }
   ],
   "source": [
    "# Training top DT\n",
    "parameters = {'criterion':['gini','entropy'], 'max_depth':[3,5,None], 'min_samples_split':[2,5,10]}\n",
    "\n",
    "top_DT_D1 = DecisionTreeClassifier()\n",
    "top_DT_D1 = GridSearchCV(top_DT_D1, parameters)\n",
    "\n",
    "top_DT_D1.fit(X_train, y_train)\n",
    "\n",
    "print(top_DT_D1.best_params_)"
   ]
  },
  {
   "cell_type": "code",
   "execution_count": null,
   "metadata": {},
   "outputs": [],
   "source": [
    "# Testing base DT\n",
    "predictions = top_DT_D1.predict(X_test)"
   ]
  },
  {
   "cell_type": "code",
   "execution_count": null,
   "metadata": {},
   "outputs": [
    {
     "name": "stdout",
     "output_type": "stream",
     "text": [
      "[[34  0  0]\n",
      " [ 1 16  0]\n",
      " [ 0  0 33]]\n",
      "              precision    recall  f1-score   support\n",
      "\n",
      "      Adelie       0.97      1.00      0.99        34\n",
      "   Chinstrap       1.00      0.94      0.97        17\n",
      "      Gentoo       1.00      1.00      1.00        33\n",
      "\n",
      "    accuracy                           0.99        84\n",
      "   macro avg       0.99      0.98      0.99        84\n",
      "weighted avg       0.99      0.99      0.99        84\n",
      "\n"
     ]
    }
   ],
   "source": [
    "# Performance\n",
    "print(confusion_matrix(y_test, predictions))\n",
    "\n",
    "print(classification_report(y_test, predictions))"
   ]
  },
  {
   "cell_type": "code",
   "execution_count": null,
   "metadata": {},
   "outputs": [],
   "source": [
    "# Output file\n",
    "# (A) a clear separator (a sequence of hyphens or stars) and a string clearly describing the model \n",
    "    # (e.g. the model name + hyper-parameter values that you changed). In the case of Top-DT and Top-MLP,\n",
    "    # display the best hyperparameters found by the gridsearch.\n",
    "\n",
    "# (B) the confusion matrix\n",
    "\n",
    "# (C) the precision, recall, and F1-measure for each class\n",
    "\n",
    "# (D) the accuracy, macro-average F1 and weighted-average F1 of the model"
   ]
  },
  {
   "cell_type": "markdown",
   "metadata": {},
   "source": [
    "# BASE MLP\n",
    "(c) Base-MLP: a Multi-Layered Perceptron with 2 hidden layers of 100+100 neurons, sigmoid/logistic\n",
    "as activation function, stochastic gradient descent, and default values for the rest of the parameters"
   ]
  },
  {
   "cell_type": "code",
   "execution_count": null,
   "metadata": {},
   "outputs": [
    {
     "data": {
      "text/plain": [
       "MLPClassifier(activation='logistic', hidden_layer_sizes=(100, 100),\n",
       "              solver='sgd')"
      ]
     },
     "metadata": {},
     "output_type": "display_data"
    }
   ],
   "source": [
    "# Training base MLP\n",
    "base_MLP_d1 = MLPClassifier(hidden_layer_sizes=(100,100), activation='logistic', solver='sgd')\n",
    "base_MLP_d1.fit(X_train, y_train)"
   ]
  },
  {
   "cell_type": "code",
   "execution_count": null,
   "metadata": {},
   "outputs": [],
   "source": [
    "# Testing base MLP\n",
    "predictions = base_MLP_d1.predict(X_test)"
   ]
  },
  {
   "cell_type": "code",
   "execution_count": null,
   "metadata": {},
   "outputs": [
    {
     "name": "stdout",
     "output_type": "stream",
     "text": [
      "[[39  0  0]\n",
      " [13  0  0]\n",
      " [32  0  0]]\n",
      "              precision    recall  f1-score   support\n",
      "\n",
      "      Adelie       0.46      1.00      0.63        39\n",
      "   Chinstrap       0.00      0.00      0.00        13\n",
      "      Gentoo       0.00      0.00      0.00        32\n",
      "\n",
      "    accuracy                           0.46        84\n",
      "   macro avg       0.15      0.33      0.21        84\n",
      "weighted avg       0.22      0.46      0.29        84\n",
      "\n"
     ]
    },
    {
     "name": "stderr",
     "output_type": "stream",
     "text": [
      "c:\\Users\\Caste\\anaconda3\\lib\\site-packages\\sklearn\\metrics\\_classification.py:1318: UndefinedMetricWarning: Precision and F-score are ill-defined and being set to 0.0 in labels with no predicted samples. Use `zero_division` parameter to control this behavior.\n",
      "  _warn_prf(average, modifier, msg_start, len(result))\n",
      "c:\\Users\\Caste\\anaconda3\\lib\\site-packages\\sklearn\\metrics\\_classification.py:1318: UndefinedMetricWarning: Precision and F-score are ill-defined and being set to 0.0 in labels with no predicted samples. Use `zero_division` parameter to control this behavior.\n",
      "  _warn_prf(average, modifier, msg_start, len(result))\n",
      "c:\\Users\\Caste\\anaconda3\\lib\\site-packages\\sklearn\\metrics\\_classification.py:1318: UndefinedMetricWarning: Precision and F-score are ill-defined and being set to 0.0 in labels with no predicted samples. Use `zero_division` parameter to control this behavior.\n",
      "  _warn_prf(average, modifier, msg_start, len(result))\n"
     ]
    }
   ],
   "source": [
    "# Performance TODO : VERY BAD AND HAS A WARNING>>> RECHECK STUFF\n",
    "print(confusion_matrix(y_test, predictions))\n",
    "\n",
    "print(classification_report(y_test, predictions))"
   ]
  },
  {
   "cell_type": "code",
   "execution_count": null,
   "metadata": {},
   "outputs": [],
   "source": [
    "# Output file\n",
    "# (A) a clear separator (a sequence of hyphens or stars) and a string clearly describing the model \n",
    "    # (e.g. the model name + hyper-parameter values that you changed). In the case of Top-DT and Top-MLP,\n",
    "    # display the best hyperparameters found by the gridsearch.\n",
    "\n",
    "# (B) the confusion matrix\n",
    "\n",
    "# (C) the precision, recall, and F1-measure for each class\n",
    "\n",
    "# (D) the accuracy, macro-average F1 and weighted-average F1 of the model"
   ]
  },
  {
   "cell_type": "markdown",
   "metadata": {},
   "source": [
    "# TOP MLP\n",
    "\n",
    "(d) Top-MLP: a better performing Multi-Layered Perceptron found using grid search. For this, you need\n",
    "to experiment with the following hyper-parameter values:\n",
    "• activation function: sigmoid, tanh and relu\n",
    "• 2 network architectures of your choice: for eg 2 hidden layers with 30 + 50 nodes, 3 hidden layers\n",
    "with 10 + 10 + 10\n",
    "• solver: adam and stochastic gradient descent"
   ]
  },
  {
   "cell_type": "code",
   "execution_count": null,
   "metadata": {},
   "outputs": [],
   "source": [
    "# Output file\n",
    "# (A) a clear separator (a sequence of hyphens or stars) and a string clearly describing the model \n",
    "    # (e.g. the model name + hyper-parameter values that you changed). In the case of Top-DT and Top-MLP,\n",
    "    # display the best hyperparameters found by the gridsearch.\n",
    "\n",
    "# (B) the confusion matrix\n",
    "\n",
    "# (C) the precision, recall, and F1-measure for each class\n",
    "\n",
    "# (D) the accuracy, macro-average F1 and weighted-average F1 of the model"
   ]
  },
  {
   "cell_type": "markdown",
   "metadata": {},
   "source": [
    "6. Redo steps 4 & 5, 5 times for each model and append in the performance files:\n",
    "(A) the average accuracy & the variance,\n",
    "(B) average macro-average F1 & the variance,\n",
    "(C) average weighted-average F1 & the variance.\n",
    "Does the same model give you the same performance every time? is the standard deviation high? Be ready\n",
    "to discuss this at the demo."
   ]
  }
 ],
 "metadata": {
  "language_info": {
   "name": "python"
  }
 },
 "nbformat": 4,
 "nbformat_minor": 2
}
