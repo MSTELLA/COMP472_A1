{
 "cells": [
  {
   "cell_type": "code",
   "execution_count": null,
   "id": "5962de05",
   "metadata": {},
   "outputs": [],
   "source": [
    "# Team BeAn BurrIto\n",
    "# OUR NAMES HERE TODO\n",
    "# Assignment 1"
   ]
  },
  {
   "cell_type": "code",
   "execution_count": 60,
   "metadata": {},
   "outputs": [],
   "source": [
    "# Import Libraries\n",
    "import numpy as np\n",
    "import pandas as pd\n",
    "import matplotlib.pyplot as plt\n",
    "from sklearn.linear_model import LinearRegression\n",
    "from sklearn.preprocessing import LabelEncoder\n",
    "from sklearn.preprocessing import OneHotEncoder\n",
    "from sklearn.model_selection import train_test_split\n",
    "\n",
    "#4 a : DT\n",
    "from sklearn.tree import DecisionTreeClassifier\n",
    "from sklearn import tree\n",
    "\n",
    "#4 b : DT GridSearch\n",
    "from sklearn.model_selection import GridSearchCV\n",
    "\n",
    "#4 c: MLP\n",
    "from sklearn.neural_network import MLPClassifier\n",
    "\n",
    "# performance metrics\n",
    "from sklearn.metrics import confusion_matrix\n",
    "from sklearn.metrics import classification_report"
   ]
  },
  {
   "cell_type": "markdown",
   "metadata": {},
   "source": [
    "# 1 - The Data sets"
   ]
  },
  {
   "cell_type": "markdown",
   "metadata": {},
   "source": [
    "DATASET 1 :  PENGUINS"
   ]
  },
  {
   "cell_type": "code",
   "execution_count": 61,
   "metadata": {},
   "outputs": [
    {
     "name": "stdout",
     "output_type": "stream",
     "text": [
      "<class 'pandas.core.frame.DataFrame'>\n",
      "RangeIndex: 333 entries, 0 to 332\n",
      "Data columns (total 7 columns):\n",
      " #   Column             Non-Null Count  Dtype  \n",
      "---  ------             --------------  -----  \n",
      " 0   species            333 non-null    object \n",
      " 1   island             333 non-null    object \n",
      " 2   culmen_length_mm   333 non-null    float64\n",
      " 3   culmen_depth_mm    333 non-null    float64\n",
      " 4   flipper_length_mm  333 non-null    int64  \n",
      " 5   body_mass_g        333 non-null    int64  \n",
      " 6   sex                333 non-null    object \n",
      "dtypes: float64(2), int64(2), object(3)\n",
      "memory usage: 18.3+ KB\n",
      "['Torgersen' 'Biscoe' 'Dream']\n"
     ]
    }
   ],
   "source": [
    "# data regarding penguins such as their island, sex and a variety of physical features and we need to predict their species (Adelie, Gentoo, Chinstap)\n",
    "df = pd.read_csv(\"penguins.csv\")\n",
    "df.info()\n",
    "df.head()\n",
    "print(df[\"island\"].unique())"
   ]
  },
  {
   "cell_type": "markdown",
   "metadata": {},
   "source": [
    "Methods for transforming string to numerical values"
   ]
  },
  {
   "cell_type": "code",
   "execution_count": 62,
   "metadata": {},
   "outputs": [
    {
     "data": {
      "text/html": [
       "<div>\n",
       "<style scoped>\n",
       "    .dataframe tbody tr th:only-of-type {\n",
       "        vertical-align: middle;\n",
       "    }\n",
       "\n",
       "    .dataframe tbody tr th {\n",
       "        vertical-align: top;\n",
       "    }\n",
       "\n",
       "    .dataframe thead th {\n",
       "        text-align: right;\n",
       "    }\n",
       "</style>\n",
       "<table border=\"1\" class=\"dataframe\">\n",
       "  <thead>\n",
       "    <tr style=\"text-align: right;\">\n",
       "      <th></th>\n",
       "      <th>species</th>\n",
       "      <th>culmen_length_mm</th>\n",
       "      <th>culmen_depth_mm</th>\n",
       "      <th>flipper_length_mm</th>\n",
       "      <th>body_mass_g</th>\n",
       "      <th>sex_FEMALE</th>\n",
       "      <th>sex_MALE</th>\n",
       "      <th>island_Biscoe</th>\n",
       "      <th>island_Dream</th>\n",
       "      <th>island_Torgersen</th>\n",
       "    </tr>\n",
       "  </thead>\n",
       "  <tbody>\n",
       "    <tr>\n",
       "      <th>0</th>\n",
       "      <td>Adelie</td>\n",
       "      <td>39.1</td>\n",
       "      <td>18.7</td>\n",
       "      <td>181</td>\n",
       "      <td>3750</td>\n",
       "      <td>0</td>\n",
       "      <td>1</td>\n",
       "      <td>0</td>\n",
       "      <td>0</td>\n",
       "      <td>1</td>\n",
       "    </tr>\n",
       "    <tr>\n",
       "      <th>1</th>\n",
       "      <td>Adelie</td>\n",
       "      <td>39.5</td>\n",
       "      <td>17.4</td>\n",
       "      <td>186</td>\n",
       "      <td>3800</td>\n",
       "      <td>1</td>\n",
       "      <td>0</td>\n",
       "      <td>0</td>\n",
       "      <td>0</td>\n",
       "      <td>1</td>\n",
       "    </tr>\n",
       "    <tr>\n",
       "      <th>2</th>\n",
       "      <td>Adelie</td>\n",
       "      <td>40.3</td>\n",
       "      <td>18.0</td>\n",
       "      <td>195</td>\n",
       "      <td>3250</td>\n",
       "      <td>1</td>\n",
       "      <td>0</td>\n",
       "      <td>0</td>\n",
       "      <td>0</td>\n",
       "      <td>1</td>\n",
       "    </tr>\n",
       "    <tr>\n",
       "      <th>3</th>\n",
       "      <td>Adelie</td>\n",
       "      <td>36.7</td>\n",
       "      <td>19.3</td>\n",
       "      <td>193</td>\n",
       "      <td>3450</td>\n",
       "      <td>1</td>\n",
       "      <td>0</td>\n",
       "      <td>0</td>\n",
       "      <td>0</td>\n",
       "      <td>1</td>\n",
       "    </tr>\n",
       "    <tr>\n",
       "      <th>4</th>\n",
       "      <td>Adelie</td>\n",
       "      <td>39.3</td>\n",
       "      <td>20.6</td>\n",
       "      <td>190</td>\n",
       "      <td>3650</td>\n",
       "      <td>0</td>\n",
       "      <td>1</td>\n",
       "      <td>0</td>\n",
       "      <td>0</td>\n",
       "      <td>1</td>\n",
       "    </tr>\n",
       "  </tbody>\n",
       "</table>\n",
       "</div>"
      ],
      "text/plain": [
       "  species  culmen_length_mm  culmen_depth_mm  flipper_length_mm  body_mass_g  \\\n",
       "0  Adelie              39.1             18.7                181         3750   \n",
       "1  Adelie              39.5             17.4                186         3800   \n",
       "2  Adelie              40.3             18.0                195         3250   \n",
       "3  Adelie              36.7             19.3                193         3450   \n",
       "4  Adelie              39.3             20.6                190         3650   \n",
       "\n",
       "   sex_FEMALE  sex_MALE  island_Biscoe  island_Dream  island_Torgersen  \n",
       "0           0         1              0             0                 1  \n",
       "1           1         0              0             0                 1  \n",
       "2           1         0              0             0                 1  \n",
       "3           1         0              0             0                 1  \n",
       "4           0         1              0             0                 1  "
      ]
     },
     "execution_count": 62,
     "metadata": {},
     "output_type": "execute_result"
    }
   ],
   "source": [
    "# Island and sex features are strings\n",
    "\n",
    "# i. convert these features into 1-hot vectors (also known as dummy-coded data)\n",
    "df = pd.get_dummies(df,columns=['sex','island'])\n",
    "df.head()\n",
    "# ii. convert these features into categories yourself\n",
    "\n",
    "# Replace Sex\n",
    "# df['sex'].replace(['MALE', 'FEMALE'], [0, 1], inplace=True)\n",
    "# print(df[\"sex\"].unique())\n",
    "\n",
    "# # Replace Island\n",
    "# df['island'].replace(['Torgersen', 'Biscoe', 'Dream'], [0,1, 2], inplace=True)\n",
    "# print(df[\"island\"].unique())"
   ]
  },
  {
   "cell_type": "markdown",
   "metadata": {},
   "source": [
    "2. Plot the percentage of the instances in each output class and store the graphic in a file called penguin-classes.gif\n",
    "/ abalone-classes.gif. This analysis of the dataset will allow you to determine if the classes are balanced.\n",
    "Which metric is more appropriate to use to evaluate the performance. Be ready to discuss this at the demo."
   ]
  },
  {
   "cell_type": "code",
   "execution_count": 63,
   "metadata": {},
   "outputs": [
    {
     "data": {
      "image/png": "[encoded data removed]",
      "text/plain": [
       "<Figure size 432x288 with 1 Axes>"
      ]
     },
     "metadata": {},
     "output_type": "display_data"
    }
   ],
   "source": [
    "class_count = df['species'].value_counts()\n",
    "plt.pie(class_count, labels=class_count.index, autopct='%1.1f%%')\n",
    "plt.title('Distribution of Species')\n",
    "# plt.show()\n",
    "\n",
    "# save image \n",
    "plt.savefig('penguin-classes.png') "
   ]
  },
  {
   "cell_type": "markdown",
   "metadata": {},
   "source": [
    "3. Split the dataset\n",
    " using train test split using the default parameter values"
   ]
  },
  {
   "cell_type": "code",
   "execution_count": 64,
   "metadata": {},
   "outputs": [],
   "source": [
    "X =  df.loc[:, df.columns != 'species']\n",
    "y = df['species']\n",
    "\n",
    "X_train, X_test, y_train, y_test = train_test_split(X, y, test_size = 0.25)"
   ]
  },
  {
   "cell_type": "markdown",
   "metadata": {},
   "source": [
    "Dataset 2: Abalone"
   ]
  },
  {
   "cell_type": "code",
   "execution_count": 6,
   "metadata": {},
   "outputs": [
    {
     "name": "stdout",
     "output_type": "stream",
     "text": [
      "<class 'pandas.core.frame.DataFrame'>\n",
      "RangeIndex: 4177 entries, 0 to 4176\n",
      "Data columns (total 9 columns):\n",
      " #   Column         Non-Null Count  Dtype  \n",
      "---  ------         --------------  -----  \n",
      " 0   Type           4177 non-null   object \n",
      " 1   LongestShell   4177 non-null   float64\n",
      " 2   Diameter       4177 non-null   float64\n",
      " 3   Height         4177 non-null   float64\n",
      " 4   WholeWeight    4177 non-null   float64\n",
      " 5   ShuckedWeight  4177 non-null   float64\n",
      " 6   VisceraWeight  4177 non-null   float64\n",
      " 7   ShellWeight    4177 non-null   float64\n",
      " 8   Rings          4177 non-null   int64  \n",
      "dtypes: float64(7), int64(1), object(1)\n",
      "memory usage: 293.8+ KB\n"
     ]
    },
    {
     "data": {
      "text/html": [
       "<div>\n",
       "<style scoped>\n",
       "    .dataframe tbody tr th:only-of-type {\n",
       "        vertical-align: middle;\n",
       "    }\n",
       "\n",
       "    .dataframe tbody tr th {\n",
       "        vertical-align: top;\n",
       "    }\n",
       "\n",
       "    .dataframe thead th {\n",
       "        text-align: right;\n",
       "    }\n",
       "</style>\n",
       "<table border=\"1\" class=\"dataframe\">\n",
       "  <thead>\n",
       "    <tr style=\"text-align: right;\">\n",
       "      <th></th>\n",
       "      <th>Type</th>\n",
       "      <th>LongestShell</th>\n",
       "      <th>Diameter</th>\n",
       "      <th>Height</th>\n",
       "      <th>WholeWeight</th>\n",
       "      <th>ShuckedWeight</th>\n",
       "      <th>VisceraWeight</th>\n",
       "      <th>ShellWeight</th>\n",
       "      <th>Rings</th>\n",
       "    </tr>\n",
       "  </thead>\n",
       "  <tbody>\n",
       "    <tr>\n",
       "      <th>0</th>\n",
       "      <td>F</td>\n",
       "      <td>0.605</td>\n",
       "      <td>0.470</td>\n",
       "      <td>0.165</td>\n",
       "      <td>1.1775</td>\n",
       "      <td>0.6110</td>\n",
       "      <td>0.2275</td>\n",
       "      <td>0.2920</td>\n",
       "      <td>9</td>\n",
       "    </tr>\n",
       "    <tr>\n",
       "      <th>1</th>\n",
       "      <td>M</td>\n",
       "      <td>0.550</td>\n",
       "      <td>0.425</td>\n",
       "      <td>0.150</td>\n",
       "      <td>0.8315</td>\n",
       "      <td>0.4110</td>\n",
       "      <td>0.1765</td>\n",
       "      <td>0.2165</td>\n",
       "      <td>10</td>\n",
       "    </tr>\n",
       "    <tr>\n",
       "      <th>2</th>\n",
       "      <td>M</td>\n",
       "      <td>0.460</td>\n",
       "      <td>0.345</td>\n",
       "      <td>0.110</td>\n",
       "      <td>0.4595</td>\n",
       "      <td>0.2350</td>\n",
       "      <td>0.0885</td>\n",
       "      <td>0.1160</td>\n",
       "      <td>7</td>\n",
       "    </tr>\n",
       "    <tr>\n",
       "      <th>3</th>\n",
       "      <td>F</td>\n",
       "      <td>0.650</td>\n",
       "      <td>0.475</td>\n",
       "      <td>0.165</td>\n",
       "      <td>1.3875</td>\n",
       "      <td>0.5800</td>\n",
       "      <td>0.3485</td>\n",
       "      <td>0.3095</td>\n",
       "      <td>9</td>\n",
       "    </tr>\n",
       "    <tr>\n",
       "      <th>4</th>\n",
       "      <td>M</td>\n",
       "      <td>0.575</td>\n",
       "      <td>0.470</td>\n",
       "      <td>0.140</td>\n",
       "      <td>0.8375</td>\n",
       "      <td>0.3485</td>\n",
       "      <td>0.1735</td>\n",
       "      <td>0.2400</td>\n",
       "      <td>11</td>\n",
       "    </tr>\n",
       "  </tbody>\n",
       "</table>\n",
       "</div>"
      ],
      "text/plain": [
       "  Type  LongestShell  Diameter  Height  WholeWeight  ShuckedWeight  \\\n",
       "0    F         0.605     0.470   0.165       1.1775         0.6110   \n",
       "1    M         0.550     0.425   0.150       0.8315         0.4110   \n",
       "2    M         0.460     0.345   0.110       0.4595         0.2350   \n",
       "3    F         0.650     0.475   0.165       1.3875         0.5800   \n",
       "4    M         0.575     0.470   0.140       0.8375         0.3485   \n",
       "\n",
       "   VisceraWeight  ShellWeight  Rings  \n",
       "0         0.2275       0.2920      9  \n",
       "1         0.1765       0.2165     10  \n",
       "2         0.0885       0.1160      7  \n",
       "3         0.3485       0.3095      9  \n",
       "4         0.1735       0.2400     11  "
      ]
     },
     "execution_count": 6,
     "metadata": {},
     "output_type": "execute_result"
    }
   ],
   "source": [
    "# data regarding Abalones.contains features of physical description of abalones (length, diameter, weights, etc) and one of 3 possible values for their\n",
    "# sex: M (male), F (female), I (infant). Given the physical features of the abalone, the goal is to predict their sex.\n",
    "df2 = pd.read_csv(\"abalone.csv\")\n",
    "df2.info()\n",
    "df2.head()\n",
    "# All features are numerical. Only the classes are string. No changes necessary."
   ]
  },
  {
   "cell_type": "markdown",
   "metadata": {},
   "source": [
    "2. Plot the percentage of the instances in each output class and store the graphic in a file called penguin-classes.gif\n",
    "/ abalone-classes.gif. This analysis of the dataset will allow you to determine if the classes are balanced.\n",
    "Which metric is more appropriate to use to evaluate the performance. Be ready to discuss this at the demo."
   ]
  },
  {
   "cell_type": "code",
   "execution_count": 7,
   "metadata": {},
   "outputs": [
    {
     "data": {
      "image/png": "[encoded data removed]",
      "text/plain": [
       "<Figure size 432x288 with 1 Axes>"
      ]
     },
     "metadata": {},
     "output_type": "display_data"
    }
   ],
   "source": [
    "class_count = df2['Type'].value_counts()\n",
    "plt.pie(class_count, labels=class_count.index, autopct='%1.1f%%') # TODO : CAHNGE TYPE?? COLOR? HARD TO SEE SAVED IMAGE\n",
    "plt.title('Distribution of Type')\n",
    "# plt.show()\n",
    "\n",
    "# save image (she said not .gif is ok)\n",
    "plt.savefig('abalone-classes.png')"
   ]
  },
  {
   "cell_type": "markdown",
   "metadata": {},
   "source": [
    "3. Split the dataset using train test split using the default parameter values"
   ]
  },
  {
   "cell_type": "code",
   "execution_count": 8,
   "metadata": {},
   "outputs": [],
   "source": [
    "X2 =  df2.loc[:, df2.columns != 'Type']\n",
    "y2 = df2['Type']\n",
    "\n",
    "X2_train, X2_test, y2_train, y2_test = train_test_split(X2, y2, test_size = 0.25)"
   ]
  },
  {
   "cell_type": "markdown",
   "metadata": {},
   "source": [
    "# 4. Train and test 4 different classifiers:"
   ]
  },
  {
   "cell_type": "markdown",
   "metadata": {},
   "source": [
    "# Base DT\n",
    "(a) Base-DT: a Decision Tree with the default parameters. Show the decision tree graphically (for the\n",
    "abalone dataset, you can restrict the tree depth for visualisation purposes)"
   ]
  },
  {
   "cell_type": "markdown",
   "metadata": {},
   "source": [
    "Dataset 1"
   ]
  },
  {
   "cell_type": "code",
   "execution_count": 10,
   "metadata": {},
   "outputs": [
    {
     "data": {
      "text/plain": [
       "DecisionTreeClassifier()"
      ]
     },
     "execution_count": 10,
     "metadata": {},
     "output_type": "execute_result"
    }
   ],
   "source": [
    "# Training base DT\n",
    "base_DT_D1 = DecisionTreeClassifier()\n",
    "base_DT_D1.fit(X_train, y_train)"
   ]
  },
  {
   "cell_type": "code",
   "execution_count": 13,
   "metadata": {},
   "outputs": [
    {
     "data": {
      "text/plain": [
       "[Text(0.6029411764705882, 0.9166666666666666, 'X[2] <= 206.5\\ngini = 0.636\\nsamples = 249\\nvalue = [112, 51, 86]'),\n",
       " Text(0.3235294117647059, 0.75, 'X[0] <= 43.35\\ngini = 0.43\\nsamples = 159\\nvalue = [110, 48, 1]'),\n",
       " Text(0.11764705882352941, 0.5833333333333334, 'X[0] <= 42.35\\ngini = 0.018\\nsamples = 108\\nvalue = [107, 1, 0]'),\n",
       " Text(0.058823529411764705, 0.4166666666666667, 'gini = 0.0\\nsamples = 103\\nvalue = [103, 0, 0]'),\n",
       " Text(0.17647058823529413, 0.4166666666666667, 'X[7] <= 0.5\\ngini = 0.32\\nsamples = 5\\nvalue = [4, 1, 0]'),\n",
       " Text(0.11764705882352941, 0.25, 'gini = 0.0\\nsamples = 4\\nvalue = [4, 0, 0]'),\n",
       " Text(0.23529411764705882, 0.25, 'gini = 0.0\\nsamples = 1\\nvalue = [0, 1, 0]'),\n",
       " Text(0.5294117647058824, 0.5833333333333334, 'X[7] <= 0.5\\ngini = 0.147\\nsamples = 51\\nvalue = [3, 47, 1]'),\n",
       " Text(0.4117647058823529, 0.4166666666666667, 'X[5] <= 0.5\\ngini = 0.444\\nsamples = 3\\nvalue = [2, 0, 1]'),\n",
       " Text(0.35294117647058826, 0.25, 'gini = 0.0\\nsamples = 1\\nvalue = [0, 0, 1]'),\n",
       " Text(0.47058823529411764, 0.25, 'gini = 0.0\\nsamples = 2\\nvalue = [2, 0, 0]'),\n",
       " Text(0.6470588235294118, 0.4166666666666667, 'X[0] <= 44.65\\ngini = 0.041\\nsamples = 48\\nvalue = [1, 47, 0]'),\n",
       " Text(0.5882352941176471, 0.25, 'X[0] <= 43.8\\ngini = 0.5\\nsamples = 2\\nvalue = [1, 1, 0]'),\n",
       " Text(0.5294117647058824, 0.08333333333333333, 'gini = 0.0\\nsamples = 1\\nvalue = [0, 1, 0]'),\n",
       " Text(0.6470588235294118, 0.08333333333333333, 'gini = 0.0\\nsamples = 1\\nvalue = [1, 0, 0]'),\n",
       " Text(0.7058823529411765, 0.25, 'gini = 0.0\\nsamples = 46\\nvalue = [0, 46, 0]'),\n",
       " Text(0.8823529411764706, 0.75, 'X[6] <= 0.5\\ngini = 0.106\\nsamples = 90\\nvalue = [2, 3, 85]'),\n",
       " Text(0.8235294117647058, 0.5833333333333334, 'X[1] <= 18.95\\ngini = 0.48\\nsamples = 5\\nvalue = [2, 3, 0]'),\n",
       " Text(0.7647058823529411, 0.4166666666666667, 'gini = 0.0\\nsamples = 2\\nvalue = [2, 0, 0]'),\n",
       " Text(0.8823529411764706, 0.4166666666666667, 'gini = 0.0\\nsamples = 3\\nvalue = [0, 3, 0]'),\n",
       " Text(0.9411764705882353, 0.5833333333333334, 'gini = 0.0\\nsamples = 85\\nvalue = [0, 0, 85]')]"
      ]
     },
     "execution_count": 13,
     "metadata": {},
     "output_type": "execute_result"
    },
    {
     "data": {
      "image/png": "[encoded data removed]",
      "text/plain": [
       "<Figure size 432x288 with 1 Axes>"
      ]
     },
     "metadata": {
      "needs_background": "light"
     },
     "output_type": "display_data"
    }
   ],
   "source": [
    "# Tree Visualization : https://scikit-learn.org/stable/modules/generated/sklearn.tree.plot_tree.html TODO : change figure size because its really tiny\n",
    "tree.plot_tree(base_DT_D1)"
   ]
  },
  {
   "cell_type": "code",
   "execution_count": 18,
   "metadata": {},
   "outputs": [],
   "source": [
    "# Testing base DT\n",
    "predictions = base_DT_D1.predict(X_test)"
   ]
  },
  {
   "cell_type": "code",
   "execution_count": 22,
   "metadata": {},
   "outputs": [
    {
     "name": "stdout",
     "output_type": "stream",
     "text": [
      "[[33  1  0]\n",
      " [ 1 16  0]\n",
      " [ 0  0 33]]\n",
      "              precision    recall  f1-score   support\n",
      "\n",
      "      Adelie       0.97      0.97      0.97        34\n",
      "   Chinstrap       0.94      0.94      0.94        17\n",
      "      Gentoo       1.00      1.00      1.00        33\n",
      "\n",
      "    accuracy                           0.98        84\n",
      "   macro avg       0.97      0.97      0.97        84\n",
      "weighted avg       0.98      0.98      0.98        84\n",
      "\n"
     ]
    }
   ],
   "source": [
    "# Performance\n",
    "print(confusion_matrix(y_test, predictions))\n",
    "\n",
    "print(classification_report(y_test, predictions))"
   ]
  },
  {
   "cell_type": "code",
   "execution_count": null,
   "metadata": {},
   "outputs": [],
   "source": [
    "# Output file\n",
    "# (A) a clear separator (a sequence of hyphens or stars) and a string clearly describing the model \n",
    "    # (e.g. the model name + hyper-parameter values that you changed). In the case of Top-DT and Top-MLP,\n",
    "    # display the best hyperparameters found by the gridsearch.\n",
    "\n",
    "# (B) the confusion matrix\n",
    "\n",
    "# (C) the precision, recall, and F1-measure for each class\n",
    "\n",
    "# (D) the accuracy, macro-average F1 and weighted-average F1 of the model"
   ]
  },
  {
   "cell_type": "markdown",
   "metadata": {},
   "source": [
    "Dataset 2"
   ]
  },
  {
   "cell_type": "code",
   "execution_count": 23,
   "metadata": {},
   "outputs": [
    {
     "data": {
      "text/plain": [
       "DecisionTreeClassifier()"
      ]
     },
     "execution_count": 23,
     "metadata": {},
     "output_type": "execute_result"
    }
   ],
   "source": [
    "# Training base DT\n",
    "base_DT_D2 = DecisionTreeClassifier()\n",
    "base_DT_D2.fit(X2_train, y2_train)"
   ]
  },
  {
   "cell_type": "code",
   "execution_count": 26,
   "metadata": {},
   "outputs": [
    {
     "data": {
      "text/plain": [
       "[Text(0.498125, 0.9285714285714286, 'X[5] <= 0.144\\ngini = 0.665\\nsamples = 3132\\nvalue = [995, 1004, 1133]'),\n",
       " Text(0.2325, 0.7857142857142857, 'X[7] <= 8.5\\ngini = 0.526\\nsamples = 1291\\nvalue = [193, 823, 275]'),\n",
       " Text(0.105, 0.6428571428571429, 'X[5] <= 0.09\\ngini = 0.367\\nsamples = 864\\nvalue = [63, 672, 129]'),\n",
       " Text(0.05, 0.5, 'X[2] <= 0.15\\ngini = 0.276\\nsamples = 614\\nvalue = [28, 517, 69]'),\n",
       " Text(0.04, 0.35714285714285715, 'X[7] <= 7.5\\ngini = 0.274\\nsamples = 613\\nvalue = [27, 517, 69]'),\n",
       " Text(0.02, 0.21428571428571427, 'X[4] <= 0.09\\ngini = 0.244\\nsamples = 509\\nvalue = [18, 439, 52]'),\n",
       " Text(0.01, 0.07142857142857142, '\\n  (...)  \\n'),\n",
       " Text(0.03, 0.07142857142857142, '\\n  (...)  \\n'),\n",
       " Text(0.06, 0.21428571428571427, 'X[6] <= 0.15\\ngini = 0.403\\nsamples = 104\\nvalue = [9, 78, 17]'),\n",
       " Text(0.05, 0.07142857142857142, '\\n  (...)  \\n'),\n",
       " Text(0.07, 0.07142857142857142, '\\n  (...)  \\n'),\n",
       " Text(0.06, 0.35714285714285715, 'gini = 0.0\\nsamples = 1\\nvalue = [1, 0, 0]'),\n",
       " Text(0.16, 0.5, 'X[4] <= 0.156\\ngini = 0.538\\nsamples = 250\\nvalue = [35, 155, 60]'),\n",
       " Text(0.12, 0.35714285714285715, 'X[3] <= 0.381\\ngini = 0.62\\nsamples = 10\\nvalue = [5, 2, 3]'),\n",
       " Text(0.1, 0.21428571428571427, 'X[2] <= 0.087\\ngini = 0.5\\nsamples = 4\\nvalue = [0, 2, 2]'),\n",
       " Text(0.09, 0.07142857142857142, '\\n  (...)  \\n'),\n",
       " Text(0.11, 0.07142857142857142, '\\n  (...)  \\n'),\n",
       " Text(0.14, 0.21428571428571427, 'X[3] <= 0.407\\ngini = 0.278\\nsamples = 6\\nvalue = [5, 0, 1]'),\n",
       " Text(0.13, 0.07142857142857142, '\\n  (...)  \\n'),\n",
       " Text(0.15, 0.07142857142857142, '\\n  (...)  \\n'),\n",
       " Text(0.2, 0.35714285714285715, 'X[0] <= 0.498\\ngini = 0.522\\nsamples = 240\\nvalue = [30, 153, 57]'),\n",
       " Text(0.18, 0.21428571428571427, 'X[1] <= 0.382\\ngini = 0.554\\nsamples = 167\\nvalue = [21, 99, 47]'),\n",
       " Text(0.17, 0.07142857142857142, '\\n  (...)  \\n'),\n",
       " Text(0.19, 0.07142857142857142, '\\n  (...)  \\n'),\n",
       " Text(0.22, 0.21428571428571427, 'X[6] <= 0.155\\ngini = 0.419\\nsamples = 73\\nvalue = [9, 54, 10]'),\n",
       " Text(0.21, 0.07142857142857142, '\\n  (...)  \\n'),\n",
       " Text(0.23, 0.07142857142857142, '\\n  (...)  \\n'),\n",
       " Text(0.36, 0.6428571428571429, 'X[7] <= 9.5\\ngini = 0.665\\nsamples = 427\\nvalue = [130, 151, 146]'),\n",
       " Text(0.305, 0.5, 'X[0] <= 0.512\\ngini = 0.609\\nsamples = 160\\nvalue = [28, 82, 50]'),\n",
       " Text(0.28, 0.35714285714285715, 'X[3] <= 0.629\\ngini = 0.632\\nsamples = 133\\nvalue = [25, 59, 49]'),\n",
       " Text(0.26, 0.21428571428571427, 'X[0] <= 0.463\\ngini = 0.627\\nsamples = 125\\nvalue = [24, 59, 42]'),\n",
       " Text(0.25, 0.07142857142857142, '\\n  (...)  \\n'),\n",
       " Text(0.27, 0.07142857142857142, '\\n  (...)  \\n'),\n",
       " Text(0.3, 0.21428571428571427, 'X[5] <= 0.14\\ngini = 0.219\\nsamples = 8\\nvalue = [1, 0, 7]'),\n",
       " Text(0.29, 0.07142857142857142, '\\n  (...)  \\n'),\n",
       " Text(0.31, 0.07142857142857142, '\\n  (...)  \\n'),\n",
       " Text(0.33, 0.35714285714285715, 'X[5] <= 0.131\\ngini = 0.261\\nsamples = 27\\nvalue = [3, 23, 1]'),\n",
       " Text(0.32, 0.21428571428571427, 'gini = 0.0\\nsamples = 16\\nvalue = [0, 16, 0]'),\n",
       " Text(0.34, 0.21428571428571427, 'X[1] <= 0.41\\ngini = 0.512\\nsamples = 11\\nvalue = [3, 7, 1]'),\n",
       " Text(0.33, 0.07142857142857142, '\\n  (...)  \\n'),\n",
       " Text(0.35, 0.07142857142857142, '\\n  (...)  \\n'),\n",
       " Text(0.415, 0.5, 'X[6] <= 0.069\\ngini = 0.658\\nsamples = 267\\nvalue = [102, 69, 96]'),\n",
       " Text(0.39, 0.35714285714285715, 'X[5] <= 0.033\\ngini = 0.245\\nsamples = 14\\nvalue = [0, 2, 12]'),\n",
       " Text(0.38, 0.21428571428571427, 'X[1] <= 0.235\\ngini = 0.444\\nsamples = 3\\nvalue = [0, 2, 1]'),\n",
       " Text(0.37, 0.07142857142857142, '\\n  (...)  \\n'),\n",
       " Text(0.39, 0.07142857142857142, '\\n  (...)  \\n'),\n",
       " Text(0.4, 0.21428571428571427, 'gini = 0.0\\nsamples = 11\\nvalue = [0, 0, 11]'),\n",
       " Text(0.44, 0.35714285714285715, 'X[1] <= 0.407\\ngini = 0.657\\nsamples = 253\\nvalue = [102, 67, 84]'),\n",
       " Text(0.42, 0.21428571428571427, 'X[3] <= 0.533\\ngini = 0.646\\nsamples = 223\\nvalue = [98, 53, 72]'),\n",
       " Text(0.41, 0.07142857142857142, '\\n  (...)  \\n'),\n",
       " Text(0.43, 0.07142857142857142, '\\n  (...)  \\n'),\n",
       " Text(0.46, 0.21428571428571427, 'X[7] <= 11.5\\ngini = 0.604\\nsamples = 30\\nvalue = [4, 14, 12]'),\n",
       " Text(0.45, 0.07142857142857142, '\\n  (...)  \\n'),\n",
       " Text(0.47, 0.07142857142857142, '\\n  (...)  \\n'),\n",
       " Text(0.76375, 0.7857142857142857, 'X[3] <= 0.874\\ngini = 0.583\\nsamples = 1841\\nvalue = [802, 181, 858]'),\n",
       " Text(0.6325, 0.6428571428571429, 'X[0] <= 0.538\\ngini = 0.656\\nsamples = 458\\nvalue = [158, 117, 183]'),\n",
       " Text(0.56, 0.5, 'X[1] <= 0.422\\ngini = 0.623\\nsamples = 243\\nvalue = [96, 40, 107]'),\n",
       " Text(0.52, 0.35714285714285715, 'X[2] <= 0.163\\ngini = 0.619\\nsamples = 204\\nvalue = [71, 35, 98]'),\n",
       " Text(0.5, 0.21428571428571427, 'X[6] <= 0.262\\ngini = 0.619\\nsamples = 186\\nvalue = [59, 35, 92]'),\n",
       " Text(0.49, 0.07142857142857142, '\\n  (...)  \\n'),\n",
       " Text(0.51, 0.07142857142857142, '\\n  (...)  \\n'),\n",
       " Text(0.54, 0.21428571428571427, 'X[5] <= 0.17\\ngini = 0.444\\nsamples = 18\\nvalue = [12, 0, 6]'),\n",
       " Text(0.53, 0.07142857142857142, '\\n  (...)  \\n'),\n",
       " Text(0.55, 0.07142857142857142, '\\n  (...)  \\n'),\n",
       " Text(0.6, 0.35714285714285715, 'X[3] <= 0.707\\ngini = 0.519\\nsamples = 39\\nvalue = [25, 5, 9]'),\n",
       " Text(0.58, 0.21428571428571427, 'X[6] <= 0.204\\ngini = 0.5\\nsamples = 4\\nvalue = [0, 2, 2]'),\n",
       " Text(0.57, 0.07142857142857142, '\\n  (...)  \\n'),\n",
       " Text(0.59, 0.07142857142857142, '\\n  (...)  \\n'),\n",
       " Text(0.62, 0.21428571428571427, 'X[6] <= 0.257\\ngini = 0.442\\nsamples = 35\\nvalue = [25, 3, 7]'),\n",
       " Text(0.61, 0.07142857142857142, '\\n  (...)  \\n'),\n",
       " Text(0.63, 0.07142857142857142, '\\n  (...)  \\n'),\n",
       " Text(0.705, 0.5, 'X[3] <= 0.775\\ngini = 0.664\\nsamples = 215\\nvalue = [62, 77, 76]'),\n",
       " Text(0.68, 0.35714285714285715, 'X[7] <= 11.5\\ngini = 0.583\\nsamples = 65\\nvalue = [13, 37, 15]'),\n",
       " Text(0.66, 0.21428571428571427, 'X[6] <= 0.272\\ngini = 0.506\\nsamples = 53\\nvalue = [10, 35, 8]'),\n",
       " Text(0.65, 0.07142857142857142, '\\n  (...)  \\n'),\n",
       " Text(0.67, 0.07142857142857142, '\\n  (...)  \\n'),\n",
       " Text(0.7, 0.21428571428571427, 'X[0] <= 0.567\\ngini = 0.569\\nsamples = 12\\nvalue = [3, 2, 7]'),\n",
       " Text(0.69, 0.07142857142857142, '\\n  (...)  \\n'),\n",
       " Text(0.71, 0.07142857142857142, '\\n  (...)  \\n'),\n",
       " Text(0.73, 0.35714285714285715, 'X[4] <= 0.293\\ngini = 0.657\\nsamples = 150\\nvalue = [49, 40, 61]'),\n",
       " Text(0.72, 0.21428571428571427, 'gini = 0.0\\nsamples = 6\\nvalue = [0, 0, 6]'),\n",
       " Text(0.74, 0.21428571428571427, 'X[4] <= 0.4\\ngini = 0.661\\nsamples = 144\\nvalue = [49, 40, 55]'),\n",
       " Text(0.73, 0.07142857142857142, '\\n  (...)  \\n'),\n",
       " Text(0.75, 0.07142857142857142, '\\n  (...)  \\n'),\n",
       " Text(0.895, 0.6428571428571429, 'X[4] <= 0.873\\ngini = 0.543\\nsamples = 1383\\nvalue = [644, 64, 675]'),\n",
       " Text(0.84, 0.5, 'X[5] <= 0.301\\ngini = 0.545\\nsamples = 1321\\nvalue = [628, 64, 629]'),\n",
       " Text(0.8, 0.35714285714285715, 'X[0] <= 0.527\\ngini = 0.553\\nsamples = 945\\nvalue = [410, 58, 477]'),\n",
       " Text(0.78, 0.21428571428571427, 'X[6] <= 0.316\\ngini = 0.266\\nsamples = 19\\nvalue = [3, 0, 16]'),\n",
       " Text(0.77, 0.07142857142857142, '\\n  (...)  \\n'),\n",
       " Text(0.79, 0.07142857142857142, '\\n  (...)  \\n'),\n",
       " Text(0.82, 0.21428571428571427, 'X[3] <= 1.137\\ngini = 0.555\\nsamples = 926\\nvalue = [407, 58, 461]'),\n",
       " Text(0.81, 0.07142857142857142, '\\n  (...)  \\n'),\n",
       " Text(0.83, 0.07142857142857142, '\\n  (...)  \\n'),\n",
       " Text(0.88, 0.35714285714285715, 'X[1] <= 0.543\\ngini = 0.5\\nsamples = 376\\nvalue = [218, 6, 152]'),\n",
       " Text(0.86, 0.21428571428571427, 'X[4] <= 0.664\\ngini = 0.513\\nsamples = 278\\nvalue = [149, 5, 124]'),\n",
       " Text(0.85, 0.07142857142857142, '\\n  (...)  \\n'),\n",
       " Text(0.87, 0.07142857142857142, '\\n  (...)  \\n'),\n",
       " Text(0.9, 0.21428571428571427, 'X[0] <= 0.752\\ngini = 0.423\\nsamples = 98\\nvalue = [69, 1, 28]'),\n",
       " Text(0.89, 0.07142857142857142, '\\n  (...)  \\n'),\n",
       " Text(0.91, 0.07142857142857142, '\\n  (...)  \\n'),\n",
       " Text(0.95, 0.5, 'X[5] <= 0.459\\ngini = 0.383\\nsamples = 62\\nvalue = [16, 0, 46]'),\n",
       " Text(0.93, 0.35714285714285715, 'X[1] <= 0.455\\ngini = 0.245\\nsamples = 35\\nvalue = [5, 0, 30]'),\n",
       " Text(0.92, 0.21428571428571427, 'gini = 0.0\\nsamples = 1\\nvalue = [1, 0, 0]'),\n",
       " Text(0.94, 0.21428571428571427, 'X[2] <= 0.172\\ngini = 0.208\\nsamples = 34\\nvalue = [4, 0, 30]'),\n",
       " Text(0.93, 0.07142857142857142, '\\n  (...)  \\n'),\n",
       " Text(0.95, 0.07142857142857142, '\\n  (...)  \\n'),\n",
       " Text(0.97, 0.35714285714285715, 'X[2] <= 0.192\\ngini = 0.483\\nsamples = 27\\nvalue = [11, 0, 16]'),\n",
       " Text(0.96, 0.21428571428571427, 'gini = 0.0\\nsamples = 7\\nvalue = [0, 0, 7]'),\n",
       " Text(0.98, 0.21428571428571427, 'X[5] <= 0.521\\ngini = 0.495\\nsamples = 20\\nvalue = [11, 0, 9]'),\n",
       " Text(0.97, 0.07142857142857142, '\\n  (...)  \\n'),\n",
       " Text(0.99, 0.07142857142857142, '\\n  (...)  \\n')]"
      ]
     },
     "execution_count": 26,
     "metadata": {},
     "output_type": "execute_result"
    },
    {
     "data": {
      "image/png": "[encoded data removed]",
      "text/plain": [
       "<Figure size 432x288 with 1 Axes>"
      ]
     },
     "metadata": {
      "needs_background": "light"
     },
     "output_type": "display_data"
    }
   ],
   "source": [
    "# Tree Visualization : https://scikit-learn.org/stable/modules/generated/sklearn.tree.plot_tree.html TODO : change figure size because its really tiny\n",
    "tree.plot_tree(base_DT_D2, max_depth=5)"
   ]
  },
  {
   "cell_type": "code",
   "execution_count": 27,
   "metadata": {},
   "outputs": [],
   "source": [
    "# Testing base DT\n",
    "predictions2 = base_DT_D2.predict(X2_test)"
   ]
  },
  {
   "cell_type": "code",
   "execution_count": 28,
   "metadata": {},
   "outputs": [
    {
     "name": "stdout",
     "output_type": "stream",
     "text": [
      "[[124  52 136]\n",
      " [ 50 205  83]\n",
      " [149  65 181]]\n",
      "              precision    recall  f1-score   support\n",
      "\n",
      "           F       0.38      0.40      0.39       312\n",
      "           I       0.64      0.61      0.62       338\n",
      "           M       0.45      0.46      0.46       395\n",
      "\n",
      "    accuracy                           0.49      1045\n",
      "   macro avg       0.49      0.49      0.49      1045\n",
      "weighted avg       0.49      0.49      0.49      1045\n",
      "\n"
     ]
    }
   ],
   "source": [
    "# Performance\n",
    "print(confusion_matrix(y2_test, predictions2))\n",
    "\n",
    "print(classification_report(y2_test, predictions2))"
   ]
  },
  {
   "cell_type": "code",
   "execution_count": null,
   "metadata": {},
   "outputs": [],
   "source": [
    "# Output file\n",
    "# (A) a clear separator (a sequence of hyphens or stars) and a string clearly describing the model \n",
    "    # (e.g. the model name + hyper-parameter values that you changed). In the case of Top-DT and Top-MLP,\n",
    "    # display the best hyperparameters found by the gridsearch.\n",
    "\n",
    "# (B) the confusion matrix\n",
    "\n",
    "# (C) the precision, recall, and F1-measure for each class\n",
    "\n",
    "# (D) the accuracy, macro-average F1 and weighted-average F1 of the model"
   ]
  },
  {
   "cell_type": "markdown",
   "metadata": {},
   "source": [
    "# TOP DT\n",
    "(b) Top-DT: a better performing Decision Tree found using a gridsearch. The gridsearch will allow you\n",
    "to find the best combination of hyper-parameters, as determined by the evaluation function that you\n",
    "have determined in step (3) above. The hyper-parameters that you will experiment with are:\n",
    "• criterion: gini or entropy\n",
    "• max depth : 2 different values of your choice and ”None”\n",
    "• min samples split: 3 different values of your choice\n",
    "Show the decision tree graphically (for the abalone dataset, you can restrict the tree depth for visualisation purposes)"
   ]
  },
  {
   "cell_type": "markdown",
   "metadata": {},
   "source": [
    "Dataset 1"
   ]
  },
  {
   "cell_type": "code",
   "execution_count": 34,
   "metadata": {},
   "outputs": [
    {
     "name": "stdout",
     "output_type": "stream",
     "text": [
      "{'criterion': 'entropy', 'max_depth': None, 'min_samples_split': 2}\n"
     ]
    }
   ],
   "source": [
    "# Training top DT\n",
    "parameters = {'criterion':['gini','entropy'], 'max_depth':[3,5,None], 'min_samples_split':[2,5,10]}\n",
    "\n",
    "top_DT_D1 = DecisionTreeClassifier()\n",
    "top_DT_D1 = GridSearchCV(top_DT_D1, parameters)\n",
    "\n",
    "top_DT_D1.fit(X_train, y_train)\n",
    "\n",
    "print(top_DT_D1.best_params_)"
   ]
  },
  {
   "cell_type": "code",
   "execution_count": 35,
   "metadata": {},
   "outputs": [],
   "source": [
    "# Testing base DT\n",
    "predictions = top_DT_D1.predict(X_test)"
   ]
  },
  {
   "cell_type": "code",
   "execution_count": 36,
   "metadata": {},
   "outputs": [
    {
     "name": "stdout",
     "output_type": "stream",
     "text": [
      "[[34  0  0]\n",
      " [ 1 16  0]\n",
      " [ 0  0 33]]\n",
      "              precision    recall  f1-score   support\n",
      "\n",
      "      Adelie       0.97      1.00      0.99        34\n",
      "   Chinstrap       1.00      0.94      0.97        17\n",
      "      Gentoo       1.00      1.00      1.00        33\n",
      "\n",
      "    accuracy                           0.99        84\n",
      "   macro avg       0.99      0.98      0.99        84\n",
      "weighted avg       0.99      0.99      0.99        84\n",
      "\n"
     ]
    }
   ],
   "source": [
    "# Performance\n",
    "print(confusion_matrix(y_test, predictions))\n",
    "\n",
    "print(classification_report(y_test, predictions))"
   ]
  },
  {
   "cell_type": "code",
   "execution_count": null,
   "metadata": {},
   "outputs": [],
   "source": [
    "# Output file\n",
    "# (A) a clear separator (a sequence of hyphens or stars) and a string clearly describing the model \n",
    "    # (e.g. the model name + hyper-parameter values that you changed). In the case of Top-DT and Top-MLP,\n",
    "    # display the best hyperparameters found by the gridsearch.\n",
    "\n",
    "# (B) the confusion matrix\n",
    "\n",
    "# (C) the precision, recall, and F1-measure for each class\n",
    "\n",
    "# (D) the accuracy, macro-average F1 and weighted-average F1 of the model"
   ]
  },
  {
   "cell_type": "markdown",
   "metadata": {},
   "source": [
    "Dataset 2"
   ]
  },
  {
   "cell_type": "code",
   "execution_count": 44,
   "metadata": {},
   "outputs": [
    {
     "name": "stdout",
     "output_type": "stream",
     "text": [
      "{'criterion': 'entropy', 'max_depth': 3, 'min_samples_split': 2}\n"
     ]
    }
   ],
   "source": [
    "# Training top DT\n",
    "parameters = {'criterion':['gini','entropy'], 'max_depth':[3,10,None], 'min_samples_split':[2,5,10]}\n",
    "\n",
    "top_DT_D2 = DecisionTreeClassifier()\n",
    "top_DT_D2 = GridSearchCV(top_DT_D2, parameters)\n",
    "\n",
    "top_DT_D2.fit(X2_train, y2_train)\n",
    "\n",
    "print(top_DT_D2.best_params_)"
   ]
  },
  {
   "cell_type": "code",
   "execution_count": 45,
   "metadata": {},
   "outputs": [],
   "source": [
    "# Testing base DT\n",
    "predictions = top_DT_D2.predict(X2_test)"
   ]
  },
  {
   "cell_type": "code",
   "execution_count": 42,
   "metadata": {},
   "outputs": [
    {
     "name": "stdout",
     "output_type": "stream",
     "text": [
      "[[198  36  78]\n",
      " [ 48 241  49]\n",
      " [218  67 110]]\n",
      "              precision    recall  f1-score   support\n",
      "\n",
      "           F       0.43      0.63      0.51       312\n",
      "           I       0.70      0.71      0.71       338\n",
      "           M       0.46      0.28      0.35       395\n",
      "\n",
      "    accuracy                           0.53      1045\n",
      "   macro avg       0.53      0.54      0.52      1045\n",
      "weighted avg       0.53      0.53      0.51      1045\n",
      "\n"
     ]
    }
   ],
   "source": [
    "# Performance\n",
    "print(confusion_matrix(y2_test, predictions))\n",
    "\n",
    "print(classification_report(y2_test, predictions))"
   ]
  },
  {
   "cell_type": "code",
   "execution_count": null,
   "metadata": {},
   "outputs": [],
   "source": [
    "# Output file\n",
    "# (A) a clear separator (a sequence of hyphens or stars) and a string clearly describing the model \n",
    "    # (e.g. the model name + hyper-parameter values that you changed). In the case of Top-DT and Top-MLP,\n",
    "    # display the best hyperparameters found by the gridsearch.\n",
    "\n",
    "# (B) the confusion matrix\n",
    "\n",
    "# (C) the precision, recall, and F1-measure for each class\n",
    "\n",
    "# (D) the accuracy, macro-average F1 and weighted-average F1 of the model"
   ]
  },
  {
   "cell_type": "markdown",
   "metadata": {},
   "source": [
    "# BASE MLP\n",
    "(c) Base-MLP: a Multi-Layered Perceptron with 2 hidden layers of 100+100 neurons, sigmoid/logistic\n",
    "as activation function, stochastic gradient descent, and default values for the rest of the parameters"
   ]
  },
  {
   "cell_type": "markdown",
   "metadata": {},
   "source": [
    "Dataset 1"
   ]
  },
  {
   "cell_type": "code",
   "execution_count": 65,
   "metadata": {},
   "outputs": [
    {
     "data": {
      "text/plain": [
       "MLPClassifier(activation='logistic', hidden_layer_sizes=(100, 100),\n",
       "              solver='sgd')"
      ]
     },
     "execution_count": 65,
     "metadata": {},
     "output_type": "execute_result"
    }
   ],
   "source": [
    "# Training base MLP\n",
    "base_MLP_d1 = MLPClassifier(hidden_layer_sizes=(100,100), activation='logistic', solver='sgd')\n",
    "base_MLP_d1.fit(X_train, y_train)"
   ]
  },
  {
   "cell_type": "code",
   "execution_count": 66,
   "metadata": {},
   "outputs": [],
   "source": [
    "# Testing base MLP\n",
    "predictions = base_MLP_d1.predict(X_test)"
   ]
  },
  {
   "cell_type": "code",
   "execution_count": 67,
   "metadata": {},
   "outputs": [
    {
     "name": "stdout",
     "output_type": "stream",
     "text": [
      "[[39  0  0]\n",
      " [13  0  0]\n",
      " [32  0  0]]\n",
      "              precision    recall  f1-score   support\n",
      "\n",
      "      Adelie       0.46      1.00      0.63        39\n",
      "   Chinstrap       0.00      0.00      0.00        13\n",
      "      Gentoo       0.00      0.00      0.00        32\n",
      "\n",
      "    accuracy                           0.46        84\n",
      "   macro avg       0.15      0.33      0.21        84\n",
      "weighted avg       0.22      0.46      0.29        84\n",
      "\n"
     ]
    },
    {
     "name": "stderr",
     "output_type": "stream",
     "text": [
      "c:\\Users\\Caste\\anaconda3\\lib\\site-packages\\sklearn\\metrics\\_classification.py:1318: UndefinedMetricWarning: Precision and F-score are ill-defined and being set to 0.0 in labels with no predicted samples. Use `zero_division` parameter to control this behavior.\n",
      "  _warn_prf(average, modifier, msg_start, len(result))\n",
      "c:\\Users\\Caste\\anaconda3\\lib\\site-packages\\sklearn\\metrics\\_classification.py:1318: UndefinedMetricWarning: Precision and F-score are ill-defined and being set to 0.0 in labels with no predicted samples. Use `zero_division` parameter to control this behavior.\n",
      "  _warn_prf(average, modifier, msg_start, len(result))\n",
      "c:\\Users\\Caste\\anaconda3\\lib\\site-packages\\sklearn\\metrics\\_classification.py:1318: UndefinedMetricWarning: Precision and F-score are ill-defined and being set to 0.0 in labels with no predicted samples. Use `zero_division` parameter to control this behavior.\n",
      "  _warn_prf(average, modifier, msg_start, len(result))\n"
     ]
    }
   ],
   "source": [
    "# Performance TODO : VERY BAD AND HAS A WARNING>>> RECHECK STUFF\n",
    "print(confusion_matrix(y_test, predictions))\n",
    "\n",
    "print(classification_report(y_test, predictions))"
   ]
  },
  {
   "cell_type": "code",
   "execution_count": null,
   "metadata": {},
   "outputs": [],
   "source": [
    "# Output File"
   ]
  },
  {
   "cell_type": "markdown",
   "metadata": {},
   "source": [
    "(d) Top-MLP: a better performing Multi-Layered Perceptron found using grid search. For this, you need\n",
    "to experiment with the following hyper-parameter values:\n",
    "• activation function: sigmoid, tanh and relu\n",
    "• 2 network architectures of your choice: for eg 2 hidden layers with 30 + 50 nodes, 3 hidden layers\n",
    "with 10 + 10 + 10\n",
    "• solver: adam and stochastic gradient descent"
   ]
  },
  {
   "cell_type": "code",
   "execution_count": null,
   "metadata": {},
   "outputs": [],
   "source": []
  },
  {
   "cell_type": "markdown",
   "metadata": {},
   "source": [
    "5. For each of the 4 classifiers above 4(a), 4(b), 4(c) and 4(d), append the following information in a file called\n",
    "penguin-performance.txt / abalone-performance.txt: (to make it easier for the TAs, make sure that\n",
    "your output for each sub-question below is clearly marked in your output file, using the headings (A),\n",
    "(B) . . .)\n",
    "(A) a clear separator (a sequence of hyphens or stars) and a string clearly describing the model (e.g. the\n",
    "model name + hyper-parameter values that you changed). In the case of Top-DT and Top-MLP,\n",
    "display the best hyperparameters found by the gridsearch.\n",
    "(B) the confusion matrix\n",
    "(C) the precision, recall, and F1-measure for each class\n",
    "(D) the accuracy, macro-average F1 and weighted-average F1 of the model"
   ]
  },
  {
   "cell_type": "code",
   "execution_count": null,
   "metadata": {},
   "outputs": [],
   "source": []
  },
  {
   "cell_type": "markdown",
   "metadata": {},
   "source": [
    "6. Redo steps 4 & 5, 5 times for each model and append in the performance files:\n",
    "(A) the average accuracy & the variance,\n",
    "(B) average macro-average F1 & the variance,\n",
    "(C) average weighted-average F1 & the variance.\n",
    "Does the same model give you the same performance every time? is the standard deviation high? Be ready\n",
    "to discuss this at the demo."
   ]
  },
  {
   "cell_type": "markdown",
   "metadata": {},
   "source": []
  },
  {
   "cell_type": "code",
   "execution_count": null,
   "metadata": {},
   "outputs": [],
   "source": []
  }
 ],
 "metadata": {
  "kernelspec": {
   "display_name": "Python 3 (ipykernel)",
   "language": "python",
   "name": "python3"
  },
  "language_info": {
   "codemirror_mode": {
    "name": "ipython",
    "version": 3
   },
   "file_extension": ".py",
   "mimetype": "text/x-python",
   "name": "python",
   "nbconvert_exporter": "python",
   "pygments_lexer": "ipython3",
   "version": "3.9.12"
  }
 },
 "nbformat": 4,
 "nbformat_minor": 5
}
